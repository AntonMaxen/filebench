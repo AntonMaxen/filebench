{
 "cells": [
  {
   "cell_type": "code",
   "execution_count": 19,
   "metadata": {},
   "outputs": [
    {
     "data": {
      "text/html": [
       "<div>\n",
       "<style scoped>\n",
       "    .dataframe tbody tr th:only-of-type {\n",
       "        vertical-align: middle;\n",
       "    }\n",
       "\n",
       "    .dataframe tbody tr th {\n",
       "        vertical-align: top;\n",
       "    }\n",
       "\n",
       "    .dataframe thead th {\n",
       "        text-align: right;\n",
       "    }\n",
       "</style>\n",
       "<table border=\"1\" class=\"dataframe\">\n",
       "  <thead>\n",
       "    <tr style=\"text-align: right;\">\n",
       "      <th></th>\n",
       "      <th>timestamp</th>\n",
       "      <th>user_id</th>\n",
       "      <th>pixel_color</th>\n",
       "      <th>coordinate</th>\n",
       "      <th>conv_timestamp</th>\n",
       "    </tr>\n",
       "  </thead>\n",
       "  <tbody>\n",
       "    <tr>\n",
       "      <th>0</th>\n",
       "      <td>2022-04-01 15:38:01.116 UTC</td>\n",
       "      <td>WYFuP/nwVCIBrw5XOVYKsHyo/fJpOJcIXCm75iKLqEz92B...</td>\n",
       "      <td>#000000</td>\n",
       "      <td>191,662</td>\n",
       "      <td>2022-04-01 15:38:01.116000+00:00</td>\n",
       "    </tr>\n",
       "    <tr>\n",
       "      <th>1</th>\n",
       "      <td>2022-04-01 15:38:01.124 UTC</td>\n",
       "      <td>1Fie0j8msAiBmD5+NfV4SdY6ilMDHV9XJc6zWdhgAyrc8H...</td>\n",
       "      <td>#000000</td>\n",
       "      <td>239,18</td>\n",
       "      <td>2022-04-01 15:38:01.124000+00:00</td>\n",
       "    </tr>\n",
       "    <tr>\n",
       "      <th>2</th>\n",
       "      <td>2022-04-01 15:38:01.13 UTC</td>\n",
       "      <td>qvqMCBzdQyIL1ET+iZvXilEjCrt7cjq3oPG3uUad8tWi1X...</td>\n",
       "      <td>#FFFFFF</td>\n",
       "      <td>722,727</td>\n",
       "      <td>2022-04-01 15:38:01.130000+00:00</td>\n",
       "    </tr>\n",
       "    <tr>\n",
       "      <th>3</th>\n",
       "      <td>2022-04-01 15:38:01.131 UTC</td>\n",
       "      <td>TGLWFhne7tzE8iBhUWm7K3m6SrH+2xBl599XMhdtvV6RqV...</td>\n",
       "      <td>#FF4500</td>\n",
       "      <td>645,46</td>\n",
       "      <td>2022-04-01 15:38:01.131000+00:00</td>\n",
       "    </tr>\n",
       "    <tr>\n",
       "      <th>4</th>\n",
       "      <td>2022-04-01 15:38:01.134 UTC</td>\n",
       "      <td>C1E2rtkIcBP+omujs+YcSHfdWfCBpcxq6uIQpSlekwfyIq...</td>\n",
       "      <td>#FFFFFF</td>\n",
       "      <td>904,83</td>\n",
       "      <td>2022-04-01 15:38:01.134000+00:00</td>\n",
       "    </tr>\n",
       "  </tbody>\n",
       "</table>\n",
       "</div>"
      ],
      "text/plain": [
       "                     timestamp  \\\n",
       "0  2022-04-01 15:38:01.116 UTC   \n",
       "1  2022-04-01 15:38:01.124 UTC   \n",
       "2   2022-04-01 15:38:01.13 UTC   \n",
       "3  2022-04-01 15:38:01.131 UTC   \n",
       "4  2022-04-01 15:38:01.134 UTC   \n",
       "\n",
       "                                             user_id pixel_color coordinate  \\\n",
       "0  WYFuP/nwVCIBrw5XOVYKsHyo/fJpOJcIXCm75iKLqEz92B...     #000000    191,662   \n",
       "1  1Fie0j8msAiBmD5+NfV4SdY6ilMDHV9XJc6zWdhgAyrc8H...     #000000     239,18   \n",
       "2  qvqMCBzdQyIL1ET+iZvXilEjCrt7cjq3oPG3uUad8tWi1X...     #FFFFFF    722,727   \n",
       "3  TGLWFhne7tzE8iBhUWm7K3m6SrH+2xBl599XMhdtvV6RqV...     #FF4500     645,46   \n",
       "4  C1E2rtkIcBP+omujs+YcSHfdWfCBpcxq6uIQpSlekwfyIq...     #FFFFFF     904,83   \n",
       "\n",
       "                    conv_timestamp  \n",
       "0 2022-04-01 15:38:01.116000+00:00  \n",
       "1 2022-04-01 15:38:01.124000+00:00  \n",
       "2 2022-04-01 15:38:01.130000+00:00  \n",
       "3 2022-04-01 15:38:01.131000+00:00  \n",
       "4 2022-04-01 15:38:01.134000+00:00  "
      ]
     },
     "execution_count": 19,
     "metadata": {},
     "output_type": "execute_result"
    }
   ],
   "source": [
    "import pyarrow.parquet as parquet\n",
    "import pyarrow.feather as feather\n",
    "import pyarrow.orc as orc\n",
    "import pyarrow.csv as csv\n",
    "import pyarrow as pa\n",
    "from pathlib import Path\n",
    "import gc\n",
    "import time\n",
    "import os\n",
    "import psutil\n",
    "import json\n",
    "from timeit import default_timer as timer\n",
    "from datetime import timedelta\n",
    "import pandas as pd\n",
    "\n",
    "reddit_place = '2022_place_canvas_history'\n",
    "original_csv_file = f'data/small/day1/original/{reddit_place}.csv'\n",
    "\n",
    "df = csv.read_csv(original_csv_file).to_pandas()\n",
    "df.head()"
   ]
  },
  {
   "cell_type": "code",
   "execution_count": 17,
   "metadata": {},
   "outputs": [],
   "source": [
    "new_df = df.drop('', axis=1)"
   ]
  },
  {
   "cell_type": "code",
   "execution_count": 3,
   "metadata": {},
   "outputs": [],
   "source": [
    "df2 = pd.read_csv(original_csv_file)"
   ]
  },
  {
   "cell_type": "code",
   "execution_count": 8,
   "metadata": {},
   "outputs": [],
   "source": [
    "new_df = df.drop('__index_level_0__', axis=1)"
   ]
  },
  {
   "cell_type": "code",
   "execution_count": 18,
   "metadata": {},
   "outputs": [],
   "source": [
    "new_df.to_csv(original_csv_file, index=False)"
   ]
  }
 ],
 "metadata": {
  "interpreter": {
   "hash": "1014a147ebe84edf89cc949d1474b378add343e44159593a1f5b609a8f202a90"
  },
  "kernelspec": {
   "display_name": "Python 3.8.10 ('venv': venv)",
   "language": "python",
   "name": "python3"
  },
  "language_info": {
   "codemirror_mode": {
    "name": "ipython",
    "version": 3
   },
   "file_extension": ".py",
   "mimetype": "text/x-python",
   "name": "python",
   "nbconvert_exporter": "python",
   "pygments_lexer": "ipython3",
   "version": "3.8.10"
  },
  "orig_nbformat": 4
 },
 "nbformat": 4,
 "nbformat_minor": 2
}
