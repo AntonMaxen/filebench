{
 "cells": [
  {
   "cell_type": "code",
   "execution_count": 6,
   "metadata": {},
   "outputs": [],
   "source": [
    "import pyarrow.parquet as parquet\n",
    "import pyarrow.feather as feather\n",
    "import pyarrow.orc as orc\n",
    "import pyarrow.csv as csv\n",
    "import pandas as pd\n",
    "from timeit import default_timer as timer\n",
    "from datetime import timedelta\n",
    "import pyarrow as pa\n",
    "\n",
    "reddit_place = '2022_place_canvas_history'\n",
    "parquet_file = f'data/small/day1/{reddit_place}.parquet'\n",
    "feather_file = f'data/small/day1/{reddit_place}.feather'\n",
    "orc_file = f'data/small/day1/{reddit_place}.orc'\n",
    "csv_file = f'data/small/day1/{reddit_place}.csv'\n",
    "large_parquet = f'data/convtimestamp/{reddit_place}.parquet'\n",
    "large_csv = f'data/convtimestamp/{reddit_place}.csv'"
   ]
  },
  {
   "cell_type": "code",
   "execution_count": 2,
   "metadata": {},
   "outputs": [],
   "source": [
    "df = csv.read_csv(csv_file).to_pandas()"
   ]
  },
  {
   "cell_type": "code",
   "execution_count": 4,
   "metadata": {},
   "outputs": [],
   "source": [
    "table = pa.Table.from_pandas(df)"
   ]
  },
  {
   "cell_type": "code",
   "execution_count": 5,
   "metadata": {},
   "outputs": [],
   "source": [
    "with pa.CompressedOutputStream(f'{csv_file}.zstd', 'zstd') as out:\n",
    "    csv.write_csv(table, out)"
   ]
  },
  {
   "cell_type": "code",
   "execution_count": 6,
   "metadata": {},
   "outputs": [],
   "source": [
    "with pa.CompressedOutputStream(f'{parquet_file}.zstd', 'zstd') as out:\n",
    "    parquet.write_table(table, out)"
   ]
  },
  {
   "cell_type": "code",
   "execution_count": 9,
   "metadata": {},
   "outputs": [
    {
     "data": {
      "text/plain": [
       "12278385"
      ]
     },
     "execution_count": 9,
     "metadata": {},
     "output_type": "execute_result"
    }
   ],
   "source": [
    "with pa.CompressedInputStream(pa.OSFile(f'{csv_file}.zstd'), 'zstd') as input:\n",
    "    csv_table = csv.read_csv(input)\n",
    "\n",
    "csv_table.num_rows"
   ]
  },
  {
   "cell_type": "code",
   "execution_count": null,
   "metadata": {},
   "outputs": [],
   "source": []
  },
  {
   "cell_type": "code",
   "execution_count": null,
   "metadata": {},
   "outputs": [],
   "source": [
    "df = parquet.read_table(parquet_file, columns=['user_id'])"
   ]
  },
  {
   "cell_type": "code",
   "execution_count": 10,
   "metadata": {},
   "outputs": [],
   "source": [
    "pq = parquet.ParquetFile(parquet_file)"
   ]
  },
  {
   "cell_type": "code",
   "execution_count": 11,
   "metadata": {},
   "outputs": [
    {
     "name": "stdout",
     "output_type": "stream",
     "text": [
      "{'columns': 5, 'rows': 12278385, 'row_groups': 1}\n"
     ]
    }
   ],
   "source": [
    "data = {\n",
    "    \"columns\": pq.metadata.num_columns,\n",
    "    \"rows\": pq.metadata.num_rows,\n",
    "    \"row_groups\": pq.metadata.num_row_groups\n",
    "}\n",
    "print(data)"
   ]
  },
  {
   "cell_type": "code",
   "execution_count": 12,
   "metadata": {},
   "outputs": [
    {
     "data": {
      "text/plain": [
       "['timestamp', 'user_id', 'pixel_color', 'coordinate', 'conv_timestamp']"
      ]
     },
     "execution_count": 12,
     "metadata": {},
     "output_type": "execute_result"
    }
   ],
   "source": [
    "pq.schema.names"
   ]
  },
  {
   "cell_type": "code",
   "execution_count": 15,
   "metadata": {},
   "outputs": [
    {
     "ename": "Error",
     "evalue": "Canceled future for execute_request message before replies were done",
     "output_type": "error",
     "traceback": [
      "Error: Canceled future for execute_request message before replies were done",
      "at t.KernelShellFutureHandler.dispose (/home/mimslade/.vscode/extensions/ms-toolsai.jupyter-2022.3.1000901801/out/extension.js:2:1204175)",
      "at /home/mimslade/.vscode/extensions/ms-toolsai.jupyter-2022.3.1000901801/out/extension.js:2:1223227",
      "at Map.forEach (<anonymous>)",
      "at v._clearKernelState (/home/mimslade/.vscode/extensions/ms-toolsai.jupyter-2022.3.1000901801/out/extension.js:2:1223212)",
      "at v.dispose (/home/mimslade/.vscode/extensions/ms-toolsai.jupyter-2022.3.1000901801/out/extension.js:2:1216694)",
      "at /home/mimslade/.vscode/extensions/ms-toolsai.jupyter-2022.3.1000901801/out/extension.js:2:533674",
      "at t.swallowExceptions (/home/mimslade/.vscode/extensions/ms-toolsai.jupyter-2022.3.1000901801/out/extension.js:2:913059)",
      "at dispose (/home/mimslade/.vscode/extensions/ms-toolsai.jupyter-2022.3.1000901801/out/extension.js:2:533652)",
      "at t.RawSession.dispose (/home/mimslade/.vscode/extensions/ms-toolsai.jupyter-2022.3.1000901801/out/extension.js:2:537330)",
      "at runMicrotasks (<anonymous>)",
      "at processTicksAndRejections (node:internal/process/task_queues:96:5)"
     ]
    }
   ],
   "source": [
    "t = csv.read_csv('data/original/2022_place_canvas_history.csv')"
   ]
  },
  {
   "cell_type": "code",
   "execution_count": 14,
   "metadata": {},
   "outputs": [
    {
     "data": {
      "text/plain": [
       "['timestamp', 'user_id', 'pixel_color', 'coordinate', 'conv_timestamp']"
      ]
     },
     "execution_count": 14,
     "metadata": {},
     "output_type": "execute_result"
    }
   ],
   "source": [
    "t.schema.names"
   ]
  },
  {
   "cell_type": "code",
   "execution_count": 5,
   "metadata": {},
   "outputs": [],
   "source": [
    "table = parquet.read_table(parquet_file, columns=['conv_timestamp', 'user_id', 'coordinate'], filters=[('pixel_color', '=', '#FFFFFF')])"
   ]
  },
  {
   "cell_type": "code",
   "execution_count": 50,
   "metadata": {},
   "outputs": [
    {
     "name": "stdout",
     "output_type": "stream",
     "text": [
      "1995588\n"
     ]
    }
   ],
   "source": [
    "users = parquet.read_table(parquet_file, columns=['user_id'])['user_id']\n",
    "unique_users = users.unique()\n",
    "print(len(unique_users))"
   ]
  },
  {
   "cell_type": "code",
   "execution_count": 27,
   "metadata": {},
   "outputs": [
    {
     "data": {
      "text/plain": [
       "<pyarrow.Int64Scalar: 16>"
      ]
     },
     "execution_count": 27,
     "metadata": {},
     "output_type": "execute_result"
    }
   ],
   "source": [
    "pa.compute.count_distinct(parquet.read_table(parquet_file, columns=['pixel_color'])['pixel_color'].combine_chunks())"
   ]
  },
  {
   "cell_type": "code",
   "execution_count": 49,
   "metadata": {},
   "outputs": [
    {
     "data": {
      "text/plain": [
       "1995588"
      ]
     },
     "execution_count": 49,
     "metadata": {},
     "output_type": "execute_result"
    }
   ],
   "source": [
    "len(orc.read_table(orc_file, columns=['user_id'])['user_id'].unique())"
   ]
  },
  {
   "cell_type": "code",
   "execution_count": 53,
   "metadata": {},
   "outputs": [
    {
     "data": {
      "text/plain": [
       "1995588"
      ]
     },
     "execution_count": 53,
     "metadata": {},
     "output_type": "execute_result"
    }
   ],
   "source": [
    "len(feather.read_table(feather_file, columns=['user_id'])['user_id'].unique())"
   ]
  },
  {
   "cell_type": "code",
   "execution_count": 54,
   "metadata": {},
   "outputs": [
    {
     "data": {
      "text/plain": [
       "1995588"
      ]
     },
     "execution_count": 54,
     "metadata": {},
     "output_type": "execute_result"
    }
   ],
   "source": [
    "len(csv.read_csv(csv_file)['user_id'].unique())"
   ]
  },
  {
   "cell_type": "code",
   "execution_count": 139,
   "metadata": {},
   "outputs": [
    {
     "name": "stdout",
     "output_type": "stream",
     "text": [
      "#000000    2905926\n",
      "#FFFFFF    1832310\n",
      "#FF4500    1769590\n",
      "#FFD635     874595\n",
      "#2450A4    1149588\n",
      "#FF99AA     586856\n",
      "#D4D7D9     177423\n",
      "#9C6926     169399\n",
      "#7EED56     375585\n",
      "#00A368     555354\n",
      "#51E9F4     522074\n",
      "#FFA800     408955\n",
      "#3690EA     294541\n",
      "#898D90     195329\n",
      "#B44AC0     109915\n",
      "#811E9F     350945\n",
      "dtype: int64\n"
     ]
    }
   ],
   "source": [
    "r = pa.compute.value_counts(parquet.read_table(parquet_file, columns=['pixel_color'])['pixel_color'].combine_chunks()).flatten()\n",
    "d = pd.Series(r[1], r[0])\n",
    "print(d)"
   ]
  },
  {
   "cell_type": "code",
   "execution_count": 147,
   "metadata": {},
   "outputs": [
    {
     "data": {
      "text/plain": [
       "#000000    2905926\n",
       "#FFFFFF    1832310\n",
       "#FF4500    1769590\n",
       "#FFD635     874595\n",
       "#2450A4    1149588\n",
       "#FF99AA     586856\n",
       "#D4D7D9     177423\n",
       "#9C6926     169399\n",
       "#7EED56     375585\n",
       "#00A368     555354\n",
       "#51E9F4     522074\n",
       "#FFA800     408955\n",
       "#3690EA     294541\n",
       "#898D90     195329\n",
       "#B44AC0     109915\n",
       "#811E9F     350945\n",
       "dtype: int64"
      ]
     },
     "execution_count": 147,
     "metadata": {},
     "output_type": "execute_result"
    }
   ],
   "source": [
    "table = parquet.read_table(parquet_file, columns=['pixel_color'])\n",
    "value_counts = pa.compute.value_counts(table['pixel_color'].combine_chunks()).flatten()\n",
    "pd.Series(value_counts[1], value_counts[0])"
   ]
  },
  {
   "cell_type": "code",
   "execution_count": 137,
   "metadata": {},
   "outputs": [
    {
     "name": "stdout",
     "output_type": "stream",
     "text": [
      "Index(['#000000', '#FFFFFF', '#FF4500', '#FFD635', '#2450A4', '#FF99AA',\n",
      "       '#D4D7D9', '#9C6926', '#7EED56', '#00A368', '#51E9F4', '#FFA800',\n",
      "       '#3690EA', '#898D90', '#B44AC0', '#811E9F'],\n",
      "      dtype='object')\n"
     ]
    }
   ],
   "source": [
    "print(d.index)"
   ]
  },
  {
   "cell_type": "code",
   "execution_count": 114,
   "metadata": {},
   "outputs": [
    {
     "data": {
      "text/plain": [
       "[('#000000', 2905926),\n",
       " ('#FFFFFF', 1832310),\n",
       " ('#FF4500', 1769590),\n",
       " ('#FFD635', 874595),\n",
       " ('#2450A4', 1149588),\n",
       " ('#FF99AA', 586856),\n",
       " ('#D4D7D9', 177423),\n",
       " ('#9C6926', 169399),\n",
       " ('#7EED56', 375585),\n",
       " ('#00A368', 555354),\n",
       " ('#51E9F4', 522074),\n",
       " ('#FFA800', 408955),\n",
       " ('#3690EA', 294541),\n",
       " ('#898D90', 195329),\n",
       " ('#B44AC0', 109915),\n",
       " ('#811E9F', 350945)]"
      ]
     },
     "execution_count": 114,
     "metadata": {},
     "output_type": "execute_result"
    }
   ],
   "source": [
    "values = [v['values'] for v in r]\n",
    "counts = [v['counts'] for v in r]\n",
    "\n",
    "list(zip(values, counts))"
   ]
  },
  {
   "cell_type": "code",
   "execution_count": 132,
   "metadata": {},
   "outputs": [
    {
     "name": "stdout",
     "output_type": "stream",
     "text": [
      "a    1\n",
      "b    2\n",
      "c    3\n",
      "d    4\n",
      "e    5\n",
      "dtype: int64\n"
     ]
    }
   ],
   "source": [
    "b = pd.Series([1, 2, 3, 4, 5], ['a', 'b', 'c', 'd', 'e'])\n",
    "print(b)"
   ]
  },
  {
   "cell_type": "code",
   "execution_count": 148,
   "metadata": {},
   "outputs": [
    {
     "data": {
      "text/plain": [
       "#000000    2905926\n",
       "#FFFFFF    1832310\n",
       "#FF4500    1769590\n",
       "#FFD635     874595\n",
       "#2450A4    1149588\n",
       "#FF99AA     586856\n",
       "#D4D7D9     177423\n",
       "#9C6926     169399\n",
       "#7EED56     375585\n",
       "#00A368     555354\n",
       "#51E9F4     522074\n",
       "#FFA800     408955\n",
       "#3690EA     294541\n",
       "#898D90     195329\n",
       "#B44AC0     109915\n",
       "#811E9F     350945\n",
       "dtype: int64"
      ]
     },
     "execution_count": 148,
     "metadata": {},
     "output_type": "execute_result"
    }
   ],
   "source": [
    "value_counts = pa.compute.value_counts(orc.read_table(orc_file, columns=['pixel_color'])['pixel_color'].combine_chunks()).flatten()\n",
    "pd.Series(value_counts[1], value_counts[0])"
   ]
  },
  {
   "cell_type": "code",
   "execution_count": 9,
   "metadata": {},
   "outputs": [
    {
     "data": {
      "text/plain": [
       "0"
      ]
     },
     "execution_count": 9,
     "metadata": {},
     "output_type": "execute_result"
    }
   ],
   "source": [
    "import gc\n",
    "gc.collect()"
   ]
  },
  {
   "cell_type": "code",
   "execution_count": 10,
   "metadata": {},
   "outputs": [],
   "source": [
    "table = parquet.read_table(large_parquet, columns=['pixel_color'])"
   ]
  },
  {
   "cell_type": "code",
   "execution_count": 11,
   "metadata": {},
   "outputs": [],
   "source": [
    "result = pa.compute.value_counts(table['pixel_color']).flatten()"
   ]
  },
  {
   "cell_type": "code",
   "execution_count": 15,
   "metadata": {},
   "outputs": [
    {
     "data": {
      "text/plain": [
       "#000000    33707371\n",
       "#FFFFFF    32251013\n",
       "#FF4500    14411389\n",
       "#2450A4     9989854\n",
       "#FFD635     8519392\n",
       "#BE0039     5911641\n",
       "#51E9F4     5700301\n",
       "#811E9F     5245484\n",
       "#FFA800     5059970\n",
       "#FF99AA     4917801\n",
       "#3690EA     4058046\n",
       "#00A368     3892844\n",
       "#898D90     3459390\n",
       "#7EED56     3417232\n",
       "#D4D7D9     3324082\n",
       "#9C6926     2473639\n",
       "#FFB470     2104848\n",
       "#FF3881     1458772\n",
       "#B44AC0     1287672\n",
       "#6D482F     1261416\n",
       "#00CC78     1200067\n",
       "#493AC1     1139350\n",
       "#FFF8B8      954606\n",
       "#515252      868769\n",
       "#6D001A      621194\n",
       "#DE107F      589211\n",
       "#00756F      572572\n",
       "#6A5CFF      499233\n",
       "#94B3FF      454142\n",
       "#009EAA      436068\n",
       "#E4ABFF      350873\n",
       "#00CCC0      214862\n",
       "dtype: int64"
      ]
     },
     "execution_count": 15,
     "metadata": {},
     "output_type": "execute_result"
    }
   ],
   "source": [
    "pd.Series(result[1], result[0]).sort_values(ascending=False)"
   ]
  },
  {
   "cell_type": "code",
   "execution_count": 17,
   "metadata": {},
   "outputs": [
    {
     "data": {
      "text/plain": [
       "0"
      ]
     },
     "execution_count": 17,
     "metadata": {},
     "output_type": "execute_result"
    }
   ],
   "source": [
    "gc.collect()"
   ]
  }
 ],
 "metadata": {
  "interpreter": {
   "hash": "1014a147ebe84edf89cc949d1474b378add343e44159593a1f5b609a8f202a90"
  },
  "kernelspec": {
   "display_name": "Python 3.8.10 ('venv': venv)",
   "language": "python",
   "name": "python3"
  },
  "language_info": {
   "codemirror_mode": {
    "name": "ipython",
    "version": 3
   },
   "file_extension": ".py",
   "mimetype": "text/x-python",
   "name": "python",
   "nbconvert_exporter": "python",
   "pygments_lexer": "ipython3",
   "version": "3.8.10"
  },
  "orig_nbformat": 4
 },
 "nbformat": 4,
 "nbformat_minor": 2
}
