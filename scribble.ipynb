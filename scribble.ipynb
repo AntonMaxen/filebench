{
 "cells": [
  {
   "cell_type": "code",
   "execution_count": 2,
   "metadata": {},
   "outputs": [],
   "source": [
    "import pyarrow.parquet as parquet\n",
    "import pyarrow.feather as feather\n",
    "import pyarrow.orc as orc\n",
    "import pyarrow.csv as csv\n",
    "import pyarrow as pa\n",
    "import pandas as pd\n",
    "from timeit import default_timer as timer\n",
    "from datetime import timedelta\n",
    "\n",
    "reddit_place = '2022_place_canvas_history'\n",
    "parquet_file = f'data/small/day1/{reddit_place}.parquet'\n",
    "feather_file = f'data/small/day1/{reddit_place}.feather'\n",
    "orc_file = f'data/small/day1/{reddit_place}.orc'\n",
    "csv_file = f'data/small/day1/{reddit_place}.csv'\n",
    "\n",
    "\n",
    "def time_func(func, *args, **kwargs):\n",
    "    start = timer()\n",
    "    result = func(*args, **kwargs)\n",
    "    end = timer()\n",
    "    total_in_seconds = end - start\n",
    "\n",
    "    return result, total_in_seconds\n",
    "\n",
    "\n",
    "def read_pyarrow_to_pandas(filename, filetype):\n",
    "    \"\"\"Read file to pyarrow table and convert to pandas dataframe\"\"\"\n",
    "    if filetype == 'parquet':\n",
    "        df = parquet.read_table(filename).to_pandas()\n",
    "    elif filetype == 'orc':\n",
    "        df = orc.read_table(filename).to_pandas()\n",
    "    elif filetype == 'feather':\n",
    "        df = feather.read_feather(filename)\n",
    "    elif filetype == 'csv':\n",
    "        df = csv.read_csv(filename).to_pandas()\n",
    "    \n",
    "    return df.shape\n",
    "\n",
    "\n",
    "def read_pandas(filename, filetype):\n",
    "    \"\"\"Read file to pandas dataframe\"\"\"\n",
    "    if filetype == 'parquet':\n",
    "        df = pd.read_parquet(filename)\n",
    "    elif filetype == 'orc':\n",
    "        df = pd.read_orc(filename)\n",
    "    elif filetype == 'feather':\n",
    "        df = pd.read_feather(filename)\n",
    "    elif filetype == 'csv':\n",
    "        df = csv.read_csv(filename).to_pandas()\n",
    "    \n",
    "    return df.shape"
   ]
  },
  {
   "cell_type": "code",
   "execution_count": 31,
   "metadata": {},
   "outputs": [
    {
     "ename": "TypeError",
     "evalue": "Do not call CSVStreamingReader's constructor directly, use pyarrow.csv.open_csv() instead.",
     "output_type": "error",
     "traceback": [
      "\u001b[0;31m---------------------------------------------------------------------------\u001b[0m",
      "\u001b[0;31mTypeError\u001b[0m                                 Traceback (most recent call last)",
      "\u001b[1;32m/home/mimslade/dev/projects/file-bench/pyarrow_vs_pandas_reader.ipynb Cell 2'\u001b[0m in \u001b[0;36m<cell line: 2>\u001b[0;34m()\u001b[0m\n\u001b[1;32m      <a href='vscode-notebook-cell:/home/mimslade/dev/projects/file-bench/pyarrow_vs_pandas_reader.ipynb#ch0000002?line=0'>1</a>\u001b[0m \u001b[39m#orc.ORCFile(orc_file).nrows\u001b[39;00m\n\u001b[0;32m----> <a href='vscode-notebook-cell:/home/mimslade/dev/projects/file-bench/pyarrow_vs_pandas_reader.ipynb#ch0000002?line=1'>2</a>\u001b[0m csv\u001b[39m.\u001b[39;49mCSVStreamingReader()\n",
      "File \u001b[0;32m~/dev/projects/file-bench/venv/lib/python3.8/site-packages/pyarrow/_csv.pyx:882\u001b[0m, in \u001b[0;36mpyarrow._csv.CSVStreamingReader.__init__\u001b[0;34m()\u001b[0m\n",
      "\u001b[0;31mTypeError\u001b[0m: Do not call CSVStreamingReader's constructor directly, use pyarrow.csv.open_csv() instead."
     ]
    }
   ],
   "source": [
    "#orc.ORCFile(orc_file).nrows\n",
    "pa.csv.read_csv()\n",
    "csv.read_csv()"
   ]
  },
  {
   "cell_type": "code",
   "execution_count": 24,
   "metadata": {},
   "outputs": [
    {
     "data": {
      "text/plain": [
       "1995588"
      ]
     },
     "execution_count": 24,
     "metadata": {},
     "output_type": "execute_result"
    }
   ],
   "source": [
    "pd.unique(orc.ORCFile(orc_file).read(columns=['user_id']).to_pandas()['user_id']).shape[0]"
   ]
  },
  {
   "cell_type": "code",
   "execution_count": null,
   "metadata": {},
   "outputs": [],
   "source": []
  },
  {
   "cell_type": "code",
   "execution_count": 19,
   "metadata": {},
   "outputs": [
    {
     "data": {
      "text/plain": [
       "25"
      ]
     },
     "execution_count": 19,
     "metadata": {},
     "output_type": "execute_result"
    }
   ],
   "source": [
    "orc.ORCFile(orc_file).nstripes"
   ]
  },
  {
   "cell_type": "code",
   "execution_count": 29,
   "metadata": {},
   "outputs": [
    {
     "data": {
      "text/html": [
       "<div>\n",
       "<style scoped>\n",
       "    .dataframe tbody tr th:only-of-type {\n",
       "        vertical-align: middle;\n",
       "    }\n",
       "\n",
       "    .dataframe tbody tr th {\n",
       "        vertical-align: top;\n",
       "    }\n",
       "\n",
       "    .dataframe thead th {\n",
       "        text-align: right;\n",
       "    }\n",
       "</style>\n",
       "<table border=\"1\" class=\"dataframe\">\n",
       "  <thead>\n",
       "    <tr style=\"text-align: right;\">\n",
       "      <th></th>\n",
       "      <th>timestamp</th>\n",
       "      <th>user_id</th>\n",
       "      <th>pixel_color</th>\n",
       "      <th>coordinate</th>\n",
       "      <th>conv_timestamp</th>\n",
       "      <th>__index_level_0__</th>\n",
       "    </tr>\n",
       "  </thead>\n",
       "  <tbody>\n",
       "    <tr>\n",
       "      <th>0</th>\n",
       "      <td>2022-04-01 15:38:01.116 UTC</td>\n",
       "      <td>WYFuP/nwVCIBrw5XOVYKsHyo/fJpOJcIXCm75iKLqEz92B...</td>\n",
       "      <td>#000000</td>\n",
       "      <td>191,662</td>\n",
       "      <td>2022-04-01 15:38:01.116</td>\n",
       "      <td>10119006</td>\n",
       "    </tr>\n",
       "    <tr>\n",
       "      <th>1</th>\n",
       "      <td>2022-04-01 15:38:01.124 UTC</td>\n",
       "      <td>1Fie0j8msAiBmD5+NfV4SdY6ilMDHV9XJc6zWdhgAyrc8H...</td>\n",
       "      <td>#000000</td>\n",
       "      <td>239,18</td>\n",
       "      <td>2022-04-01 15:38:01.124</td>\n",
       "      <td>10119007</td>\n",
       "    </tr>\n",
       "    <tr>\n",
       "      <th>2</th>\n",
       "      <td>2022-04-01 15:38:01.13 UTC</td>\n",
       "      <td>qvqMCBzdQyIL1ET+iZvXilEjCrt7cjq3oPG3uUad8tWi1X...</td>\n",
       "      <td>#FFFFFF</td>\n",
       "      <td>722,727</td>\n",
       "      <td>2022-04-01 15:38:01.130</td>\n",
       "      <td>10119008</td>\n",
       "    </tr>\n",
       "    <tr>\n",
       "      <th>3</th>\n",
       "      <td>2022-04-01 15:38:01.131 UTC</td>\n",
       "      <td>TGLWFhne7tzE8iBhUWm7K3m6SrH+2xBl599XMhdtvV6RqV...</td>\n",
       "      <td>#FF4500</td>\n",
       "      <td>645,46</td>\n",
       "      <td>2022-04-01 15:38:01.131</td>\n",
       "      <td>10119009</td>\n",
       "    </tr>\n",
       "    <tr>\n",
       "      <th>4</th>\n",
       "      <td>2022-04-01 15:38:01.134 UTC</td>\n",
       "      <td>C1E2rtkIcBP+omujs+YcSHfdWfCBpcxq6uIQpSlekwfyIq...</td>\n",
       "      <td>#FFFFFF</td>\n",
       "      <td>904,83</td>\n",
       "      <td>2022-04-01 15:38:01.134</td>\n",
       "      <td>10119010</td>\n",
       "    </tr>\n",
       "    <tr>\n",
       "      <th>...</th>\n",
       "      <td>...</td>\n",
       "      <td>...</td>\n",
       "      <td>...</td>\n",
       "      <td>...</td>\n",
       "      <td>...</td>\n",
       "      <td>...</td>\n",
       "    </tr>\n",
       "    <tr>\n",
       "      <th>502779</th>\n",
       "      <td>2022-04-01 16:07:25.616 UTC</td>\n",
       "      <td>zQsRzHfoACVitJvTkn+f8mjI7FrzrX1otiTYhdIsM3T4cP...</td>\n",
       "      <td>#000000</td>\n",
       "      <td>184,680</td>\n",
       "      <td>2022-04-01 16:07:25.616</td>\n",
       "      <td>10621785</td>\n",
       "    </tr>\n",
       "    <tr>\n",
       "      <th>502780</th>\n",
       "      <td>2022-04-01 16:07:25.617 UTC</td>\n",
       "      <td>eOrq878qwLnBFKzcCJ8JICUFlYrxfeJ6m5spH8LF/iP0q6...</td>\n",
       "      <td>#000000</td>\n",
       "      <td>800,123</td>\n",
       "      <td>2022-04-01 16:07:25.617</td>\n",
       "      <td>10621786</td>\n",
       "    </tr>\n",
       "    <tr>\n",
       "      <th>502781</th>\n",
       "      <td>2022-04-01 16:07:25.618 UTC</td>\n",
       "      <td>SBF9JwY4y64x+5Bs3C5wVh+i3FdeS5buL3SfN502AGPPbE...</td>\n",
       "      <td>#FF4500</td>\n",
       "      <td>727,375</td>\n",
       "      <td>2022-04-01 16:07:25.618</td>\n",
       "      <td>10621787</td>\n",
       "    </tr>\n",
       "    <tr>\n",
       "      <th>502782</th>\n",
       "      <td>2022-04-01 16:07:25.62 UTC</td>\n",
       "      <td>UEO8hC5hjwstBDem0yNH68W1CWLx4GQI+LDGlTQmmOi4Oz...</td>\n",
       "      <td>#000000</td>\n",
       "      <td>250,69</td>\n",
       "      <td>2022-04-01 16:07:25.620</td>\n",
       "      <td>10621788</td>\n",
       "    </tr>\n",
       "    <tr>\n",
       "      <th>502783</th>\n",
       "      <td>2022-04-01 16:07:25.622 UTC</td>\n",
       "      <td>mM63+Y9y0ZIpd/D8c2O5m4u2AL1xSic+ILsiNpZXvZgQyA...</td>\n",
       "      <td>#FF4500</td>\n",
       "      <td>661,69</td>\n",
       "      <td>2022-04-01 16:07:25.622</td>\n",
       "      <td>10621789</td>\n",
       "    </tr>\n",
       "  </tbody>\n",
       "</table>\n",
       "<p>502784 rows × 6 columns</p>\n",
       "</div>"
      ],
      "text/plain": [
       "                          timestamp  \\\n",
       "0       2022-04-01 15:38:01.116 UTC   \n",
       "1       2022-04-01 15:38:01.124 UTC   \n",
       "2        2022-04-01 15:38:01.13 UTC   \n",
       "3       2022-04-01 15:38:01.131 UTC   \n",
       "4       2022-04-01 15:38:01.134 UTC   \n",
       "...                             ...   \n",
       "502779  2022-04-01 16:07:25.616 UTC   \n",
       "502780  2022-04-01 16:07:25.617 UTC   \n",
       "502781  2022-04-01 16:07:25.618 UTC   \n",
       "502782   2022-04-01 16:07:25.62 UTC   \n",
       "502783  2022-04-01 16:07:25.622 UTC   \n",
       "\n",
       "                                                  user_id pixel_color  \\\n",
       "0       WYFuP/nwVCIBrw5XOVYKsHyo/fJpOJcIXCm75iKLqEz92B...     #000000   \n",
       "1       1Fie0j8msAiBmD5+NfV4SdY6ilMDHV9XJc6zWdhgAyrc8H...     #000000   \n",
       "2       qvqMCBzdQyIL1ET+iZvXilEjCrt7cjq3oPG3uUad8tWi1X...     #FFFFFF   \n",
       "3       TGLWFhne7tzE8iBhUWm7K3m6SrH+2xBl599XMhdtvV6RqV...     #FF4500   \n",
       "4       C1E2rtkIcBP+omujs+YcSHfdWfCBpcxq6uIQpSlekwfyIq...     #FFFFFF   \n",
       "...                                                   ...         ...   \n",
       "502779  zQsRzHfoACVitJvTkn+f8mjI7FrzrX1otiTYhdIsM3T4cP...     #000000   \n",
       "502780  eOrq878qwLnBFKzcCJ8JICUFlYrxfeJ6m5spH8LF/iP0q6...     #000000   \n",
       "502781  SBF9JwY4y64x+5Bs3C5wVh+i3FdeS5buL3SfN502AGPPbE...     #FF4500   \n",
       "502782  UEO8hC5hjwstBDem0yNH68W1CWLx4GQI+LDGlTQmmOi4Oz...     #000000   \n",
       "502783  mM63+Y9y0ZIpd/D8c2O5m4u2AL1xSic+ILsiNpZXvZgQyA...     #FF4500   \n",
       "\n",
       "       coordinate          conv_timestamp  __index_level_0__  \n",
       "0         191,662 2022-04-01 15:38:01.116           10119006  \n",
       "1          239,18 2022-04-01 15:38:01.124           10119007  \n",
       "2         722,727 2022-04-01 15:38:01.130           10119008  \n",
       "3          645,46 2022-04-01 15:38:01.131           10119009  \n",
       "4          904,83 2022-04-01 15:38:01.134           10119010  \n",
       "...           ...                     ...                ...  \n",
       "502779    184,680 2022-04-01 16:07:25.616           10621785  \n",
       "502780    800,123 2022-04-01 16:07:25.617           10621786  \n",
       "502781    727,375 2022-04-01 16:07:25.618           10621787  \n",
       "502782     250,69 2022-04-01 16:07:25.620           10621788  \n",
       "502783     661,69 2022-04-01 16:07:25.622           10621789  \n",
       "\n",
       "[502784 rows x 6 columns]"
      ]
     },
     "execution_count": 29,
     "metadata": {},
     "output_type": "execute_result"
    }
   ],
   "source": [
    "orc.ORCFile(orc_file).read_stripe(0).to_pandas()"
   ]
  },
  {
   "cell_type": "code",
   "execution_count": 32,
   "metadata": {},
   "outputs": [],
   "source": [
    "df = pd.read_csv(csv_file, usecols=['user_id'])"
   ]
  },
  {
   "cell_type": "code",
   "execution_count": 33,
   "metadata": {},
   "outputs": [
    {
     "data": {
      "text/html": [
       "<div>\n",
       "<style scoped>\n",
       "    .dataframe tbody tr th:only-of-type {\n",
       "        vertical-align: middle;\n",
       "    }\n",
       "\n",
       "    .dataframe tbody tr th {\n",
       "        vertical-align: top;\n",
       "    }\n",
       "\n",
       "    .dataframe thead th {\n",
       "        text-align: right;\n",
       "    }\n",
       "</style>\n",
       "<table border=\"1\" class=\"dataframe\">\n",
       "  <thead>\n",
       "    <tr style=\"text-align: right;\">\n",
       "      <th></th>\n",
       "      <th>user_id</th>\n",
       "    </tr>\n",
       "  </thead>\n",
       "  <tbody>\n",
       "    <tr>\n",
       "      <th>0</th>\n",
       "      <td>WYFuP/nwVCIBrw5XOVYKsHyo/fJpOJcIXCm75iKLqEz92B...</td>\n",
       "    </tr>\n",
       "    <tr>\n",
       "      <th>1</th>\n",
       "      <td>1Fie0j8msAiBmD5+NfV4SdY6ilMDHV9XJc6zWdhgAyrc8H...</td>\n",
       "    </tr>\n",
       "    <tr>\n",
       "      <th>2</th>\n",
       "      <td>qvqMCBzdQyIL1ET+iZvXilEjCrt7cjq3oPG3uUad8tWi1X...</td>\n",
       "    </tr>\n",
       "    <tr>\n",
       "      <th>3</th>\n",
       "      <td>TGLWFhne7tzE8iBhUWm7K3m6SrH+2xBl599XMhdtvV6RqV...</td>\n",
       "    </tr>\n",
       "    <tr>\n",
       "      <th>4</th>\n",
       "      <td>C1E2rtkIcBP+omujs+YcSHfdWfCBpcxq6uIQpSlekwfyIq...</td>\n",
       "    </tr>\n",
       "  </tbody>\n",
       "</table>\n",
       "</div>"
      ],
      "text/plain": [
       "                                             user_id\n",
       "0  WYFuP/nwVCIBrw5XOVYKsHyo/fJpOJcIXCm75iKLqEz92B...\n",
       "1  1Fie0j8msAiBmD5+NfV4SdY6ilMDHV9XJc6zWdhgAyrc8H...\n",
       "2  qvqMCBzdQyIL1ET+iZvXilEjCrt7cjq3oPG3uUad8tWi1X...\n",
       "3  TGLWFhne7tzE8iBhUWm7K3m6SrH+2xBl599XMhdtvV6RqV...\n",
       "4  C1E2rtkIcBP+omujs+YcSHfdWfCBpcxq6uIQpSlekwfyIq..."
      ]
     },
     "execution_count": 33,
     "metadata": {},
     "output_type": "execute_result"
    }
   ],
   "source": [
    "df.head()"
   ]
  },
  {
   "cell_type": "code",
   "execution_count": 34,
   "metadata": {},
   "outputs": [],
   "source": [
    "df2 = pd.read_csv(csv_file)"
   ]
  },
  {
   "cell_type": "code",
   "execution_count": 51,
   "metadata": {},
   "outputs": [
    {
     "data": {
      "text/html": [
       "<div>\n",
       "<style scoped>\n",
       "    .dataframe tbody tr th:only-of-type {\n",
       "        vertical-align: middle;\n",
       "    }\n",
       "\n",
       "    .dataframe tbody tr th {\n",
       "        vertical-align: top;\n",
       "    }\n",
       "\n",
       "    .dataframe thead th {\n",
       "        text-align: right;\n",
       "    }\n",
       "</style>\n",
       "<table border=\"1\" class=\"dataframe\">\n",
       "  <thead>\n",
       "    <tr style=\"text-align: right;\">\n",
       "      <th></th>\n",
       "      <th>timestamp</th>\n",
       "      <th>user_id</th>\n",
       "      <th>pixel_color</th>\n",
       "      <th>coordinate</th>\n",
       "      <th>conv_timestamp</th>\n",
       "      <th>__index_level_0__</th>\n",
       "    </tr>\n",
       "  </thead>\n",
       "  <tbody>\n",
       "    <tr>\n",
       "      <th>0</th>\n",
       "      <td>2022-04-01 15:38:01.116 UTC</td>\n",
       "      <td>WYFuP/nwVCIBrw5XOVYKsHyo/fJpOJcIXCm75iKLqEz92B...</td>\n",
       "      <td>#000000</td>\n",
       "      <td>191,662</td>\n",
       "      <td>2022-04-01 15:38:01.116000+00:00</td>\n",
       "      <td>10119006</td>\n",
       "    </tr>\n",
       "    <tr>\n",
       "      <th>1</th>\n",
       "      <td>2022-04-01 15:38:01.124 UTC</td>\n",
       "      <td>1Fie0j8msAiBmD5+NfV4SdY6ilMDHV9XJc6zWdhgAyrc8H...</td>\n",
       "      <td>#000000</td>\n",
       "      <td>239,18</td>\n",
       "      <td>2022-04-01 15:38:01.124000+00:00</td>\n",
       "      <td>10119007</td>\n",
       "    </tr>\n",
       "    <tr>\n",
       "      <th>2</th>\n",
       "      <td>2022-04-01 15:38:01.13 UTC</td>\n",
       "      <td>qvqMCBzdQyIL1ET+iZvXilEjCrt7cjq3oPG3uUad8tWi1X...</td>\n",
       "      <td>#FFFFFF</td>\n",
       "      <td>722,727</td>\n",
       "      <td>2022-04-01 15:38:01.130000+00:00</td>\n",
       "      <td>10119008</td>\n",
       "    </tr>\n",
       "    <tr>\n",
       "      <th>3</th>\n",
       "      <td>2022-04-01 15:38:01.131 UTC</td>\n",
       "      <td>TGLWFhne7tzE8iBhUWm7K3m6SrH+2xBl599XMhdtvV6RqV...</td>\n",
       "      <td>#FF4500</td>\n",
       "      <td>645,46</td>\n",
       "      <td>2022-04-01 15:38:01.131000+00:00</td>\n",
       "      <td>10119009</td>\n",
       "    </tr>\n",
       "    <tr>\n",
       "      <th>4</th>\n",
       "      <td>2022-04-01 15:38:01.134 UTC</td>\n",
       "      <td>C1E2rtkIcBP+omujs+YcSHfdWfCBpcxq6uIQpSlekwfyIq...</td>\n",
       "      <td>#FFFFFF</td>\n",
       "      <td>904,83</td>\n",
       "      <td>2022-04-01 15:38:01.134000+00:00</td>\n",
       "      <td>10119010</td>\n",
       "    </tr>\n",
       "    <tr>\n",
       "      <th>...</th>\n",
       "      <td>...</td>\n",
       "      <td>...</td>\n",
       "      <td>...</td>\n",
       "      <td>...</td>\n",
       "      <td>...</td>\n",
       "      <td>...</td>\n",
       "    </tr>\n",
       "    <tr>\n",
       "      <th>12278380</th>\n",
       "      <td>2022-04-01 23:59:59.993 UTC</td>\n",
       "      <td>uWEWZve8leRocb4Dipm7yCLM3gN6Weq3uh982BxOFuLUJF...</td>\n",
       "      <td>#FFFFFF</td>\n",
       "      <td>566,552</td>\n",
       "      <td>2022-04-01 23:59:59.993000+00:00</td>\n",
       "      <td>34997263</td>\n",
       "    </tr>\n",
       "    <tr>\n",
       "      <th>12278381</th>\n",
       "      <td>2022-04-01 23:59:59.994 UTC</td>\n",
       "      <td>X9wV3qCoxF1tysu8za1DMRfGCVzXTTv2RRZi6PqTLcHIZt...</td>\n",
       "      <td>#000000</td>\n",
       "      <td>618,533</td>\n",
       "      <td>2022-04-01 23:59:59.994000+00:00</td>\n",
       "      <td>34997264</td>\n",
       "    </tr>\n",
       "    <tr>\n",
       "      <th>12278382</th>\n",
       "      <td>2022-04-01 23:59:59.994 UTC</td>\n",
       "      <td>ahlMMSchqTWmpXhQ8fW+nAVqtMvX/SneiGhY7Mr+o4xzOH...</td>\n",
       "      <td>#FF4500</td>\n",
       "      <td>371,451</td>\n",
       "      <td>2022-04-01 23:59:59.994000+00:00</td>\n",
       "      <td>34997265</td>\n",
       "    </tr>\n",
       "    <tr>\n",
       "      <th>12278383</th>\n",
       "      <td>2022-04-01 23:59:59.995 UTC</td>\n",
       "      <td>JEMIFsk+fG9KnqzfraQG5V4rjg2OvrHLFz/AGBtRM1zBVZ...</td>\n",
       "      <td>#000000</td>\n",
       "      <td>566,449</td>\n",
       "      <td>2022-04-01 23:59:59.995000+00:00</td>\n",
       "      <td>34997266</td>\n",
       "    </tr>\n",
       "    <tr>\n",
       "      <th>12278384</th>\n",
       "      <td>2022-04-01 23:59:59.996 UTC</td>\n",
       "      <td>uxiXw11jw3PXoEf4ukGh3aqTbhopkOkgeTGN5EfsqENiw8...</td>\n",
       "      <td>#FFFFFF</td>\n",
       "      <td>377,106</td>\n",
       "      <td>2022-04-01 23:59:59.996000+00:00</td>\n",
       "      <td>34997267</td>\n",
       "    </tr>\n",
       "  </tbody>\n",
       "</table>\n",
       "<p>12278385 rows × 6 columns</p>\n",
       "</div>"
      ],
      "text/plain": [
       "                            timestamp  \\\n",
       "0         2022-04-01 15:38:01.116 UTC   \n",
       "1         2022-04-01 15:38:01.124 UTC   \n",
       "2          2022-04-01 15:38:01.13 UTC   \n",
       "3         2022-04-01 15:38:01.131 UTC   \n",
       "4         2022-04-01 15:38:01.134 UTC   \n",
       "...                               ...   \n",
       "12278380  2022-04-01 23:59:59.993 UTC   \n",
       "12278381  2022-04-01 23:59:59.994 UTC   \n",
       "12278382  2022-04-01 23:59:59.994 UTC   \n",
       "12278383  2022-04-01 23:59:59.995 UTC   \n",
       "12278384  2022-04-01 23:59:59.996 UTC   \n",
       "\n",
       "                                                    user_id pixel_color  \\\n",
       "0         WYFuP/nwVCIBrw5XOVYKsHyo/fJpOJcIXCm75iKLqEz92B...     #000000   \n",
       "1         1Fie0j8msAiBmD5+NfV4SdY6ilMDHV9XJc6zWdhgAyrc8H...     #000000   \n",
       "2         qvqMCBzdQyIL1ET+iZvXilEjCrt7cjq3oPG3uUad8tWi1X...     #FFFFFF   \n",
       "3         TGLWFhne7tzE8iBhUWm7K3m6SrH+2xBl599XMhdtvV6RqV...     #FF4500   \n",
       "4         C1E2rtkIcBP+omujs+YcSHfdWfCBpcxq6uIQpSlekwfyIq...     #FFFFFF   \n",
       "...                                                     ...         ...   \n",
       "12278380  uWEWZve8leRocb4Dipm7yCLM3gN6Weq3uh982BxOFuLUJF...     #FFFFFF   \n",
       "12278381  X9wV3qCoxF1tysu8za1DMRfGCVzXTTv2RRZi6PqTLcHIZt...     #000000   \n",
       "12278382  ahlMMSchqTWmpXhQ8fW+nAVqtMvX/SneiGhY7Mr+o4xzOH...     #FF4500   \n",
       "12278383  JEMIFsk+fG9KnqzfraQG5V4rjg2OvrHLFz/AGBtRM1zBVZ...     #000000   \n",
       "12278384  uxiXw11jw3PXoEf4ukGh3aqTbhopkOkgeTGN5EfsqENiw8...     #FFFFFF   \n",
       "\n",
       "         coordinate                   conv_timestamp  __index_level_0__  \n",
       "0           191,662 2022-04-01 15:38:01.116000+00:00           10119006  \n",
       "1            239,18 2022-04-01 15:38:01.124000+00:00           10119007  \n",
       "2           722,727 2022-04-01 15:38:01.130000+00:00           10119008  \n",
       "3            645,46 2022-04-01 15:38:01.131000+00:00           10119009  \n",
       "4            904,83 2022-04-01 15:38:01.134000+00:00           10119010  \n",
       "...             ...                              ...                ...  \n",
       "12278380    566,552 2022-04-01 23:59:59.993000+00:00           34997263  \n",
       "12278381    618,533 2022-04-01 23:59:59.994000+00:00           34997264  \n",
       "12278382    371,451 2022-04-01 23:59:59.994000+00:00           34997265  \n",
       "12278383    566,449 2022-04-01 23:59:59.995000+00:00           34997266  \n",
       "12278384    377,106 2022-04-01 23:59:59.996000+00:00           34997267  \n",
       "\n",
       "[12278385 rows x 6 columns]"
      ]
     },
     "execution_count": 51,
     "metadata": {},
     "output_type": "execute_result"
    }
   ],
   "source": [
    "feather.read_feather(feather_file, use_threads=True)"
   ]
  },
  {
   "cell_type": "code",
   "execution_count": 52,
   "metadata": {},
   "outputs": [
    {
     "data": {
      "text/html": [
       "<div>\n",
       "<style scoped>\n",
       "    .dataframe tbody tr th:only-of-type {\n",
       "        vertical-align: middle;\n",
       "    }\n",
       "\n",
       "    .dataframe tbody tr th {\n",
       "        vertical-align: top;\n",
       "    }\n",
       "\n",
       "    .dataframe thead th {\n",
       "        text-align: right;\n",
       "    }\n",
       "</style>\n",
       "<table border=\"1\" class=\"dataframe\">\n",
       "  <thead>\n",
       "    <tr style=\"text-align: right;\">\n",
       "      <th></th>\n",
       "      <th>timestamp</th>\n",
       "      <th>user_id</th>\n",
       "      <th>pixel_color</th>\n",
       "      <th>coordinate</th>\n",
       "      <th>conv_timestamp</th>\n",
       "      <th>__index_level_0__</th>\n",
       "    </tr>\n",
       "  </thead>\n",
       "  <tbody>\n",
       "    <tr>\n",
       "      <th>0</th>\n",
       "      <td>2022-04-01 15:38:01.116 UTC</td>\n",
       "      <td>WYFuP/nwVCIBrw5XOVYKsHyo/fJpOJcIXCm75iKLqEz92B...</td>\n",
       "      <td>#000000</td>\n",
       "      <td>191,662</td>\n",
       "      <td>2022-04-01 15:38:01.116000+00:00</td>\n",
       "      <td>10119006</td>\n",
       "    </tr>\n",
       "    <tr>\n",
       "      <th>1</th>\n",
       "      <td>2022-04-01 15:38:01.124 UTC</td>\n",
       "      <td>1Fie0j8msAiBmD5+NfV4SdY6ilMDHV9XJc6zWdhgAyrc8H...</td>\n",
       "      <td>#000000</td>\n",
       "      <td>239,18</td>\n",
       "      <td>2022-04-01 15:38:01.124000+00:00</td>\n",
       "      <td>10119007</td>\n",
       "    </tr>\n",
       "    <tr>\n",
       "      <th>2</th>\n",
       "      <td>2022-04-01 15:38:01.13 UTC</td>\n",
       "      <td>qvqMCBzdQyIL1ET+iZvXilEjCrt7cjq3oPG3uUad8tWi1X...</td>\n",
       "      <td>#FFFFFF</td>\n",
       "      <td>722,727</td>\n",
       "      <td>2022-04-01 15:38:01.130000+00:00</td>\n",
       "      <td>10119008</td>\n",
       "    </tr>\n",
       "    <tr>\n",
       "      <th>3</th>\n",
       "      <td>2022-04-01 15:38:01.131 UTC</td>\n",
       "      <td>TGLWFhne7tzE8iBhUWm7K3m6SrH+2xBl599XMhdtvV6RqV...</td>\n",
       "      <td>#FF4500</td>\n",
       "      <td>645,46</td>\n",
       "      <td>2022-04-01 15:38:01.131000+00:00</td>\n",
       "      <td>10119009</td>\n",
       "    </tr>\n",
       "    <tr>\n",
       "      <th>4</th>\n",
       "      <td>2022-04-01 15:38:01.134 UTC</td>\n",
       "      <td>C1E2rtkIcBP+omujs+YcSHfdWfCBpcxq6uIQpSlekwfyIq...</td>\n",
       "      <td>#FFFFFF</td>\n",
       "      <td>904,83</td>\n",
       "      <td>2022-04-01 15:38:01.134000+00:00</td>\n",
       "      <td>10119010</td>\n",
       "    </tr>\n",
       "    <tr>\n",
       "      <th>...</th>\n",
       "      <td>...</td>\n",
       "      <td>...</td>\n",
       "      <td>...</td>\n",
       "      <td>...</td>\n",
       "      <td>...</td>\n",
       "      <td>...</td>\n",
       "    </tr>\n",
       "    <tr>\n",
       "      <th>12278380</th>\n",
       "      <td>2022-04-01 23:59:59.993 UTC</td>\n",
       "      <td>uWEWZve8leRocb4Dipm7yCLM3gN6Weq3uh982BxOFuLUJF...</td>\n",
       "      <td>#FFFFFF</td>\n",
       "      <td>566,552</td>\n",
       "      <td>2022-04-01 23:59:59.993000+00:00</td>\n",
       "      <td>34997263</td>\n",
       "    </tr>\n",
       "    <tr>\n",
       "      <th>12278381</th>\n",
       "      <td>2022-04-01 23:59:59.994 UTC</td>\n",
       "      <td>X9wV3qCoxF1tysu8za1DMRfGCVzXTTv2RRZi6PqTLcHIZt...</td>\n",
       "      <td>#000000</td>\n",
       "      <td>618,533</td>\n",
       "      <td>2022-04-01 23:59:59.994000+00:00</td>\n",
       "      <td>34997264</td>\n",
       "    </tr>\n",
       "    <tr>\n",
       "      <th>12278382</th>\n",
       "      <td>2022-04-01 23:59:59.994 UTC</td>\n",
       "      <td>ahlMMSchqTWmpXhQ8fW+nAVqtMvX/SneiGhY7Mr+o4xzOH...</td>\n",
       "      <td>#FF4500</td>\n",
       "      <td>371,451</td>\n",
       "      <td>2022-04-01 23:59:59.994000+00:00</td>\n",
       "      <td>34997265</td>\n",
       "    </tr>\n",
       "    <tr>\n",
       "      <th>12278383</th>\n",
       "      <td>2022-04-01 23:59:59.995 UTC</td>\n",
       "      <td>JEMIFsk+fG9KnqzfraQG5V4rjg2OvrHLFz/AGBtRM1zBVZ...</td>\n",
       "      <td>#000000</td>\n",
       "      <td>566,449</td>\n",
       "      <td>2022-04-01 23:59:59.995000+00:00</td>\n",
       "      <td>34997266</td>\n",
       "    </tr>\n",
       "    <tr>\n",
       "      <th>12278384</th>\n",
       "      <td>2022-04-01 23:59:59.996 UTC</td>\n",
       "      <td>uxiXw11jw3PXoEf4ukGh3aqTbhopkOkgeTGN5EfsqENiw8...</td>\n",
       "      <td>#FFFFFF</td>\n",
       "      <td>377,106</td>\n",
       "      <td>2022-04-01 23:59:59.996000+00:00</td>\n",
       "      <td>34997267</td>\n",
       "    </tr>\n",
       "  </tbody>\n",
       "</table>\n",
       "<p>12278385 rows × 6 columns</p>\n",
       "</div>"
      ],
      "text/plain": [
       "                            timestamp  \\\n",
       "0         2022-04-01 15:38:01.116 UTC   \n",
       "1         2022-04-01 15:38:01.124 UTC   \n",
       "2          2022-04-01 15:38:01.13 UTC   \n",
       "3         2022-04-01 15:38:01.131 UTC   \n",
       "4         2022-04-01 15:38:01.134 UTC   \n",
       "...                               ...   \n",
       "12278380  2022-04-01 23:59:59.993 UTC   \n",
       "12278381  2022-04-01 23:59:59.994 UTC   \n",
       "12278382  2022-04-01 23:59:59.994 UTC   \n",
       "12278383  2022-04-01 23:59:59.995 UTC   \n",
       "12278384  2022-04-01 23:59:59.996 UTC   \n",
       "\n",
       "                                                    user_id pixel_color  \\\n",
       "0         WYFuP/nwVCIBrw5XOVYKsHyo/fJpOJcIXCm75iKLqEz92B...     #000000   \n",
       "1         1Fie0j8msAiBmD5+NfV4SdY6ilMDHV9XJc6zWdhgAyrc8H...     #000000   \n",
       "2         qvqMCBzdQyIL1ET+iZvXilEjCrt7cjq3oPG3uUad8tWi1X...     #FFFFFF   \n",
       "3         TGLWFhne7tzE8iBhUWm7K3m6SrH+2xBl599XMhdtvV6RqV...     #FF4500   \n",
       "4         C1E2rtkIcBP+omujs+YcSHfdWfCBpcxq6uIQpSlekwfyIq...     #FFFFFF   \n",
       "...                                                     ...         ...   \n",
       "12278380  uWEWZve8leRocb4Dipm7yCLM3gN6Weq3uh982BxOFuLUJF...     #FFFFFF   \n",
       "12278381  X9wV3qCoxF1tysu8za1DMRfGCVzXTTv2RRZi6PqTLcHIZt...     #000000   \n",
       "12278382  ahlMMSchqTWmpXhQ8fW+nAVqtMvX/SneiGhY7Mr+o4xzOH...     #FF4500   \n",
       "12278383  JEMIFsk+fG9KnqzfraQG5V4rjg2OvrHLFz/AGBtRM1zBVZ...     #000000   \n",
       "12278384  uxiXw11jw3PXoEf4ukGh3aqTbhopkOkgeTGN5EfsqENiw8...     #FFFFFF   \n",
       "\n",
       "         coordinate                   conv_timestamp  __index_level_0__  \n",
       "0           191,662 2022-04-01 15:38:01.116000+00:00           10119006  \n",
       "1            239,18 2022-04-01 15:38:01.124000+00:00           10119007  \n",
       "2           722,727 2022-04-01 15:38:01.130000+00:00           10119008  \n",
       "3            645,46 2022-04-01 15:38:01.131000+00:00           10119009  \n",
       "4            904,83 2022-04-01 15:38:01.134000+00:00           10119010  \n",
       "...             ...                              ...                ...  \n",
       "12278380    566,552 2022-04-01 23:59:59.993000+00:00           34997263  \n",
       "12278381    618,533 2022-04-01 23:59:59.994000+00:00           34997264  \n",
       "12278382    371,451 2022-04-01 23:59:59.994000+00:00           34997265  \n",
       "12278383    566,449 2022-04-01 23:59:59.995000+00:00           34997266  \n",
       "12278384    377,106 2022-04-01 23:59:59.996000+00:00           34997267  \n",
       "\n",
       "[12278385 rows x 6 columns]"
      ]
     },
     "execution_count": 52,
     "metadata": {},
     "output_type": "execute_result"
    }
   ],
   "source": [
    "parquet.read_table(parquet_file, use_threads=True).to_pandas()"
   ]
  },
  {
   "cell_type": "code",
   "execution_count": 13,
   "metadata": {},
   "outputs": [
    {
     "data": {
      "text/plain": [
       "1995588"
      ]
     },
     "execution_count": 13,
     "metadata": {},
     "output_type": "execute_result"
    }
   ],
   "source": [
    "pd.unique(csv.read_csv(csv_file, read_options=csv.ReadOptions(use_threads=True)).to_pandas()['user_id']).shape[0]"
   ]
  },
  {
   "cell_type": "code",
   "execution_count": 9,
   "metadata": {},
   "outputs": [
    {
     "data": {
      "text/plain": [
       "1995588"
      ]
     },
     "execution_count": 9,
     "metadata": {},
     "output_type": "execute_result"
    }
   ],
   "source": [
    "pd.unique(csv.read_csv(csv_file, read_options=csv.ReadOptions(use_threads=False)).to_pandas()['user_id']).shape[0]"
   ]
  },
  {
   "cell_type": "code",
   "execution_count": 11,
   "metadata": {},
   "outputs": [
    {
     "data": {
      "text/plain": [
       "1995588"
      ]
     },
     "execution_count": 11,
     "metadata": {},
     "output_type": "execute_result"
    }
   ],
   "source": [
    "pd.unique(csv.read_csv(csv_file).to_pandas()['user_id']).shape[0]"
   ]
  },
  {
   "cell_type": "code",
   "execution_count": null,
   "metadata": {},
   "outputs": [],
   "source": [
    "df2.head()"
   ]
  },
  {
   "cell_type": "code",
   "execution_count": 19,
   "metadata": {},
   "outputs": [],
   "source": [
    "rp = parquet.read_table(parquet_file, memory_map=True)"
   ]
  },
  {
   "cell_type": "code",
   "execution_count": 20,
   "metadata": {},
   "outputs": [],
   "source": [
    "del rp"
   ]
  },
  {
   "cell_type": "code",
   "execution_count": null,
   "metadata": {},
   "outputs": [],
   "source": [
    "rp2 = parquet.read_table(parquet_file, filters=[()])\n"
   ]
  },
  {
   "cell_type": "code",
   "execution_count": 46,
   "metadata": {},
   "outputs": [
    {
     "ename": "AttributeError",
     "evalue": "'builtin_function_or_method' object has no attribute 'from_pandas'",
     "output_type": "error",
     "traceback": [
      "\u001b[0;31m---------------------------------------------------------------------------\u001b[0m",
      "\u001b[0;31mAttributeError\u001b[0m                            Traceback (most recent call last)",
      "\u001b[1;32m/home/mimslade/dev/projects/file-bench/pyarrow_vs_pandas_reader.ipynb Cell 19'\u001b[0m in \u001b[0;36m<cell line: 2>\u001b[0;34m()\u001b[0m\n\u001b[1;32m      <a href='vscode-notebook-cell:/home/mimslade/dev/projects/file-bench/pyarrow_vs_pandas_reader.ipynb#ch0000019?line=0'>1</a>\u001b[0m \u001b[39m#pa.TimestampArray.from_pandas()\u001b[39;00m\n\u001b[0;32m----> <a href='vscode-notebook-cell:/home/mimslade/dev/projects/file-bench/pyarrow_vs_pandas_reader.ipynb#ch0000019?line=1'>2</a>\u001b[0m pa\u001b[39m.\u001b[39;49mtimestamp\u001b[39m.\u001b[39;49mfrom_pandas()\n\u001b[1;32m      <a href='vscode-notebook-cell:/home/mimslade/dev/projects/file-bench/pyarrow_vs_pandas_reader.ipynb#ch0000019?line=2'>3</a>\u001b[0m pd\u001b[39m.\u001b[39mTimestamp(\u001b[39m2022\u001b[39m, \u001b[39m4\u001b[39m, \u001b[39m1\u001b[39m, \u001b[39m16\u001b[39m, \u001b[39m0\u001b[39m, \u001b[39m0\u001b[39m, \u001b[39m0\u001b[39m, \u001b[39m0\u001b[39m, \u001b[39m'\u001b[39m\u001b[39mutc\u001b[39m\u001b[39m'\u001b[39m)\n",
      "\u001b[0;31mAttributeError\u001b[0m: 'builtin_function_or_method' object has no attribute 'from_pandas'"
     ]
    }
   ],
   "source": [
    "\n",
    "#pa.TimestampArray.from_pandas()\n",
    "pa.TimestampArray.from_pandas\n",
    "pd.Timestamp(2022, 4, 1, 16, 0, 0, 0, 0, 'utc')"
   ]
  },
  {
   "cell_type": "code",
   "execution_count": 47,
   "metadata": {},
   "outputs": [],
   "source": [
    "\n",
    "t = parquet.read_table(parquet_file, columns=['conv_timestamp'])"
   ]
  },
  {
   "cell_type": "code",
   "execution_count": 57,
   "metadata": {},
   "outputs": [
    {
     "data": {
      "text/plain": [
       "'2022-04-01T16:00:00+00:00'"
      ]
     },
     "execution_count": 57,
     "metadata": {},
     "output_type": "execute_result"
    }
   ],
   "source": [
    "import datetime\n",
    "from datetime import timezone\n",
    "datetime.datetime(2022, 4, 1, 16, tzinfo=timezone.utc)"
   ]
  },
  {
   "cell_type": "code",
   "execution_count": null,
   "metadata": {},
   "outputs": [],
   "source": [
    "parquet.read_table(parquet_file)"
   ]
  },
  {
   "cell_type": "code",
   "execution_count": 61,
   "metadata": {},
   "outputs": [],
   "source": [
    "df = parquet.read_table(parquet_file, filters=[('conv_timestamp', '<', datetime.datetime(2022, 4, 1, 16, tzinfo=timezone.utc))]).to_pandas()"
   ]
  },
  {
   "cell_type": "code",
   "execution_count": 68,
   "metadata": {},
   "outputs": [],
   "source": [
    "df = parquet.read_table(parquet_file).to_pandas()"
   ]
  },
  {
   "cell_type": "code",
   "execution_count": 174,
   "metadata": {},
   "outputs": [
    {
     "name": "stdout",
     "output_type": "stream",
     "text": [
      "32\n"
     ]
    }
   ],
   "source": [
    "un = parquet.read_table(f'data/raw/parquet/{reddit_place}.parquet', columns=['pixel_color'])['pixel_color'].combine_chunks().unique()\n",
    "print(len(un))"
   ]
  },
  {
   "cell_type": "code",
   "execution_count": 173,
   "metadata": {},
   "outputs": [],
   "source": [
    "if t:\n",
    "    del t"
   ]
  },
  {
   "cell_type": "code",
   "execution_count": 74,
   "metadata": {},
   "outputs": [
    {
     "data": {
      "text/plain": [
       "<pyarrow.Int64Scalar: 4064>"
      ]
     },
     "execution_count": 74,
     "metadata": {},
     "output_type": "execute_result"
    }
   ],
   "source": [
    "import pyarrow.compute as pc\n",
    "pc.count_distinct(table['pixel_color'])"
   ]
  },
  {
   "cell_type": "code",
   "execution_count": 118,
   "metadata": {},
   "outputs": [
    {
     "name": "stdout",
     "output_type": "stream",
     "text": [
      "1995588\n"
     ]
    }
   ],
   "source": [
    "ap = parquet.read_table(parquet_file)\n",
    "r = pc.count_distinct(ap['user_id'].combine_chunks())\n",
    "print(r)"
   ]
  },
  {
   "cell_type": "code",
   "execution_count": 165,
   "metadata": {},
   "outputs": [
    {
     "name": "stdout",
     "output_type": "stream",
     "text": [
      "16\n"
     ]
    }
   ],
   "source": [
    "ap = len(parquet.read_table(parquet_file, columns=['pixel_color'])['pixel_color'].combine_chunks().unique())\n",
    "print(ap)"
   ]
  },
  {
   "cell_type": "code",
   "execution_count": 161,
   "metadata": {},
   "outputs": [
    {
     "name": "stdout",
     "output_type": "stream",
     "text": [
      "16\n"
     ]
    }
   ],
   "source": [
    "cv = len(csv.read_csv(csv_file)['pixel_color'].combine_chunks().unique())\n",
    "print(cv)"
   ]
  },
  {
   "cell_type": "code",
   "execution_count": 162,
   "metadata": {},
   "outputs": [
    {
     "name": "stdout",
     "output_type": "stream",
     "text": [
      "16\n"
     ]
    }
   ],
   "source": [
    "orca = len(orc.read_table(orc_file, columns=['pixel_color'])['pixel_color'].combine_chunks().unique())\n",
    "print(orca)"
   ]
  },
  {
   "cell_type": "code",
   "execution_count": 164,
   "metadata": {},
   "outputs": [
    {
     "name": "stdout",
     "output_type": "stream",
     "text": [
      "16\n"
     ]
    }
   ],
   "source": [
    "print(len(feather.read_table(feather_file, columns=['pixel_color'])['pixel_color'].combine_chunks().unique()))"
   ]
  },
  {
   "cell_type": "code",
   "execution_count": 138,
   "metadata": {},
   "outputs": [
    {
     "ename": "AttributeError",
     "evalue": "'Series' object has no attribute 'columns'",
     "output_type": "error",
     "traceback": [
      "\u001b[0;31m---------------------------------------------------------------------------\u001b[0m",
      "\u001b[0;31mAttributeError\u001b[0m                            Traceback (most recent call last)",
      "\u001b[1;32m/home/mimslade/dev/projects/file-bench/pyarrow_vs_pandas_reader.ipynb Cell 29'\u001b[0m in \u001b[0;36m<cell line: 2>\u001b[0;34m()\u001b[0m\n\u001b[1;32m      <a href='vscode-notebook-cell:/home/mimslade/dev/projects/file-bench/pyarrow_vs_pandas_reader.ipynb#ch0000037?line=0'>1</a>\u001b[0m df \u001b[39m=\u001b[39m ap[\u001b[39m'\u001b[39m\u001b[39mpixel_color\u001b[39m\u001b[39m'\u001b[39m]\u001b[39m.\u001b[39mcombine_chunks()\u001b[39m.\u001b[39mvalue_counts()\u001b[39m.\u001b[39mto_pandas()\n\u001b[0;32m----> <a href='vscode-notebook-cell:/home/mimslade/dev/projects/file-bench/pyarrow_vs_pandas_reader.ipynb#ch0000037?line=1'>2</a>\u001b[0m df\u001b[39m.\u001b[39;49mcolumns()\n",
      "File \u001b[0;32m~/dev/projects/file-bench/venv/lib/python3.8/site-packages/pandas/core/generic.py:5575\u001b[0m, in \u001b[0;36mNDFrame.__getattr__\u001b[0;34m(self, name)\u001b[0m\n\u001b[1;32m   <a href='file:///home/mimslade/dev/projects/file-bench/venv/lib/python3.8/site-packages/pandas/core/generic.py?line=5567'>5568</a>\u001b[0m \u001b[39mif\u001b[39;00m (\n\u001b[1;32m   <a href='file:///home/mimslade/dev/projects/file-bench/venv/lib/python3.8/site-packages/pandas/core/generic.py?line=5568'>5569</a>\u001b[0m     name \u001b[39mnot\u001b[39;00m \u001b[39min\u001b[39;00m \u001b[39mself\u001b[39m\u001b[39m.\u001b[39m_internal_names_set\n\u001b[1;32m   <a href='file:///home/mimslade/dev/projects/file-bench/venv/lib/python3.8/site-packages/pandas/core/generic.py?line=5569'>5570</a>\u001b[0m     \u001b[39mand\u001b[39;00m name \u001b[39mnot\u001b[39;00m \u001b[39min\u001b[39;00m \u001b[39mself\u001b[39m\u001b[39m.\u001b[39m_metadata\n\u001b[1;32m   <a href='file:///home/mimslade/dev/projects/file-bench/venv/lib/python3.8/site-packages/pandas/core/generic.py?line=5570'>5571</a>\u001b[0m     \u001b[39mand\u001b[39;00m name \u001b[39mnot\u001b[39;00m \u001b[39min\u001b[39;00m \u001b[39mself\u001b[39m\u001b[39m.\u001b[39m_accessors\n\u001b[1;32m   <a href='file:///home/mimslade/dev/projects/file-bench/venv/lib/python3.8/site-packages/pandas/core/generic.py?line=5571'>5572</a>\u001b[0m     \u001b[39mand\u001b[39;00m \u001b[39mself\u001b[39m\u001b[39m.\u001b[39m_info_axis\u001b[39m.\u001b[39m_can_hold_identifiers_and_holds_name(name)\n\u001b[1;32m   <a href='file:///home/mimslade/dev/projects/file-bench/venv/lib/python3.8/site-packages/pandas/core/generic.py?line=5572'>5573</a>\u001b[0m ):\n\u001b[1;32m   <a href='file:///home/mimslade/dev/projects/file-bench/venv/lib/python3.8/site-packages/pandas/core/generic.py?line=5573'>5574</a>\u001b[0m     \u001b[39mreturn\u001b[39;00m \u001b[39mself\u001b[39m[name]\n\u001b[0;32m-> <a href='file:///home/mimslade/dev/projects/file-bench/venv/lib/python3.8/site-packages/pandas/core/generic.py?line=5574'>5575</a>\u001b[0m \u001b[39mreturn\u001b[39;00m \u001b[39mobject\u001b[39;49m\u001b[39m.\u001b[39;49m\u001b[39m__getattribute__\u001b[39;49m(\u001b[39mself\u001b[39;49m, name)\n",
      "\u001b[0;31mAttributeError\u001b[0m: 'Series' object has no attribute 'columns'"
     ]
    }
   ],
   "source": [
    "df = ap['pixel_color'].combine_chunks().value_counts().to_pandas()\n",
    "df.columns()"
   ]
  },
  {
   "cell_type": "code",
   "execution_count": 91,
   "metadata": {},
   "outputs": [
    {
     "data": {
      "text/plain": [
       "<pyarrow.Int64Scalar: 192>"
      ]
     },
     "execution_count": 91,
     "metadata": {},
     "output_type": "execute_result"
    }
   ],
   "source": [
    "pc.count_distinct(ap['pixel_color'], mode='only_valid')\n"
   ]
  },
  {
   "cell_type": "code",
   "execution_count": 94,
   "metadata": {},
   "outputs": [
    {
     "data": {
      "text/plain": [
       "<pyarrow.Int64Scalar: 4>"
      ]
     },
     "execution_count": 94,
     "metadata": {},
     "output_type": "execute_result"
    }
   ],
   "source": [
    "pc.count_distinct(ap['pixel_color'][:10])"
   ]
  },
  {
   "cell_type": "code",
   "execution_count": 112,
   "metadata": {},
   "outputs": [
    {
     "data": {
      "text/plain": [
       "16"
      ]
     },
     "execution_count": 112,
     "metadata": {},
     "output_type": "execute_result"
    }
   ],
   "source": [
    "len(ap['pixel_color'].combine_chunks().unique())"
   ]
  },
  {
   "cell_type": "code",
   "execution_count": 109,
   "metadata": {},
   "outputs": [],
   "source": [
    "sum = pa.scalar(0)\n",
    "for chunk in ap['pixel_color'].iterchunks():\n",
    "    sum = pc.add(sum, pc.count_distinct(chunk).cast('int64'))"
   ]
  },
  {
   "cell_type": "code",
   "execution_count": 110,
   "metadata": {},
   "outputs": [
    {
     "data": {
      "text/plain": [
       "<pyarrow.Int64Scalar: 192>"
      ]
     },
     "execution_count": 110,
     "metadata": {},
     "output_type": "execute_result"
    }
   ],
   "source": [
    "sum"
   ]
  },
  {
   "cell_type": "code",
   "execution_count": null,
   "metadata": {},
   "outputs": [],
   "source": []
  },
  {
   "cell_type": "code",
   "execution_count": 63,
   "metadata": {},
   "outputs": [
    {
     "name": "stderr",
     "output_type": "stream",
     "text": [
      "/tmp/ipykernel_4464/2369844159.py:1: FutureWarning: Treating datetime data as categorical rather than numeric in `.describe` is deprecated and will be removed in a future version of pandas. Specify `datetime_is_numeric=True` to silence this warning and adopt the future behavior now.\n",
      "  df['conv_timestamp'].describe()\n"
     ]
    },
    {
     "data": {
      "text/plain": [
       "count                              2413550\n",
       "unique                             2082516\n",
       "top       2022-04-01 15:17:21.204000+00:00\n",
       "freq                                    40\n",
       "first     2022-04-01 12:44:10.315000+00:00\n",
       "last      2022-04-01 15:59:59.990000+00:00\n",
       "Name: conv_timestamp, dtype: object"
      ]
     },
     "execution_count": 63,
     "metadata": {},
     "output_type": "execute_result"
    }
   ],
   "source": [
    "df['conv_timestamp'].describe()"
   ]
  },
  {
   "cell_type": "code",
   "execution_count": 67,
   "metadata": {},
   "outputs": [
    {
     "data": {
      "text/html": [
       "<div>\n",
       "<style scoped>\n",
       "    .dataframe tbody tr th:only-of-type {\n",
       "        vertical-align: middle;\n",
       "    }\n",
       "\n",
       "    .dataframe tbody tr th {\n",
       "        vertical-align: top;\n",
       "    }\n",
       "\n",
       "    .dataframe thead th {\n",
       "        text-align: right;\n",
       "    }\n",
       "</style>\n",
       "<table border=\"1\" class=\"dataframe\">\n",
       "  <thead>\n",
       "    <tr style=\"text-align: right;\">\n",
       "      <th></th>\n",
       "      <th>timestamp</th>\n",
       "      <th>user_id</th>\n",
       "      <th>pixel_color</th>\n",
       "      <th>coordinate</th>\n",
       "      <th>conv_timestamp</th>\n",
       "      <th>__index_level_0__</th>\n",
       "    </tr>\n",
       "  </thead>\n",
       "  <tbody>\n",
       "    <tr>\n",
       "      <th>374770</th>\n",
       "      <td>2022-04-01 12:44:10.315 UTC</td>\n",
       "      <td>lEjremCtNoQaJ6KGBSWsatGEMXwjqoQqGZesWxHdyPetpA...</td>\n",
       "      <td>#7EED56</td>\n",
       "      <td>42,42</td>\n",
       "      <td>2022-04-01 12:44:10.315000+00:00</td>\n",
       "      <td>18070668</td>\n",
       "    </tr>\n",
       "  </tbody>\n",
       "</table>\n",
       "</div>"
      ],
      "text/plain": [
       "                          timestamp  \\\n",
       "374770  2022-04-01 12:44:10.315 UTC   \n",
       "\n",
       "                                                  user_id pixel_color  \\\n",
       "374770  lEjremCtNoQaJ6KGBSWsatGEMXwjqoQqGZesWxHdyPetpA...     #7EED56   \n",
       "\n",
       "       coordinate                   conv_timestamp  __index_level_0__  \n",
       "374770      42,42 2022-04-01 12:44:10.315000+00:00           18070668  "
      ]
     },
     "execution_count": 67,
     "metadata": {},
     "output_type": "execute_result"
    }
   ],
   "source": [
    "filter = df['conv_timestamp'] == '2022-04-01 12:44:10.315000+00:00'\n",
    "df[filter].head()"
   ]
  }
 ],
 "metadata": {
  "interpreter": {
   "hash": "1014a147ebe84edf89cc949d1474b378add343e44159593a1f5b609a8f202a90"
  },
  "kernelspec": {
   "display_name": "Python 3.8.10 ('venv': venv)",
   "language": "python",
   "name": "python3"
  },
  "language_info": {
   "codemirror_mode": {
    "name": "ipython",
    "version": 3
   },
   "file_extension": ".py",
   "mimetype": "text/x-python",
   "name": "python",
   "nbconvert_exporter": "python",
   "pygments_lexer": "ipython3",
   "version": "3.8.10"
  },
  "orig_nbformat": 4
 },
 "nbformat": 4,
 "nbformat_minor": 2
}
