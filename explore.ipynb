{
 "cells": [
  {
   "cell_type": "code",
   "execution_count": 20,
   "metadata": {},
   "outputs": [],
   "source": [
    "import pandas as pd\n",
    "from timeit import default_timer as timer\n",
    "from datetime import timedelta\n",
    "import pyarrow.parquet as parquet\n",
    "\n",
    "def time_func(func, *args, **kwargs):\n",
    "    start = timer()\n",
    "    print(f'Starting {func.__name__}: [{start}]')\n",
    "    result = func(*args, **kwargs)\n",
    "    end = timer()\n",
    "    print(f'Done {func.__name__}: [{end}]')\n",
    "    total_in_seconds = end - start\n",
    "    print(f'Total time: {timedelta(seconds=total_in_seconds)}')\n",
    "\n",
    "    return result, total_in_seconds"
   ]
  },
  {
   "cell_type": "code",
   "execution_count": 37,
   "metadata": {},
   "outputs": [],
   "source": [
    "from pathlib import Path\n",
    "import pyarrow.orc as orc\n",
    "import pyarrow.feather as feather\n",
    "\n",
    "\n",
    "def load_data(path, file_type):\n",
    "    for path_ in path.iterdir():\n",
    "        print(f'{path_.name}: {round(path_.stat().st_size / ((1024 ** 2) * 1000), 4)} GB.')\n",
    "        if file_type == 'parquet':\n",
    "            result = time_func(\n",
    "                parquet.read_table,\n",
    "                path_\n",
    "            )\n",
    "        elif file_type == 'orc':\n",
    "            result = time_func(\n",
    "                orc.read_table,\n",
    "                path_\n",
    "            )\n",
    "        elif file_type == 'feather':\n",
    "            result = time_func(\n",
    "                feather.read_table,\n",
    "                path_\n",
    "            )\n",
    "        \n",
    "        df = result[0].to_pandas()\n",
    "        print(df['timestamp'].iloc[1])\n",
    "        print('-' * 20)\n",
    "        print('')"
   ]
  },
  {
   "cell_type": "code",
   "execution_count": 38,
   "metadata": {},
   "outputs": [
    {
     "name": "stdout",
     "output_type": "stream",
     "text": [
      "data/compressed/orc orc\n",
      "2022_place_canvas_history.orc.zstd: 0.8653 GB.\n",
      "Starting read_table: [191589.199898697]\n",
      "Done read_table: [191591.529716015]\n",
      "Total time: 0:00:02.329817\n",
      "2022-04-01 15:38:01.124 UTC\n",
      "--------------------\n",
      "\n",
      "2022_place_canvas_history.orc.snappy: 1.1921 GB.\n",
      "Starting read_table: [191599.122264576]\n",
      "Done read_table: [191601.682755539]\n",
      "Total time: 0:00:02.560491\n",
      "2022-04-01 15:38:01.124 UTC\n",
      "--------------------\n",
      "\n",
      "2022_place_canvas_history.orc.uncompressed: 1.543 GB.\n",
      "Starting read_table: [191609.944827194]\n",
      "Done read_table: [191611.426779953]\n",
      "Total time: 0:00:01.481953\n",
      "2022-04-01 15:38:01.124 UTC\n",
      "--------------------\n",
      "\n",
      "2022_place_canvas_history.orc.zlib: 0.8939 GB.\n",
      "Starting read_table: [191619.522831619]\n",
      "Done read_table: [191625.448336506]\n",
      "Total time: 0:00:05.925505\n",
      "2022-04-01 15:38:01.124 UTC\n",
      "--------------------\n",
      "\n",
      "2022_place_canvas_history.orc.lz4: 1.5432 GB.\n",
      "Starting read_table: [191633.494437256]\n",
      "Done read_table: [191635.035566907]\n",
      "Total time: 0:00:01.541130\n",
      "2022-04-01 15:38:01.124 UTC\n",
      "--------------------\n",
      "\n",
      "data/compressed/feather feather\n",
      "2022_place_canvas_history.feather.uncompressed: 1.8822 GB.\n",
      "Starting read_table: [191644.027452607]\n",
      "Done read_table: [191648.197651736]\n",
      "Total time: 0:00:04.170199\n",
      "2022-04-01 15:38:01.124 UTC\n",
      "--------------------\n",
      "\n",
      "2022_place_canvas_history.feather.zstd: 1.0138 GB.\n",
      "Starting read_table: [191656.195918969]\n",
      "Done read_table: [191659.160531026]\n",
      "Total time: 0:00:02.964612\n",
      "2022-04-01 15:38:01.124 UTC\n",
      "--------------------\n",
      "\n",
      "2022_place_canvas_history.feather.lz4: 1.4789 GB.\n",
      "Starting read_table: [191667.407402297]\n",
      "Done read_table: [191670.906639216]\n",
      "Total time: 0:00:03.499237\n",
      "2022-04-01 15:38:01.124 UTC\n",
      "--------------------\n",
      "\n"
     ]
    }
   ],
   "source": [
    "parquet_path = Path('data/compressed/parquet')\n",
    "orc_path = Path('data/compressed/orc')\n",
    "feather_path = Path('data/compressed/feather')\n",
    "variants = [(parquet_path, 'parquet'), (orc_path, 'orc'), (feather_path, 'feather')]\n",
    "\n",
    "for path, filetype in variants[1:]:\n",
    "    print(path, filetype)\n",
    "    load_data(path, filetype)"
   ]
  }
 ],
 "metadata": {
  "interpreter": {
   "hash": "1014a147ebe84edf89cc949d1474b378add343e44159593a1f5b609a8f202a90"
  },
  "kernelspec": {
   "display_name": "Python 3.8.10 ('venv': venv)",
   "language": "python",
   "name": "python3"
  },
  "language_info": {
   "codemirror_mode": {
    "name": "ipython",
    "version": 3
   },
   "file_extension": ".py",
   "mimetype": "text/x-python",
   "name": "python",
   "nbconvert_exporter": "python",
   "pygments_lexer": "ipython3",
   "version": "3.8.10"
  },
  "orig_nbformat": 4
 },
 "nbformat": 4,
 "nbformat_minor": 2
}
