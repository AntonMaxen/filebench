{
 "cells": [
  {
   "cell_type": "code",
   "execution_count": 1,
   "metadata": {},
   "outputs": [],
   "source": [
    "import pyarrow.parquet as parquet\n",
    "import pandas as pd"
   ]
  },
  {
   "cell_type": "code",
   "execution_count": 2,
   "metadata": {},
   "outputs": [],
   "source": [
    "table = parquet.read_table('data/small/day1/2022_place_canvas_history.parquet')"
   ]
  },
  {
   "cell_type": "code",
   "execution_count": 3,
   "metadata": {},
   "outputs": [
    {
     "data": {
      "text/plain": [
       "{'timestamp': 'string',\n",
       " 'user_id': 'string',\n",
       " 'pixel_color': 'string',\n",
       " 'coordinate': 'string',\n",
       " 'conv_timestamp': 'timestamp[us, tz=UTC]',\n",
       " '__index_level_0__': 'int64'}"
      ]
     },
     "execution_count": 3,
     "metadata": {},
     "output_type": "execute_result"
    }
   ],
   "source": [
    "{field.name:str(field.type) for field in list(table.schema)}"
   ]
  },
  {
   "cell_type": "code",
   "execution_count": 5,
   "metadata": {},
   "outputs": [],
   "source": [
    "df = table.to_pandas()"
   ]
  },
  {
   "cell_type": "code",
   "execution_count": 6,
   "metadata": {},
   "outputs": [
    {
     "name": "stdout",
     "output_type": "stream",
     "text": [
      "10008984 1995588 16 994573 10008984 12278385\n"
     ]
    }
   ],
   "source": [
    "print(\n",
    "pd.unique(df['timestamp']).shape[0],\n",
    "pd.unique(df['user_id']).shape[0],\n",
    "pd.unique(df['pixel_color']).shape[0],\n",
    "pd.unique(df['coordinate']).shape[0],\n",
    "pd.unique(df['conv_timestamp']).shape[0],\n",
    "pd.unique(df['__index_level_0__']).shape[0]\n",
    ")"
   ]
  },
  {
   "cell_type": "code",
   "execution_count": 19,
   "metadata": {},
   "outputs": [
    {
     "data": {
      "text/plain": [
       "1995588"
      ]
     },
     "execution_count": 19,
     "metadata": {},
     "output_type": "execute_result"
    }
   ],
   "source": [
    "pd.unique(df['user_id']).shape[0]"
   ]
  },
  {
   "cell_type": "code",
   "execution_count": 7,
   "metadata": {},
   "outputs": [
    {
     "data": {
      "text/plain": [
       "0           WYFuP/nwVCIBrw5XOVYKsHyo/fJpOJcIXCm75iKLqEz92B...\n",
       "1           1Fie0j8msAiBmD5+NfV4SdY6ilMDHV9XJc6zWdhgAyrc8H...\n",
       "2           qvqMCBzdQyIL1ET+iZvXilEjCrt7cjq3oPG3uUad8tWi1X...\n",
       "3           TGLWFhne7tzE8iBhUWm7K3m6SrH+2xBl599XMhdtvV6RqV...\n",
       "4           C1E2rtkIcBP+omujs+YcSHfdWfCBpcxq6uIQpSlekwfyIq...\n",
       "                                  ...                        \n",
       "12278380    uWEWZve8leRocb4Dipm7yCLM3gN6Weq3uh982BxOFuLUJF...\n",
       "12278381    X9wV3qCoxF1tysu8za1DMRfGCVzXTTv2RRZi6PqTLcHIZt...\n",
       "12278382    ahlMMSchqTWmpXhQ8fW+nAVqtMvX/SneiGhY7Mr+o4xzOH...\n",
       "12278383    JEMIFsk+fG9KnqzfraQG5V4rjg2OvrHLFz/AGBtRM1zBVZ...\n",
       "12278384    uxiXw11jw3PXoEf4ukGh3aqTbhopkOkgeTGN5EfsqENiw8...\n",
       "Name: user_id, Length: 12278385, dtype: object"
      ]
     },
     "execution_count": 7,
     "metadata": {},
     "output_type": "execute_result"
    }
   ],
   "source": [
    "df['user_id']"
   ]
  },
  {
   "cell_type": "code",
   "execution_count": 20,
   "metadata": {},
   "outputs": [
    {
     "data": {
      "text/plain": [
       "10008984"
      ]
     },
     "execution_count": 20,
     "metadata": {},
     "output_type": "execute_result"
    }
   ],
   "source": [
    "pd.unique(df['timestamp']).shape[0]"
   ]
  },
  {
   "cell_type": "code",
   "execution_count": 22,
   "metadata": {},
   "outputs": [
    {
     "data": {
      "text/plain": [
       "(12278385, 6)"
      ]
     },
     "execution_count": 22,
     "metadata": {},
     "output_type": "execute_result"
    }
   ],
   "source": [
    "df.shape"
   ]
  },
  {
   "cell_type": "code",
   "execution_count": 10,
   "metadata": {},
   "outputs": [],
   "source": [
    "p_file = pd.read_parquet('data/small/day1/2022_place_canvas_history.parquet')"
   ]
  },
  {
   "cell_type": "code",
   "execution_count": 11,
   "metadata": {},
   "outputs": [],
   "source": [
    "import pyarrow.parquet as parquet\n",
    "p_file2 = parquet.read_table('data/small/day1/2022_place_canvas_history.parquet').to_pandas()"
   ]
  },
  {
   "cell_type": "code",
   "execution_count": 13,
   "metadata": {},
   "outputs": [],
   "source": [
    "c_file = pd.read_csv('data/small/day1/2022_place_canvas_history.csv')"
   ]
  },
  {
   "cell_type": "code",
   "execution_count": null,
   "metadata": {},
   "outputs": [],
   "source": [
    "import pyarrow.csv as csv\n",
    "ca_file = csv.read_csv('data/small/day1/2022_place_canvas_history.csv').to_pandas()"
   ]
  }
 ],
 "metadata": {
  "interpreter": {
   "hash": "8034bb673411d43a8ead9cbef07622a87e42e0a8dafdb262a436f0c34095fc72"
  },
  "kernelspec": {
   "display_name": "Python 3.9.7 ('base')",
   "language": "python",
   "name": "python3"
  },
  "language_info": {
   "codemirror_mode": {
    "name": "ipython",
    "version": 3
   },
   "file_extension": ".py",
   "mimetype": "text/x-python",
   "name": "python",
   "nbconvert_exporter": "python",
   "pygments_lexer": "ipython3",
   "version": "3.8.10"
  },
  "orig_nbformat": 4
 },
 "nbformat": 4,
 "nbformat_minor": 2
}
