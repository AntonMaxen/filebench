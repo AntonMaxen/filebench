{
 "cells": [
  {
   "cell_type": "code",
   "execution_count": 5,
   "metadata": {},
   "outputs": [],
   "source": [
    "import pyarrow.parquet as parquet\n",
    "import pyarrow.feather as feather\n",
    "import pyarrow.orc as orc\n",
    "import pyarrow.csv as csv\n",
    "import pyarrow as pa\n",
    "import pandas as pd\n",
    "from timeit import default_timer as timer\n",
    "from datetime import timedelta\n",
    "\n",
    "reddit_place = '2022_place_canvas_history'\n",
    "parquet_file = f'data/small/day1/{reddit_place}.parquet'\n",
    "feather_file = f'data/small/day1/{reddit_place}.feather'\n",
    "orc_file = f'data/small/day1/{reddit_place}.orc'\n",
    "csv_file = f'data/small/day1/{reddit_place}.csv'\n",
    "\n",
    "\n",
    "def time_func(func, *args, **kwargs):\n",
    "    start = timer()\n",
    "    result = func(*args, **kwargs)\n",
    "    end = timer()\n",
    "    total_in_seconds = end - start\n",
    "\n",
    "    return result, total_in_seconds\n",
    "\n",
    "\n",
    "def read_pyarrow_to_pandas(filename, filetype):\n",
    "    \"\"\"Read file to pyarrow table and convert to pandas dataframe\"\"\"\n",
    "    if filetype == 'parquet':\n",
    "        df = parquet.read_table(filename).to_pandas()\n",
    "    elif filetype == 'orc':\n",
    "        df = orc.read_table(filename).to_pandas()\n",
    "    elif filetype == 'feather':\n",
    "        df = feather.read_feather(filename)\n",
    "    elif filetype == 'csv':\n",
    "        df = csv.read_csv(filename).to_pandas()\n",
    "    \n",
    "    return df.shape\n",
    "\n",
    "\n",
    "def read_pandas(filename, filetype):\n",
    "    \"\"\"Read file to pandas dataframe\"\"\"\n",
    "    if filetype == 'parquet':\n",
    "        df = pd.read_parquet(filename)\n",
    "    elif filetype == 'orc':\n",
    "        df = pd.read_orc(filename)\n",
    "    elif filetype == 'feather':\n",
    "        df = pd.read_feather(filename)\n",
    "    elif filetype == 'csv':\n",
    "        df = pd.read_csv(filename)\n",
    "    \n",
    "    return df.shape\n",
    "\n",
    "\n",
    "def time_files_with_func(func, filenames, filetypes):\n",
    "    results = []\n",
    "    for filename, filetype in zip(filenames, filetypes):\n",
    "        result = time_func(\n",
    "            func,\n",
    "            filename,\n",
    "            filetype\n",
    "        )\n",
    "\n",
    "        results.append({\n",
    "            'function_name': func.__name__,\n",
    "            'filename': filename,\n",
    "            'filetype': filetype,\n",
    "            'function_return': result[0],\n",
    "            'time_in_seconds': result[1]\n",
    "        })\n",
    "\n",
    "    return results"
   ]
  },
  {
   "cell_type": "code",
   "execution_count": 6,
   "metadata": {},
   "outputs": [],
   "source": [
    "functions_to_test = [read_pandas, read_pyarrow_to_pandas]\n",
    "filenames = [parquet_file, orc_file, feather_file, csv_file]\n",
    "filetypes = ['parquet', 'orc', 'feather', 'csv']"
   ]
  },
  {
   "cell_type": "code",
   "execution_count": 7,
   "metadata": {},
   "outputs": [],
   "source": [
    "all_results = []\n",
    "for i in range(10):\n",
    "    results = []\n",
    "    for func in functions_to_test:\n",
    "        results.extend(time_files_with_func(func, filenames, filetypes))\n",
    "    \n",
    "    all_results.append(results)"
   ]
  },
  {
   "cell_type": "code",
   "execution_count": 9,
   "metadata": {},
   "outputs": [],
   "source": [
    "flat_list = []\n",
    "for test_number, results in enumerate(all_results):\n",
    "    for result in results:\n",
    "        flat_list.append({\n",
    "            'test_number': test_number,\n",
    "            **result\n",
    "        })"
   ]
  },
  {
   "cell_type": "code",
   "execution_count": 10,
   "metadata": {},
   "outputs": [],
   "source": [
    "import json\n",
    "with open('pandas_vs_pyarrow.json', 'w', encoding='utf8') as jfile:\n",
    "    json.dump(flat_list, jfile, indent=4)"
   ]
  }
 ],
 "metadata": {
  "interpreter": {
   "hash": "1014a147ebe84edf89cc949d1474b378add343e44159593a1f5b609a8f202a90"
  },
  "kernelspec": {
   "display_name": "Python 3.8.10 ('venv': venv)",
   "language": "python",
   "name": "python3"
  },
  "language_info": {
   "codemirror_mode": {
    "name": "ipython",
    "version": 3
   },
   "file_extension": ".py",
   "mimetype": "text/x-python",
   "name": "python",
   "nbconvert_exporter": "python",
   "pygments_lexer": "ipython3",
   "version": "3.8.10"
  },
  "orig_nbformat": 4
 },
 "nbformat": 4,
 "nbformat_minor": 2
}
