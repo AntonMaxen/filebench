{
 "cells": [
  {
   "cell_type": "code",
   "execution_count": 1,
   "metadata": {},
   "outputs": [],
   "source": [
    "import pyarrow.parquet as parquet\n",
    "import pyarrow.feather as feather\n",
    "import pyarrow.orc as orc\n",
    "import pyarrow.csv as csv\n",
    "from filebench.utils.measurements import memory_func\n",
    "from pathlib import Path\n",
    "from itertools import product\n",
    "from filebench.models import Test\n",
    "import datetime\n",
    "from filebench.constants import PATHS\n",
    "import dataclasses"
   ]
  },
  {
   "cell_type": "code",
   "execution_count": 6,
   "metadata": {},
   "outputs": [
    {
     "name": "stdout",
     "output_type": "stream",
     "text": [
      "(12278385, 5)\n"
     ]
    },
    {
     "ename": "KeyboardInterrupt",
     "evalue": "",
     "output_type": "error",
     "traceback": [
      "\u001b[0;31m---------------------------------------------------------------------------\u001b[0m",
      "\u001b[0;31mKeyboardInterrupt\u001b[0m                         Traceback (most recent call last)",
      "\u001b[1;32m/home/mimslade/dev/projects/file-bench/small_test.ipynb Cell 2'\u001b[0m in \u001b[0;36m<cell line: 1>\u001b[0;34m()\u001b[0m\n\u001b[1;32m      <a href='vscode-notebook-cell:/home/mimslade/dev/projects/file-bench/small_test.ipynb#ch0000001?line=8'>9</a>\u001b[0m     \u001b[39melif\u001b[39;00m filetype \u001b[39m==\u001b[39m \u001b[39m'\u001b[39m\u001b[39mcsv\u001b[39m\u001b[39m'\u001b[39m:\n\u001b[1;32m     <a href='vscode-notebook-cell:/home/mimslade/dev/projects/file-bench/small_test.ipynb#ch0000001?line=9'>10</a>\u001b[0m         table \u001b[39m=\u001b[39m csv\u001b[39m.\u001b[39mread_csv(a)\n\u001b[0;32m---> <a href='vscode-notebook-cell:/home/mimslade/dev/projects/file-bench/small_test.ipynb#ch0000001?line=11'>12</a>\u001b[0m     \u001b[39mprint\u001b[39m(table\u001b[39m.\u001b[39;49mto_pandas()\u001b[39m.\u001b[39mshape)\n\u001b[1;32m     <a href='vscode-notebook-cell:/home/mimslade/dev/projects/file-bench/small_test.ipynb#ch0000001?line=13'>14</a>\u001b[0m table\u001b[39m.\u001b[39mto_pandas()\u001b[39m.\u001b[39mhead()\n",
      "File \u001b[0;32m~/dev/projects/file-bench/venv/lib/python3.8/site-packages/pyarrow/array.pxi:767\u001b[0m, in \u001b[0;36mpyarrow.lib._PandasConvertible.to_pandas\u001b[0;34m()\u001b[0m\n",
      "File \u001b[0;32m~/dev/projects/file-bench/venv/lib/python3.8/site-packages/pyarrow/table.pxi:1996\u001b[0m, in \u001b[0;36mpyarrow.lib.Table._to_pandas\u001b[0;34m()\u001b[0m\n",
      "File \u001b[0;32m~/dev/projects/file-bench/venv/lib/python3.8/site-packages/pyarrow/pandas_compat.py:789\u001b[0m, in \u001b[0;36mtable_to_blockmanager\u001b[0;34m(options, table, categories, ignore_metadata, types_mapper)\u001b[0m\n\u001b[1;32m    <a href='file:///home/mimslade/dev/projects/file-bench/venv/lib/python3.8/site-packages/pyarrow/pandas_compat.py?line=786'>787</a>\u001b[0m _check_data_column_metadata_consistency(all_columns)\n\u001b[1;32m    <a href='file:///home/mimslade/dev/projects/file-bench/venv/lib/python3.8/site-packages/pyarrow/pandas_compat.py?line=787'>788</a>\u001b[0m columns \u001b[39m=\u001b[39m _deserialize_column_index(table, all_columns, column_indexes)\n\u001b[0;32m--> <a href='file:///home/mimslade/dev/projects/file-bench/venv/lib/python3.8/site-packages/pyarrow/pandas_compat.py?line=788'>789</a>\u001b[0m blocks \u001b[39m=\u001b[39m _table_to_blocks(options, table, categories, ext_columns_dtypes)\n\u001b[1;32m    <a href='file:///home/mimslade/dev/projects/file-bench/venv/lib/python3.8/site-packages/pyarrow/pandas_compat.py?line=790'>791</a>\u001b[0m axes \u001b[39m=\u001b[39m [columns, index]\n\u001b[1;32m    <a href='file:///home/mimslade/dev/projects/file-bench/venv/lib/python3.8/site-packages/pyarrow/pandas_compat.py?line=791'>792</a>\u001b[0m \u001b[39mreturn\u001b[39;00m BlockManager(blocks, axes)\n",
      "File \u001b[0;32m~/dev/projects/file-bench/venv/lib/python3.8/site-packages/pyarrow/pandas_compat.py:1135\u001b[0m, in \u001b[0;36m_table_to_blocks\u001b[0;34m(options, block_table, categories, extension_columns)\u001b[0m\n\u001b[1;32m   <a href='file:///home/mimslade/dev/projects/file-bench/venv/lib/python3.8/site-packages/pyarrow/pandas_compat.py?line=1129'>1130</a>\u001b[0m \u001b[39mdef\u001b[39;00m \u001b[39m_table_to_blocks\u001b[39m(options, block_table, categories, extension_columns):\n\u001b[1;32m   <a href='file:///home/mimslade/dev/projects/file-bench/venv/lib/python3.8/site-packages/pyarrow/pandas_compat.py?line=1130'>1131</a>\u001b[0m     \u001b[39m# Part of table_to_blockmanager\u001b[39;00m\n\u001b[1;32m   <a href='file:///home/mimslade/dev/projects/file-bench/venv/lib/python3.8/site-packages/pyarrow/pandas_compat.py?line=1131'>1132</a>\u001b[0m \n\u001b[1;32m   <a href='file:///home/mimslade/dev/projects/file-bench/venv/lib/python3.8/site-packages/pyarrow/pandas_compat.py?line=1132'>1133</a>\u001b[0m     \u001b[39m# Convert an arrow table to Block from the internal pandas API\u001b[39;00m\n\u001b[1;32m   <a href='file:///home/mimslade/dev/projects/file-bench/venv/lib/python3.8/site-packages/pyarrow/pandas_compat.py?line=1133'>1134</a>\u001b[0m     columns \u001b[39m=\u001b[39m block_table\u001b[39m.\u001b[39mcolumn_names\n\u001b[0;32m-> <a href='file:///home/mimslade/dev/projects/file-bench/venv/lib/python3.8/site-packages/pyarrow/pandas_compat.py?line=1134'>1135</a>\u001b[0m     result \u001b[39m=\u001b[39m pa\u001b[39m.\u001b[39;49mlib\u001b[39m.\u001b[39;49mtable_to_blocks(options, block_table, categories,\n\u001b[1;32m   <a href='file:///home/mimslade/dev/projects/file-bench/venv/lib/python3.8/site-packages/pyarrow/pandas_compat.py?line=1135'>1136</a>\u001b[0m                                     \u001b[39mlist\u001b[39;49m(extension_columns\u001b[39m.\u001b[39;49mkeys()))\n\u001b[1;32m   <a href='file:///home/mimslade/dev/projects/file-bench/venv/lib/python3.8/site-packages/pyarrow/pandas_compat.py?line=1136'>1137</a>\u001b[0m     \u001b[39mreturn\u001b[39;00m [_reconstruct_block(item, columns, extension_columns)\n\u001b[1;32m   <a href='file:///home/mimslade/dev/projects/file-bench/venv/lib/python3.8/site-packages/pyarrow/pandas_compat.py?line=1137'>1138</a>\u001b[0m             \u001b[39mfor\u001b[39;00m item \u001b[39min\u001b[39;00m result]\n",
      "\u001b[0;31mKeyboardInterrupt\u001b[0m: "
     ]
    }
   ],
   "source": [
    "for a in PATHS:\n",
    "    filetype = a.suffixes[-1].replace('.', '')\n",
    "    if filetype == 'parquet':\n",
    "        table = parquet.read_table(a)\n",
    "    elif filetype == 'orc':\n",
    "       table = orc.read_table(a)\n",
    "    elif filetype == 'feather':\n",
    "        table = feather.read_table(a)\n",
    "    elif filetype == 'csv':\n",
    "        table = csv.read_csv(a)\n",
    "    \n",
    "    print(table.to_pandas().shape)\n"
   ]
  }
 ],
 "metadata": {
  "interpreter": {
   "hash": "1014a147ebe84edf89cc949d1474b378add343e44159593a1f5b609a8f202a90"
  },
  "kernelspec": {
   "display_name": "Python 3.8.10 ('venv': venv)",
   "language": "python",
   "name": "python3"
  },
  "language_info": {
   "codemirror_mode": {
    "name": "ipython",
    "version": 3
   },
   "file_extension": ".py",
   "mimetype": "text/x-python",
   "name": "python",
   "nbconvert_exporter": "python",
   "pygments_lexer": "ipython3",
   "version": "3.8.10"
  },
  "orig_nbformat": 4
 },
 "nbformat": 4,
 "nbformat_minor": 2
}
