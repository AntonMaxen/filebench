{
 "cells": [
  {
   "cell_type": "code",
   "execution_count": null,
   "metadata": {},
   "outputs": [],
   "source": [
    "# Website at https://parquet.apache.org/\n",
    "\"\"\"\n",
    "29-4-2022\n",
    "Apache Parquet är ett open source, kolumn orienterat file format som är designat för data förvaring och hämtning.\n",
    "Den har effektiv datakompression och kodning scheman med förbättrad prestanda att hantera komplex data i omgångar.\n",
    " \n",
    "Parquet finns tillgänglig till språken Java, C++, Python med mera.\n",
    "\n",
    "Fördelar parquet:\n",
    "    - Parquet hållet metadata som är snabbt tillgängligt\n",
    "\n",
    "Parquets kompression är baserat på kolumnernas värden. Om en kolumn har många unika värden,\n",
    "t.ex. användar ID så har kolumnen hög kordinalitet. Om kolumnen har få unika värden t.ex.\n",
    "land då har kolumnen låg kordinalitet. Låg kordinalitet leder till bättre kompression\n",
    "med parquet för den kolumen. ([1]https://towardsdatascience.com/apache-arrow-read-dataframe-with-zero-memory-69634092b1a)\n",
    "\n",
    "[1] Pratar ingående med exempel på hur man läser stora filer.\n",
    "\n",
    "Man kan filtrera datasettet innan man laddar in det i minnet, med hjälp av \n",
    "parquets metadata som blandannat håller vilka kolumner den har, kan man välja\n",
    "att endast ladda in dessa kolumner och därför spara minne och cpu cyklar.\n",
    "\"\"\"\n",
    "\n",
    "\"\"\"\n",
    "https://arrow.apache.org/docs/python/getstarted.html\n",
    "Apache arrow är en kombination av verktyg för att jobba med olika filtyper inom bigdata.\n",
    "\"\"\"\n",
    " \n",
    "\"\"\"\n",
    "För att utföra testerna skulle man kunna generera skräpdata utan någon mening.\n",
    "Jag väljer att använda riktiga dataset för att få en bra representation hur resultaten ser ut i verkligheten.\n",
    "Två datasets kommer att användas, ett smalt dataset med få kolumner och ett brett dataset med många kolumner.\n",
    " \n",
    "Formatet smalt mot brett är för att täcka det fallen där ett filformat kanske är bättre på att hantera\n",
    "få antal kolumner mot många, vice versa.\n",
    " \n",
    "Official Reddit r/place Dataset CSV:\n",
    "https://www.kaggle.com/datasets/antoinecarpentier/redditrplacecsv\n",
    "\n",
    "Reddits dataset är på \n",
    " \n",
    "Pratar om benchmarks\n",
    "https://www.slideshare.net/HadoopSummit/file-format-benchmark-avro-json-orc-and-parquet\n",
    "\n",
    "Github Logs:\n",
    "\n",
    "\n",
    "Skillnaded mellan Parquet och Feather.\n",
    "https://stackoverflow.com/questions/48083405/what-are-the-differences-between-feather-and-parquet\n",
    "Går igenom timeit också.\n",
    "\n",
    "timeit för att mäta tid på funktioner.\n",
    "https://stackoverflow.com/a/55239060\n",
    "from timeit import default_timer as timer\n",
    "start = timer()\n",
    "# Do something\n",
    "end = timer()\n",
    "time_in_seconds = end - start\n",
    "\n",
    "\n",
    "Försökte att använda %%timeit på funktionerna\n",
    "https://docs.python.org/3/library/timeit.html\n",
    "\"By default, timeit() temporarily turns off garbage collection during the timing.\"\n",
    "går att fixa med:\n",
    " - timeit.Timer('for i in range(10): oct(i)', 'gc.enable()').timeit()\n",
    "\n",
    "\n",
    "Steam Reviews Dataset: https://www.kaggle.com/datasets/najzeko/steam-reviews-2021\n",
    " - 21 Miljoner användarrecensioner av 300 spel på spelplattformen Steam.\n",
    " - 21 Miljoner rader\n",
    " - 23 Kolumner\n",
    " - 8.17 GB Stor\n",
    " \n",
    "\"\"\"\n",
    "\n",
    "\"\"\"\n",
    "Jag väljer till att börja med att endast köra lokalt utan distibruerade filsystem, med hadoop och spark.\n",
    "Detta leder till att jag begränas på hur mycket ram-minne jag har på dator. Mitt nuvarande system har 64 GB\n",
    "i ramminne, vilket leder till att datasetten jag läser in för inte överstiga denna nivån. Man kan eventuellt läsa\n",
    "filen i omgångar, får kolla närmare på detta.\n",
    "\n",
    "\"\"\"\n",
    " \n",
    "\"\"\"\n",
    "Avgränsningar\n",
    "Jag väljer att inte gå in på djupet på filformatens arkitekturer, då endast en\n",
    "djupgående genomgång av en fil förtjänar en uppsats för sig själv.\n",
    "\"\"\"\n",
    "\n",
    "\"\"\"\n",
    "Huvudsakliga testerna som kommer att genomföras är följande:\n",
    " - Läsning av fil (Mäta hur lång tid detta tar).\n",
    " - Skrivning av fil (Mäta hur lång tid detta tar).\n",
    " - Kompression (Hur mycket plats sparar man vid kompression för filformatet)\n",
    " - Hur mycket belaster filen minnet vid läsning (Minnesfotavtryck).\n",
    "    + Memory Profiler @ pip\n",
    "\n",
    "Testning\n",
    "Parquet vs CSV\n",
    "Kör med hemmagjord time funktionen för att mäta tid för funktionerna,\n",
    "Konstigt beteende efter flera inläsningar, parquet 18s inläsning i nystart av vscode,\n",
    "efter ett tag tar det 40s varje gång man läser in parquet filen.\n",
    "\n",
    "\n",
    "Läsning:\n",
    "1. Reddit antalet unika användare som deltog i eventet.\n",
    "2. Populärast färgen\n",
    "\"\"\"\n",
    "\n",
    "\"\"\"\n",
    "Arrow filformat 'memory-mapped' [1] tar knappt någon plats.\n",
    "\n",
    "\"\"\"\n"
   ]
  },
  {
   "cell_type": "code",
   "execution_count": 34,
   "metadata": {},
   "outputs": [],
   "source": [
    "import pyarrow as pa\n",
    "import pyarrow.csv as csv\n",
    "import pyarrow.json as json\n",
    "import pyarrow.parquet as parquet\n",
    "import pyarrow.orc as orc\n",
    "from pyarrow import feather\n",
    "from datetime import timedelta\n",
    "import timeit\n",
    "from timeit import default_timer as timer\n",
    "import time\n",
    "import gc\n",
    "#days = pa.array([1, 12, 17, 23, 28], type=pa.int8())\n",
    "file = None\n",
    "\n",
    "\n",
    "def time_func(func, *args, **kwargs):\n",
    "    start = timer()\n",
    "    print(f'Starting {func.__name__}: [{start}]')\n",
    "    result = func(*args, **kwargs)\n",
    "    end = timer()\n",
    "    print(f'Done {func.__name__}: [{end}]')\n",
    "    total_in_seconds = end - start\n",
    "    print(f'Total time: {timedelta(seconds=total_in_seconds)}')\n",
    "\n",
    "    return result, total_in_seconds\n",
    "\n",
    "\n",
    "reddit_place = \"2022_place_canvas_history\"\n",
    "reddit_original_path = f'data/original/{reddit_place}.csv'\n",
    "reddit_parquet_path = f'data/raw/parquet/{reddit_place}.parquet'\n",
    "reddit_partitioned_path = f'data/partitioned/reddit'"
   ]
  },
  {
   "cell_type": "code",
   "execution_count": null,
   "metadata": {},
   "outputs": [
    {
     "name": "stdout",
     "output_type": "stream",
     "text": [
      "Clearing memory\n"
     ]
    }
   ],
   "source": [
    "# Getting raw data and transform to different formats\n",
    "# Manually making sure that file is deleted from memory if rerunning cell.\n",
    "if file:\n",
    "    del file\n",
    "    # Garbage collecion: https://docs.python.org/3/library/gc.html\n",
    "    gc.collect()\n",
    "\n",
    "    print('Clearing memory')\n",
    "    time.sleep(2)\n"
   ]
  },
  {
   "cell_type": "code",
   "execution_count": null,
   "metadata": {},
   "outputs": [
    {
     "name": "stdout",
     "output_type": "stream",
     "text": [
      "Starting read_csv: [14360.043166249]\n",
      "Done read_csv: [14398.871795605]\n",
      "Total time: 0:00:38.828629\n"
     ]
    }
   ],
   "source": [
    "file, t = time_func(\n",
    "    csv.read_csv,\n",
    "    reddit_original_path\n",
    ")"
   ]
  },
  {
   "cell_type": "code",
   "execution_count": null,
   "metadata": {},
   "outputs": [
    {
     "name": "stdout",
     "output_type": "stream",
     "text": [
      "Starting write_table: [12786.182915386]\n",
      "Done write_table: [12829.513975965]\n",
      "Total time: 0:00:43.331061\n"
     ]
    }
   ],
   "source": [
    "# We have data in pyarrow table, so we can save it to parquet.\n",
    "result, time_seconds = time_func(\n",
    "    parquet.write_table, file, reddit_parquet_path\n",
    ")"
   ]
  },
  {
   "cell_type": "code",
   "execution_count": 3,
   "metadata": {},
   "outputs": [
    {
     "name": "stdout",
     "output_type": "stream",
     "text": [
      "Starting read_table: [101217.530706251]\n",
      "Done read_table: [101258.00013417]\n",
      "Total time: 0:00:40.469428\n"
     ]
    }
   ],
   "source": [
    "arrow_table, t = time_func(\n",
    "    parquet.read_table,\n",
    "    reddit_parquet_path\n",
    ")"
   ]
  },
  {
   "cell_type": "code",
   "execution_count": 4,
   "metadata": {},
   "outputs": [
    {
     "data": {
      "text/html": [
       "<div>\n",
       "<style scoped>\n",
       "    .dataframe tbody tr th:only-of-type {\n",
       "        vertical-align: middle;\n",
       "    }\n",
       "\n",
       "    .dataframe tbody tr th {\n",
       "        vertical-align: top;\n",
       "    }\n",
       "\n",
       "    .dataframe thead th {\n",
       "        text-align: right;\n",
       "    }\n",
       "</style>\n",
       "<table border=\"1\" class=\"dataframe\">\n",
       "  <thead>\n",
       "    <tr style=\"text-align: right;\">\n",
       "      <th></th>\n",
       "      <th>timestamp</th>\n",
       "      <th>user_id</th>\n",
       "      <th>pixel_color</th>\n",
       "      <th>coordinate</th>\n",
       "    </tr>\n",
       "  </thead>\n",
       "  <tbody>\n",
       "    <tr>\n",
       "      <th>0</th>\n",
       "      <td>2022-04-04 00:53:51.577 UTC</td>\n",
       "      <td>ovTZk4GyTS1mDQnTbV+vDOCu1f+u6w+CkIZ6445vD4XN8a...</td>\n",
       "      <td>#00CCC0</td>\n",
       "      <td>826,1048</td>\n",
       "    </tr>\n",
       "    <tr>\n",
       "      <th>1</th>\n",
       "      <td>2022-04-04 00:53:53.758 UTC</td>\n",
       "      <td>6NSgFa1CvIPly1VniNhlbrmoN3vgDFbMSKqh+c4TTfrr3d...</td>\n",
       "      <td>#94B3FF</td>\n",
       "      <td>583,1031</td>\n",
       "    </tr>\n",
       "    <tr>\n",
       "      <th>2</th>\n",
       "      <td>2022-04-04 00:53:54.685 UTC</td>\n",
       "      <td>O5Oityp3Z3owzTuwM9XnMggpLcqKEumsOMKGhRiDTTImWb...</td>\n",
       "      <td>#6A5CFF</td>\n",
       "      <td>1873,558</td>\n",
       "    </tr>\n",
       "    <tr>\n",
       "      <th>3</th>\n",
       "      <td>2022-04-04 00:54:57.541 UTC</td>\n",
       "      <td>tc273UiqS0wKa6VwiOs/iz/t4LyPYrhL2Q347awn11IQQE...</td>\n",
       "      <td>#009EAA</td>\n",
       "      <td>1627,255</td>\n",
       "    </tr>\n",
       "    <tr>\n",
       "      <th>4</th>\n",
       "      <td>2022-04-04 00:55:16.307 UTC</td>\n",
       "      <td>OOWsU/HLb4UUkQwclDeXFtsJTOXMlAdNHiRpFA1Qk+SxUr...</td>\n",
       "      <td>#94B3FF</td>\n",
       "      <td>49,1478</td>\n",
       "    </tr>\n",
       "  </tbody>\n",
       "</table>\n",
       "</div>"
      ],
      "text/plain": [
       "                     timestamp  \\\n",
       "0  2022-04-04 00:53:51.577 UTC   \n",
       "1  2022-04-04 00:53:53.758 UTC   \n",
       "2  2022-04-04 00:53:54.685 UTC   \n",
       "3  2022-04-04 00:54:57.541 UTC   \n",
       "4  2022-04-04 00:55:16.307 UTC   \n",
       "\n",
       "                                             user_id pixel_color coordinate  \n",
       "0  ovTZk4GyTS1mDQnTbV+vDOCu1f+u6w+CkIZ6445vD4XN8a...     #00CCC0   826,1048  \n",
       "1  6NSgFa1CvIPly1VniNhlbrmoN3vgDFbMSKqh+c4TTfrr3d...     #94B3FF   583,1031  \n",
       "2  O5Oityp3Z3owzTuwM9XnMggpLcqKEumsOMKGhRiDTTImWb...     #6A5CFF   1873,558  \n",
       "3  tc273UiqS0wKa6VwiOs/iz/t4LyPYrhL2Q347awn11IQQE...     #009EAA   1627,255  \n",
       "4  OOWsU/HLb4UUkQwclDeXFtsJTOXMlAdNHiRpFA1Qk+SxUr...     #94B3FF    49,1478  "
      ]
     },
     "execution_count": 4,
     "metadata": {},
     "output_type": "execute_result"
    }
   ],
   "source": [
    "arrow_df = arrow_table.to_pandas()\n",
    "arrow_df.head()"
   ]
  },
  {
   "cell_type": "code",
   "execution_count": 5,
   "metadata": {},
   "outputs": [
    {
     "data": {
      "text/plain": [
       "(160353104, 4)"
      ]
     },
     "execution_count": 5,
     "metadata": {},
     "output_type": "execute_result"
    }
   ],
   "source": [
    "arrow_df.shape"
   ]
  },
  {
   "cell_type": "code",
   "execution_count": 17,
   "metadata": {},
   "outputs": [],
   "source": [
    "import pandas as pd\n",
    "arrow_df['conv_timestamp'] = pd.to_datetime(arrow_df['timestamp'])\n",
    "#first_day = arrow_df['timestamp'].astype() < pd.Timestamp(2022, 4, 2)"
   ]
  },
  {
   "cell_type": "code",
   "execution_count": 6,
   "metadata": {},
   "outputs": [
    {
     "data": {
      "text/html": [
       "<div>\n",
       "<style scoped>\n",
       "    .dataframe tbody tr th:only-of-type {\n",
       "        vertical-align: middle;\n",
       "    }\n",
       "\n",
       "    .dataframe tbody tr th {\n",
       "        vertical-align: top;\n",
       "    }\n",
       "\n",
       "    .dataframe thead th {\n",
       "        text-align: right;\n",
       "    }\n",
       "</style>\n",
       "<table border=\"1\" class=\"dataframe\">\n",
       "  <thead>\n",
       "    <tr style=\"text-align: right;\">\n",
       "      <th></th>\n",
       "      <th>timestamp</th>\n",
       "      <th>user_id</th>\n",
       "      <th>pixel_color</th>\n",
       "      <th>coordinate</th>\n",
       "    </tr>\n",
       "  </thead>\n",
       "  <tbody>\n",
       "    <tr>\n",
       "      <th>0</th>\n",
       "      <td>2022-04-04 00:53:51.577 UTC</td>\n",
       "      <td>ovTZk4GyTS1mDQnTbV+vDOCu1f+u6w+CkIZ6445vD4XN8a...</td>\n",
       "      <td>#00CCC0</td>\n",
       "      <td>826,1048</td>\n",
       "    </tr>\n",
       "    <tr>\n",
       "      <th>1</th>\n",
       "      <td>2022-04-04 00:53:53.758 UTC</td>\n",
       "      <td>6NSgFa1CvIPly1VniNhlbrmoN3vgDFbMSKqh+c4TTfrr3d...</td>\n",
       "      <td>#94B3FF</td>\n",
       "      <td>583,1031</td>\n",
       "    </tr>\n",
       "    <tr>\n",
       "      <th>2</th>\n",
       "      <td>2022-04-04 00:53:54.685 UTC</td>\n",
       "      <td>O5Oityp3Z3owzTuwM9XnMggpLcqKEumsOMKGhRiDTTImWb...</td>\n",
       "      <td>#6A5CFF</td>\n",
       "      <td>1873,558</td>\n",
       "    </tr>\n",
       "    <tr>\n",
       "      <th>3</th>\n",
       "      <td>2022-04-04 00:54:57.541 UTC</td>\n",
       "      <td>tc273UiqS0wKa6VwiOs/iz/t4LyPYrhL2Q347awn11IQQE...</td>\n",
       "      <td>#009EAA</td>\n",
       "      <td>1627,255</td>\n",
       "    </tr>\n",
       "    <tr>\n",
       "      <th>4</th>\n",
       "      <td>2022-04-04 00:55:16.307 UTC</td>\n",
       "      <td>OOWsU/HLb4UUkQwclDeXFtsJTOXMlAdNHiRpFA1Qk+SxUr...</td>\n",
       "      <td>#94B3FF</td>\n",
       "      <td>49,1478</td>\n",
       "    </tr>\n",
       "    <tr>\n",
       "      <th>...</th>\n",
       "      <td>...</td>\n",
       "      <td>...</td>\n",
       "      <td>...</td>\n",
       "      <td>...</td>\n",
       "    </tr>\n",
       "    <tr>\n",
       "      <th>160353044</th>\n",
       "      <td>2022-04-05 00:13:59.177 UTC</td>\n",
       "      <td>NezxFMEgIDUQg9hW34kKrLPJ3AEKAR1Mh+2U/HxsGlslDy...</td>\n",
       "      <td>#FFFFFF</td>\n",
       "      <td>1166,1102</td>\n",
       "    </tr>\n",
       "    <tr>\n",
       "      <th>160353048</th>\n",
       "      <td>2022-04-05 00:13:59.233 UTC</td>\n",
       "      <td>uHV1sP1YB2WyDljN/Iy9nRR/+DKMa68kPQoNoeAzTSJy4/...</td>\n",
       "      <td>#FFFFFF</td>\n",
       "      <td>1672,1453</td>\n",
       "    </tr>\n",
       "    <tr>\n",
       "      <th>160353062</th>\n",
       "      <td>2022-04-05 00:13:59.418 UTC</td>\n",
       "      <td>LEtYgmofohe4IbF8fascHb//jOh3qsCcBkRLgf+xiW8OQW...</td>\n",
       "      <td>#FFFFFF</td>\n",
       "      <td>964,1170</td>\n",
       "    </tr>\n",
       "    <tr>\n",
       "      <th>160353083</th>\n",
       "      <td>2022-04-05 00:13:59.709 UTC</td>\n",
       "      <td>h1PHSmLb9lHzIx3gniYiVxcIkxEjs4GhjD3M5JLGyX4XgH...</td>\n",
       "      <td>#FFFFFF</td>\n",
       "      <td>1186,1097</td>\n",
       "    </tr>\n",
       "    <tr>\n",
       "      <th>160353102</th>\n",
       "      <td>2022-04-05 00:14:00.195 UTC</td>\n",
       "      <td>F9tNKBGhOY4FDe8FQ3wJv8m4dXlczU+MOFBcl8deHMUAFO...</td>\n",
       "      <td>#FFFFFF</td>\n",
       "      <td>1046,1721</td>\n",
       "    </tr>\n",
       "  </tbody>\n",
       "</table>\n",
       "<p>19335298 rows × 4 columns</p>\n",
       "</div>"
      ],
      "text/plain": [
       "                             timestamp  \\\n",
       "0          2022-04-04 00:53:51.577 UTC   \n",
       "1          2022-04-04 00:53:53.758 UTC   \n",
       "2          2022-04-04 00:53:54.685 UTC   \n",
       "3          2022-04-04 00:54:57.541 UTC   \n",
       "4          2022-04-04 00:55:16.307 UTC   \n",
       "...                                ...   \n",
       "160353044  2022-04-05 00:13:59.177 UTC   \n",
       "160353048  2022-04-05 00:13:59.233 UTC   \n",
       "160353062  2022-04-05 00:13:59.418 UTC   \n",
       "160353083  2022-04-05 00:13:59.709 UTC   \n",
       "160353102  2022-04-05 00:14:00.195 UTC   \n",
       "\n",
       "                                                     user_id pixel_color  \\\n",
       "0          ovTZk4GyTS1mDQnTbV+vDOCu1f+u6w+CkIZ6445vD4XN8a...     #00CCC0   \n",
       "1          6NSgFa1CvIPly1VniNhlbrmoN3vgDFbMSKqh+c4TTfrr3d...     #94B3FF   \n",
       "2          O5Oityp3Z3owzTuwM9XnMggpLcqKEumsOMKGhRiDTTImWb...     #6A5CFF   \n",
       "3          tc273UiqS0wKa6VwiOs/iz/t4LyPYrhL2Q347awn11IQQE...     #009EAA   \n",
       "4          OOWsU/HLb4UUkQwclDeXFtsJTOXMlAdNHiRpFA1Qk+SxUr...     #94B3FF   \n",
       "...                                                      ...         ...   \n",
       "160353044  NezxFMEgIDUQg9hW34kKrLPJ3AEKAR1Mh+2U/HxsGlslDy...     #FFFFFF   \n",
       "160353048  uHV1sP1YB2WyDljN/Iy9nRR/+DKMa68kPQoNoeAzTSJy4/...     #FFFFFF   \n",
       "160353062  LEtYgmofohe4IbF8fascHb//jOh3qsCcBkRLgf+xiW8OQW...     #FFFFFF   \n",
       "160353083  h1PHSmLb9lHzIx3gniYiVxcIkxEjs4GhjD3M5JLGyX4XgH...     #FFFFFF   \n",
       "160353102  F9tNKBGhOY4FDe8FQ3wJv8m4dXlczU+MOFBcl8deHMUAFO...     #FFFFFF   \n",
       "\n",
       "          coordinate  \n",
       "0           826,1048  \n",
       "1           583,1031  \n",
       "2           1873,558  \n",
       "3           1627,255  \n",
       "4            49,1478  \n",
       "...              ...  \n",
       "160353044  1166,1102  \n",
       "160353048  1672,1453  \n",
       "160353062   964,1170  \n",
       "160353083  1186,1097  \n",
       "160353102  1046,1721  \n",
       "\n",
       "[19335298 rows x 4 columns]"
      ]
     },
     "execution_count": 6,
     "metadata": {},
     "output_type": "execute_result"
    }
   ],
   "source": [
    "a = arrow_df.groupby('coordinate')\n",
    "a.head()"
   ]
  },
  {
   "cell_type": "code",
   "execution_count": 18,
   "metadata": {},
   "outputs": [
    {
     "data": {
      "text/html": [
       "<div>\n",
       "<style scoped>\n",
       "    .dataframe tbody tr th:only-of-type {\n",
       "        vertical-align: middle;\n",
       "    }\n",
       "\n",
       "    .dataframe tbody tr th {\n",
       "        vertical-align: top;\n",
       "    }\n",
       "\n",
       "    .dataframe thead th {\n",
       "        text-align: right;\n",
       "    }\n",
       "</style>\n",
       "<table border=\"1\" class=\"dataframe\">\n",
       "  <thead>\n",
       "    <tr style=\"text-align: right;\">\n",
       "      <th></th>\n",
       "      <th>timestamp</th>\n",
       "      <th>user_id</th>\n",
       "      <th>pixel_color</th>\n",
       "      <th>coordinate</th>\n",
       "      <th>conv_timestamp</th>\n",
       "    </tr>\n",
       "  </thead>\n",
       "  <tbody>\n",
       "    <tr>\n",
       "      <th>0</th>\n",
       "      <td>2022-04-04 00:53:51.577 UTC</td>\n",
       "      <td>ovTZk4GyTS1mDQnTbV+vDOCu1f+u6w+CkIZ6445vD4XN8a...</td>\n",
       "      <td>#00CCC0</td>\n",
       "      <td>826,1048</td>\n",
       "      <td>2022-04-04 00:53:51.577000+00:00</td>\n",
       "    </tr>\n",
       "    <tr>\n",
       "      <th>1</th>\n",
       "      <td>2022-04-04 00:53:53.758 UTC</td>\n",
       "      <td>6NSgFa1CvIPly1VniNhlbrmoN3vgDFbMSKqh+c4TTfrr3d...</td>\n",
       "      <td>#94B3FF</td>\n",
       "      <td>583,1031</td>\n",
       "      <td>2022-04-04 00:53:53.758000+00:00</td>\n",
       "    </tr>\n",
       "    <tr>\n",
       "      <th>2</th>\n",
       "      <td>2022-04-04 00:53:54.685 UTC</td>\n",
       "      <td>O5Oityp3Z3owzTuwM9XnMggpLcqKEumsOMKGhRiDTTImWb...</td>\n",
       "      <td>#6A5CFF</td>\n",
       "      <td>1873,558</td>\n",
       "      <td>2022-04-04 00:53:54.685000+00:00</td>\n",
       "    </tr>\n",
       "    <tr>\n",
       "      <th>3</th>\n",
       "      <td>2022-04-04 00:54:57.541 UTC</td>\n",
       "      <td>tc273UiqS0wKa6VwiOs/iz/t4LyPYrhL2Q347awn11IQQE...</td>\n",
       "      <td>#009EAA</td>\n",
       "      <td>1627,255</td>\n",
       "      <td>2022-04-04 00:54:57.541000+00:00</td>\n",
       "    </tr>\n",
       "    <tr>\n",
       "      <th>4</th>\n",
       "      <td>2022-04-04 00:55:16.307 UTC</td>\n",
       "      <td>OOWsU/HLb4UUkQwclDeXFtsJTOXMlAdNHiRpFA1Qk+SxUr...</td>\n",
       "      <td>#94B3FF</td>\n",
       "      <td>49,1478</td>\n",
       "      <td>2022-04-04 00:55:16.307000+00:00</td>\n",
       "    </tr>\n",
       "  </tbody>\n",
       "</table>\n",
       "</div>"
      ],
      "text/plain": [
       "                     timestamp  \\\n",
       "0  2022-04-04 00:53:51.577 UTC   \n",
       "1  2022-04-04 00:53:53.758 UTC   \n",
       "2  2022-04-04 00:53:54.685 UTC   \n",
       "3  2022-04-04 00:54:57.541 UTC   \n",
       "4  2022-04-04 00:55:16.307 UTC   \n",
       "\n",
       "                                             user_id pixel_color coordinate  \\\n",
       "0  ovTZk4GyTS1mDQnTbV+vDOCu1f+u6w+CkIZ6445vD4XN8a...     #00CCC0   826,1048   \n",
       "1  6NSgFa1CvIPly1VniNhlbrmoN3vgDFbMSKqh+c4TTfrr3d...     #94B3FF   583,1031   \n",
       "2  O5Oityp3Z3owzTuwM9XnMggpLcqKEumsOMKGhRiDTTImWb...     #6A5CFF   1873,558   \n",
       "3  tc273UiqS0wKa6VwiOs/iz/t4LyPYrhL2Q347awn11IQQE...     #009EAA   1627,255   \n",
       "4  OOWsU/HLb4UUkQwclDeXFtsJTOXMlAdNHiRpFA1Qk+SxUr...     #94B3FF    49,1478   \n",
       "\n",
       "                    conv_timestamp  \n",
       "0 2022-04-04 00:53:51.577000+00:00  \n",
       "1 2022-04-04 00:53:53.758000+00:00  \n",
       "2 2022-04-04 00:53:54.685000+00:00  \n",
       "3 2022-04-04 00:54:57.541000+00:00  \n",
       "4 2022-04-04 00:55:16.307000+00:00  "
      ]
     },
     "execution_count": 18,
     "metadata": {},
     "output_type": "execute_result"
    }
   ],
   "source": [
    "arrow_df.head()"
   ]
  },
  {
   "cell_type": "code",
   "execution_count": 40,
   "metadata": {},
   "outputs": [],
   "source": [
    "arrow_df.to_csv(f'data/small/csv/{reddit_place}.csv')"
   ]
  },
  {
   "cell_type": "code",
   "execution_count": null,
   "metadata": {},
   "outputs": [],
   "source": [
    "pa.Table.from_pandas(arrow_df)"
   ]
  },
  {
   "cell_type": "code",
   "execution_count": 70,
   "metadata": {},
   "outputs": [],
   "source": [
    "filter_mask = arrow_df['conv_timestamp'] < pd.Timestamp(2022, 4, 1, 14).tz_localize('utc')"
   ]
  },
  {
   "cell_type": "code",
   "execution_count": 71,
   "metadata": {},
   "outputs": [
    {
     "data": {
      "text/plain": [
       "False    159804317\n",
       "True        548787\n",
       "Name: conv_timestamp, dtype: int64"
      ]
     },
     "execution_count": 71,
     "metadata": {},
     "output_type": "execute_result"
    }
   ],
   "source": [
    "filter_mask.value_counts()"
   ]
  },
  {
   "cell_type": "code",
   "execution_count": 72,
   "metadata": {},
   "outputs": [],
   "source": [
    "filter_mask.value_counts()\n",
    "small_df = arrow_df[filter_mask]"
   ]
  },
  {
   "cell_type": "code",
   "execution_count": 73,
   "metadata": {},
   "outputs": [],
   "source": [
    "small_df.head()\n",
    "small_table = pa.Table.from_pandas(small_df)"
   ]
  },
  {
   "cell_type": "code",
   "execution_count": 74,
   "metadata": {},
   "outputs": [],
   "source": [
    "csv.write_csv(small_table, f'data/small/before14/{reddit_place}.csv')"
   ]
  },
  {
   "cell_type": "code",
   "execution_count": 15,
   "metadata": {},
   "outputs": [
    {
     "data": {
      "text/html": [
       "<div>\n",
       "<style scoped>\n",
       "    .dataframe tbody tr th:only-of-type {\n",
       "        vertical-align: middle;\n",
       "    }\n",
       "\n",
       "    .dataframe tbody tr th {\n",
       "        vertical-align: top;\n",
       "    }\n",
       "\n",
       "    .dataframe thead th {\n",
       "        text-align: right;\n",
       "    }\n",
       "</style>\n",
       "<table border=\"1\" class=\"dataframe\">\n",
       "  <thead>\n",
       "    <tr style=\"text-align: right;\">\n",
       "      <th></th>\n",
       "      <th>timestamp</th>\n",
       "      <th>user_id</th>\n",
       "      <th>pixel_color</th>\n",
       "    </tr>\n",
       "    <tr>\n",
       "      <th>coordinate</th>\n",
       "      <th></th>\n",
       "      <th></th>\n",
       "      <th></th>\n",
       "    </tr>\n",
       "  </thead>\n",
       "  <tbody>\n",
       "    <tr>\n",
       "      <th>0,0</th>\n",
       "      <td>98807</td>\n",
       "      <td>98807</td>\n",
       "      <td>98807</td>\n",
       "    </tr>\n",
       "    <tr>\n",
       "      <th>0,1</th>\n",
       "      <td>9592</td>\n",
       "      <td>9592</td>\n",
       "      <td>9592</td>\n",
       "    </tr>\n",
       "    <tr>\n",
       "      <th>0,10</th>\n",
       "      <td>307</td>\n",
       "      <td>307</td>\n",
       "      <td>307</td>\n",
       "    </tr>\n",
       "    <tr>\n",
       "      <th>0,100</th>\n",
       "      <td>88</td>\n",
       "      <td>88</td>\n",
       "      <td>88</td>\n",
       "    </tr>\n",
       "    <tr>\n",
       "      <th>0,1000</th>\n",
       "      <td>192</td>\n",
       "      <td>192</td>\n",
       "      <td>192</td>\n",
       "    </tr>\n",
       "    <tr>\n",
       "      <th>...</th>\n",
       "      <td>...</td>\n",
       "      <td>...</td>\n",
       "      <td>...</td>\n",
       "    </tr>\n",
       "    <tr>\n",
       "      <th>999,995</th>\n",
       "      <td>284</td>\n",
       "      <td>284</td>\n",
       "      <td>284</td>\n",
       "    </tr>\n",
       "    <tr>\n",
       "      <th>999,996</th>\n",
       "      <td>372</td>\n",
       "      <td>372</td>\n",
       "      <td>372</td>\n",
       "    </tr>\n",
       "    <tr>\n",
       "      <th>999,997</th>\n",
       "      <td>876</td>\n",
       "      <td>876</td>\n",
       "      <td>876</td>\n",
       "    </tr>\n",
       "    <tr>\n",
       "      <th>999,998</th>\n",
       "      <td>2707</td>\n",
       "      <td>2707</td>\n",
       "      <td>2707</td>\n",
       "    </tr>\n",
       "    <tr>\n",
       "      <th>999,999</th>\n",
       "      <td>23271</td>\n",
       "      <td>23271</td>\n",
       "      <td>23271</td>\n",
       "    </tr>\n",
       "  </tbody>\n",
       "</table>\n",
       "<p>3996053 rows × 3 columns</p>\n",
       "</div>"
      ],
      "text/plain": [
       "            timestamp  user_id  pixel_color\n",
       "coordinate                                 \n",
       "0,0             98807    98807        98807\n",
       "0,1              9592     9592         9592\n",
       "0,10              307      307          307\n",
       "0,100              88       88           88\n",
       "0,1000            192      192          192\n",
       "...               ...      ...          ...\n",
       "999,995           284      284          284\n",
       "999,996           372      372          372\n",
       "999,997           876      876          876\n",
       "999,998          2707     2707         2707\n",
       "999,999         23271    23271        23271\n",
       "\n",
       "[3996053 rows x 3 columns]"
      ]
     },
     "execution_count": 15,
     "metadata": {},
     "output_type": "execute_result"
    }
   ],
   "source": [
    "a.count()"
   ]
  },
  {
   "cell_type": "code",
   "execution_count": null,
   "metadata": {},
   "outputs": [
    {
     "name": "stdout",
     "output_type": "stream",
     "text": [
      "Starting read_metadata: [16044.791414067]\n",
      "Done read_metadata: [16044.791936784]\n",
      "Total time: 0:00:00.000523\n",
      "--------------------\n",
      "Column Names [timestamp, user_id, pixel_color, coordinate]\n"
     ]
    }
   ],
   "source": [
    "metadata, t = time_func(\n",
    "    parquet.read_metadata,\n",
    "    reddit_parquet_path\n",
    ")\n",
    "print('-' * 20)\n",
    "column_names = metadata.schema.names\n",
    "print(f'Column Names [{\", \".join(column_names)}]')"
   ]
  },
  {
   "cell_type": "code",
   "execution_count": null,
   "metadata": {},
   "outputs": [],
   "source": [
    "parquet.write_to_dataset(\n",
    "    arrow_table, \n",
    "    root_path=reddit_partitioned_path, \n",
    "    partition_cols=['pixel_color'], \n",
    ")"
   ]
  },
  {
   "cell_type": "code",
   "execution_count": null,
   "metadata": {},
   "outputs": [],
   "source": [
    "# Writing memory mapped arrow file.\n",
    "with pa.OSFile('test.arrow', 'wb') as sink:\n",
    "    with pa.RecordBatchFileWriter(sink, arrow_table.schema) as writer:\n",
    "        writer.write_table(arrow_table)"
   ]
  },
  {
   "cell_type": "code",
   "execution_count": 2,
   "metadata": {},
   "outputs": [],
   "source": [
    "source = pa.memory_map('test.arrow', 'r')\n",
    "table = pa.ipc.RecordBatchFileReader(source).read_all().column(\"user_id\")\n",
    "df = table.to_pandas()\n",
    "df.head()"
   ]
  },
  {
   "cell_type": "code",
   "execution_count": 12,
   "metadata": {},
   "outputs": [],
   "source": []
  },
  {
   "cell_type": "markdown",
   "metadata": {},
   "source": [
    "#### We now have a small file we can handle."
   ]
  },
  {
   "cell_type": "code",
   "execution_count": 4,
   "metadata": {},
   "outputs": [],
   "source": [
    "before14 = f'data/small/before14/{reddit_place}'\n",
    "day1 = f'data/small/day1/{reddit_place}'"
   ]
  },
  {
   "cell_type": "code",
   "execution_count": 8,
   "metadata": {},
   "outputs": [],
   "source": [
    "small_table = csv.read_csv(f'{day1}.csv')"
   ]
  },
  {
   "cell_type": "code",
   "execution_count": 17,
   "metadata": {},
   "outputs": [
    {
     "name": "stdout",
     "output_type": "stream",
     "text": [
      "5.56 s ± 498 ms per loop (mean ± std. dev. of 7 runs, 1 loop each)\n"
     ]
    }
   ],
   "source": [
    "%%timeit\n",
    "parquet.write_table(small_table, f'{day1}.parquet')"
   ]
  },
  {
   "cell_type": "code",
   "execution_count": 18,
   "metadata": {},
   "outputs": [
    {
     "name": "stdout",
     "output_type": "stream",
     "text": [
      "18.4 s ± 1.41 s per loop (mean ± std. dev. of 7 runs, 1 loop each)\n"
     ]
    }
   ],
   "source": [
    "%%timeit\n",
    "csv.write_csv(small_table, f'{day1}.csv2')"
   ]
  },
  {
   "cell_type": "code",
   "execution_count": 19,
   "metadata": {},
   "outputs": [
    {
     "name": "stdout",
     "output_type": "stream",
     "text": [
      "6.63 s ± 65.6 ms per loop (mean ± std. dev. of 7 runs, 1 loop each)\n"
     ]
    }
   ],
   "source": [
    "%%timeit\n",
    "orc.write_table(small_table, f'{day1}.orc')"
   ]
  },
  {
   "cell_type": "code",
   "execution_count": 20,
   "metadata": {},
   "outputs": [
    {
     "name": "stdout",
     "output_type": "stream",
     "text": [
      "4.2 s ± 230 ms per loop (mean ± std. dev. of 7 runs, 1 loop each)\n"
     ]
    }
   ],
   "source": [
    "%%timeit\n",
    "feather.write_feather(small_table, f'{day1}.feather')"
   ]
  },
  {
   "cell_type": "markdown",
   "metadata": {},
   "source": [
    "## All files saved in their respective formats."
   ]
  },
  {
   "cell_type": "code",
   "execution_count": 54,
   "metadata": {},
   "outputs": [
    {
     "name": "stdout",
     "output_type": "stream",
     "text": [
      "9.83 s ± 228 ms per loop (mean ± std. dev. of 7 runs, 1 loop each)\n"
     ]
    }
   ],
   "source": [
    "%%timeit\n",
    "df = parquet.read_table(f'{day1}.parquet').to_pandas()"
   ]
  },
  {
   "cell_type": "code",
   "execution_count": 55,
   "metadata": {},
   "outputs": [
    {
     "name": "stdout",
     "output_type": "stream",
     "text": [
      "8.45 s ± 121 ms per loop (mean ± std. dev. of 7 runs, 1 loop each)\n"
     ]
    }
   ],
   "source": [
    "%%timeit\n",
    "df = csv.read_csv(f'{day1}.csv2').to_pandas()"
   ]
  },
  {
   "cell_type": "code",
   "execution_count": 56,
   "metadata": {},
   "outputs": [
    {
     "name": "stdout",
     "output_type": "stream",
     "text": [
      "9.02 s ± 77.3 ms per loop (mean ± std. dev. of 7 runs, 1 loop each)\n"
     ]
    }
   ],
   "source": [
    "%%timeit\n",
    "df = orc.read_table(f'{day1}.orc').to_pandas()"
   ]
  },
  {
   "cell_type": "code",
   "execution_count": 57,
   "metadata": {},
   "outputs": [
    {
     "name": "stdout",
     "output_type": "stream",
     "text": [
      "8 s ± 187 ms per loop (mean ± std. dev. of 7 runs, 1 loop each)\n"
     ]
    }
   ],
   "source": [
    "%%timeit\n",
    "df = feather.read_feather(f'{day1}.feather')"
   ]
  },
  {
   "cell_type": "code",
   "execution_count": 58,
   "metadata": {},
   "outputs": [
    {
     "name": "stdout",
     "output_type": "stream",
     "text": [
      "8.08 s ± 63.6 ms per loop (mean ± std. dev. of 7 runs, 1 loop each)\n"
     ]
    }
   ],
   "source": [
    "%%timeit\n",
    "df = feather.read_table(f'{day1}.feather').to_pandas()"
   ]
  },
  {
   "cell_type": "code",
   "execution_count": 68,
   "metadata": {},
   "outputs": [
    {
     "data": {
      "text/plain": [
       "15"
      ]
     },
     "execution_count": 68,
     "metadata": {},
     "output_type": "execute_result"
    }
   ],
   "source": [
    "del file\n",
    "gc.collect()"
   ]
  },
  {
   "cell_type": "code",
   "execution_count": null,
   "metadata": {},
   "outputs": [],
   "source": [
    "from pyarrow.json import json"
   ]
  },
  {
   "cell_type": "code",
   "execution_count": 39,
   "metadata": {},
   "outputs": [
    {
     "name": "stdout",
     "output_type": "stream",
     "text": [
      "read_table: Consumed: 3427.5390625 MB.\n",
      "read_table: Consumed: 1973.90234375 MB.\n",
      "read_table: Consumed: 4271.8984375 MB.\n",
      "read_table: Consumed: 1962.13671875 MB.\n"
     ]
    }
   ],
   "source": [
    "from pympler import asizeof\n",
    "\n",
    "@consumed\n",
    "def read_table(file_name, file_type='csv'):\n",
    "    if file_type == 'csv':\n",
    "        table = csv.read_csv(file_name)\n",
    "    elif file_type == 'parquet':\n",
    "        table = parquet.read_table(file_name)\n",
    "    elif file_type == 'orc':\n",
    "        table = orc.read_table(file_name)\n",
    "    elif file_type == 'feather':\n",
    "        table = feather.read_table(file_name)\n",
    "\n",
    "    return table\n",
    "\n",
    "table = read_table(f'{day1}.parquet', file_type='parquet')\n",
    "table = read_table(f'{day1}.orc', file_type='orc')\n",
    "table = read_table(f'{day1}.csv2', file_type='csv')\n",
    "table = read_table(f'{day1}.feather', file_type='feather')"
   ]
  },
  {
   "cell_type": "code",
   "execution_count": 38,
   "metadata": {},
   "outputs": [],
   "source": [
    "import psutil\n",
    "import os\n",
    "\n",
    "def get_process_memory():\n",
    "    current_pid = os.getpid()\n",
    "    process = psutil.Process(current_pid)\n",
    "    rss = process.memory_info().rss\n",
    "    return rss\n",
    "\n",
    "\n",
    "def consumed(func):\n",
    "    def wrapper(*args, **kwargs):\n",
    "        gc.collect()\n",
    "        time.sleep(5)\n",
    "        pre_mem = get_process_memory()\n",
    "        result = func(*args, **kwargs)\n",
    "        post_mem = get_process_memory()\n",
    "        consumed_mem = post_mem - pre_mem\n",
    "        consumed_mem_MB = consumed_mem / (1024 ** 2)\n",
    "        print(f'{func.__name__}: Consumed: {consumed_mem_MB} MB.')\n",
    "        return result\n",
    "    return wrapper"
   ]
  },
  {
   "cell_type": "code",
   "execution_count": null,
   "metadata": {},
   "outputs": [],
   "source": []
  }
 ],
 "metadata": {
  "interpreter": {
   "hash": "1014a147ebe84edf89cc949d1474b378add343e44159593a1f5b609a8f202a90"
  },
  "kernelspec": {
   "display_name": "Python 3.8.10 ('venv': venv)",
   "language": "python",
   "name": "python3"
  },
  "language_info": {
   "codemirror_mode": {
    "name": "ipython",
    "version": 3
   },
   "file_extension": ".py",
   "mimetype": "text/x-python",
   "name": "python",
   "nbconvert_exporter": "python",
   "pygments_lexer": "ipython3",
   "version": "3.8.10"
  },
  "orig_nbformat": 4
 },
 "nbformat": 4,
 "nbformat_minor": 2
}
