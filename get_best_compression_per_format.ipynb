{
 "cells": [
  {
   "cell_type": "code",
   "execution_count": 1,
   "metadata": {},
   "outputs": [],
   "source": [
    "import json\n",
    "with open('group_compression_tests.json', 'r', encoding='utf8') as jfile:\n",
    "    data = json.load(jfile)"
   ]
  },
  {
   "cell_type": "code",
   "execution_count": 6,
   "metadata": {},
   "outputs": [],
   "source": [
    "c_map = {'infer': 'uncompressed', 'none': 'uncompressed'}\n",
    "file_dict = {}\n",
    "for filetype in data.keys():\n",
    "    file_dict[filetype] = {}\n",
    "    for compression in data[filetype].keys():\n",
    "        new_c_key = c_map.get(compression, compression)\n",
    "        file_dict[filetype][new_c_key] = {**data[filetype][compression]}\n"
   ]
  },
  {
   "cell_type": "code",
   "execution_count": 7,
   "metadata": {},
   "outputs": [],
   "source": [
    "with open('fixed_group_compression_tests.json', 'w', encoding='utf8') as jfile:\n",
    "    json.dump(file_dict, jfile, indent=4)"
   ]
  },
  {
   "cell_type": "code",
   "execution_count": 8,
   "metadata": {},
   "outputs": [],
   "source": [
    "with open('fixed_group_compression_tests.json', 'r', encoding='utf8') as jfile:\n",
    "    tests = json.load(jfile)"
   ]
  },
  {
   "cell_type": "code",
   "execution_count": 45,
   "metadata": {},
   "outputs": [],
   "source": [
    "ranking_dict = {}\n",
    "award_points = lambda sorted_list, weight: list(zip(sorted_list, [i * weight for i, _ in enumerate(sorted_list, start=1)]))\n",
    "filesize_weight = 2\n",
    "readtime_weight = 1.5\n",
    "writetime_weight = 1\n",
    "\n",
    "for filetype in tests.keys():\n",
    "    read_times = [[compression, results['mean_read_time']] for compression, results in tests[filetype].items() if compression != 'uncompressed']\n",
    "    write_times = [[compression, results['mean_write_time']] for compression, results in tests[filetype].items() if compression != 'uncompressed']\n",
    "    filesizes = [[compression, results['mean_filesize_in_GB']] for compression, results in tests[filetype].items() if compression != 'uncompressed']\n",
    "\n",
    "\n",
    "    # Lowest time fi\n",
    "    sorted_read_times = sorted(read_times, key=lambda x: x[1], reverse=True)\n",
    "    sorted_write_times = sorted(write_times, key=lambda x: x[1], reverse=True)\n",
    "    sorted_filesizes = sorted(filesizes, key=lambda x: x[1], reverse=True)\n",
    "    ranking_dict[filetype] = {\n",
    "        'readtimes': award_points(sorted_read_times, readtime_weight),\n",
    "        'writetimes': award_points(sorted_write_times, writetime_weight),\n",
    "        'filesizes': award_points(sorted_filesizes, filesize_weight)\n",
    "    }"
   ]
  },
  {
   "cell_type": "code",
   "execution_count": 46,
   "metadata": {},
   "outputs": [
    {
     "name": "stdout",
     "output_type": "stream",
     "text": [
      "parquet gzip 9.5\n",
      "parquet brotli 12.0\n",
      "parquet zstd 17.5\n",
      "parquet snappy 15.0\n",
      "parquet lz4 13.5\n",
      "orc zlib 8.5\n",
      "orc zstd 13.0\n",
      "orc snappy 11.5\n",
      "orc lz4 12.0\n",
      "feather zstd 6.5\n",
      "feather lz4 7.0\n",
      "csv bz2 11.5\n",
      "csv xz 14.0\n",
      "csv gzip 13.5\n",
      "csv zip 12.0\n",
      "csv zstd 16.5\n",
      "{'parquet': defaultdict(<class 'list'>, {'gzip': [1.5, 2, 6], 'brotli': [3.0, 1, 8], 'zstd': [4.5, 3, 10], 'snappy': [6.0, 5, 4], 'lz4': [7.5, 4, 2]}), 'orc': defaultdict(<class 'list'>, {'zlib': [1.5, 1, 6], 'zstd': [3.0, 2, 8], 'snappy': [4.5, 3, 4], 'lz4': [6.0, 4, 2]}), 'feather': defaultdict(<class 'list'>, {'zstd': [1.5, 1, 4], 'lz4': [3.0, 2, 2]}), 'csv': defaultdict(<class 'list'>, {'bz2': [1.5, 2, 8], 'xz': [3.0, 1, 10], 'gzip': [4.5, 3, 6], 'zip': [6.0, 4, 2], 'zstd': [7.5, 5, 4]})}\n"
     ]
    }
   ],
   "source": [
    "from collections import defaultdict\n",
    "standings = {}\n",
    "for filetype in ranking_dict.keys():\n",
    "    standings[filetype] = defaultdict(list)\n",
    "    for challenge in ranking_dict[filetype].keys():\n",
    "        for result in ranking_dict[filetype][challenge]:\n",
    "            [compression, _], points = result\n",
    "            standings[filetype][compression].append(points)\n",
    "    \n",
    "    \n",
    "    for compression, points in standings[filetype].items():\n",
    "        print(filetype,  compression, sum(points))\n",
    "        #compression, measure, points = ranking_dict[filetype][challenge]\n",
    "print(standings)"
   ]
  }
 ],
 "metadata": {
  "interpreter": {
   "hash": "1014a147ebe84edf89cc949d1474b378add343e44159593a1f5b609a8f202a90"
  },
  "kernelspec": {
   "display_name": "Python 3.8.10 ('venv': venv)",
   "language": "python",
   "name": "python3"
  },
  "language_info": {
   "codemirror_mode": {
    "name": "ipython",
    "version": 3
   },
   "file_extension": ".py",
   "mimetype": "text/x-python",
   "name": "python",
   "nbconvert_exporter": "python",
   "pygments_lexer": "ipython3",
   "version": "3.8.10"
  },
  "orig_nbformat": 4
 },
 "nbformat": 4,
 "nbformat_minor": 2
}
