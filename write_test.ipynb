{
 "cells": [
  {
   "cell_type": "code",
   "execution_count": 4,
   "metadata": {},
   "outputs": [],
   "source": [
    "import pyarrow.parquet as parquet\n",
    "import pyarrow.feather as feather\n",
    "import pyarrow.orc as orc\n",
    "import pyarrow.csv as csv\n",
    "import pyarrow as pa\n",
    "from pathlib import Path\n",
    "import gc\n",
    "import time\n",
    "import os\n",
    "import psutil\n",
    "import json\n",
    "from timeit import default_timer as timer\n",
    "from datetime import timedelta\n",
    "import pandas as pd\n",
    "\n",
    "reddit_place = '2022_place_canvas_history'\n",
    "original_csv_file = f'data/small/day1/original/{reddit_place}.csv'\n",
    "parquet_file = f'data/small/day1/{reddit_place}.parquet'\n",
    "feather_file = f'data/small/day1/{reddit_place}.feather'\n",
    "orc_file = f'data/small/day1/{reddit_place}.orc'\n",
    "csv_file = f'data/small/day1/{reddit_place}.csv'\n",
    "\n",
    "\n",
    "def time_func(func, *args, **kwargs):\n",
    "    start = timer()\n",
    "    print(f'Starting {func.__name__}: [{start}]')\n",
    "    result = func(*args, **kwargs)\n",
    "    end = timer()\n",
    "    print(f'Done {func.__name__}: [{end}]')\n",
    "    total_in_seconds = end - start\n",
    "    print(f'Total time: {timedelta(seconds=total_in_seconds)}')\n",
    "\n",
    "    return result, total_in_seconds\n",
    "\n",
    "def write_file(df, filename, filetype):\n",
    "    if filetype == 'csv':\n",
    "        table = pa.Table.from_pandas(df)\n",
    "        csv.write_csv(table, filename)\n",
    "    elif filetype == 'parquet':\n",
    "        table = pa.Table.from_pandas(df)\n",
    "        parquet.write_table(table, filename)\n",
    "    elif filetype == 'orc':\n",
    "        table = pa.Table.from_pandas(df)\n",
    "        orc.write_table(table, filename)\n",
    "    elif filetype == 'feather':\n",
    "        feather.write_feather(df, filename)"
   ]
  },
  {
   "cell_type": "code",
   "execution_count": 5,
   "metadata": {},
   "outputs": [
    {
     "name": "stdout",
     "output_type": "stream",
     "text": [
      "Starting write_file: [365820.358387021]\n",
      "Done write_file: [365826.639719372]\n",
      "Total time: 0:00:06.281332\n",
      "Starting write_file: [365826.712039057]\n",
      "Done write_file: [365833.318500318]\n",
      "Total time: 0:00:06.606461\n",
      "Starting write_file: [365833.38929911]\n",
      "Done write_file: [365836.978290953]\n",
      "Total time: 0:00:03.588992\n",
      "Starting write_file: [365836.978650096]\n",
      "Done write_file: [365855.562975101]\n",
      "Total time: 0:00:18.584325\n"
     ]
    }
   ],
   "source": [
    "# Get orignal_file\n",
    "df = csv.read_csv(original_csv_file).to_pandas()\n",
    "filenames = [parquet_file, orc_file, feather_file, csv_file]\n",
    "filetypes = ['parquet', 'orc', 'feather', 'csv']\n",
    "results = []\n",
    "\n",
    "for filename, filetype in zip(filenames, filetypes):\n",
    "    filepath = Path(filename)\n",
    "    if filepath.is_file():\n",
    "        filepath.unlink()\n",
    "\n",
    "    _, time_in_seconds = time_func(\n",
    "        write_file,\n",
    "        df,\n",
    "        filename,\n",
    "        filetype\n",
    "    )\n",
    "\n",
    "    filesize_in_bytes = Path(filename).stat().st_size\n",
    "\n",
    "    results.append({\n",
    "        'func': write_file.__name__,\n",
    "        'filename': filename,\n",
    "        'filetype': filetype,\n",
    "        'time_in_seconds': time_in_seconds,\n",
    "        'filesize_in_bytes': filesize_in_bytes\n",
    "    })\n"
   ]
  },
  {
   "cell_type": "code",
   "execution_count": 6,
   "metadata": {},
   "outputs": [
    {
     "data": {
      "text/plain": [
       "[{'func': 'write_file',\n",
       "  'filename': 'data/small/day1/2022_place_canvas_history.parquet',\n",
       "  'filetype': 'parquet',\n",
       "  'time_in_seconds': 6.2813323509762995,\n",
       "  'filesize_in_bytes': 1346219026},\n",
       " {'func': 'write_file',\n",
       "  'filename': 'data/small/day1/2022_place_canvas_history.orc',\n",
       "  'filetype': 'orc',\n",
       "  'time_in_seconds': 6.606461260991637,\n",
       "  'filesize_in_bytes': 1618000279},\n",
       " {'func': 'write_file',\n",
       "  'filename': 'data/small/day1/2022_place_canvas_history.feather',\n",
       "  'filetype': 'feather',\n",
       "  'time_in_seconds': 3.588991842989344,\n",
       "  'filesize_in_bytes': 1551257762},\n",
       " {'func': 'write_file',\n",
       "  'filename': 'data/small/day1/2022_place_canvas_history.csv',\n",
       "  'filetype': 'csv',\n",
       "  'time_in_seconds': 18.584325005009305,\n",
       "  'filesize_in_bytes': 2218122514}]"
      ]
     },
     "execution_count": 6,
     "metadata": {},
     "output_type": "execute_result"
    }
   ],
   "source": [
    "results"
   ]
  }
 ],
 "metadata": {
  "interpreter": {
   "hash": "1014a147ebe84edf89cc949d1474b378add343e44159593a1f5b609a8f202a90"
  },
  "kernelspec": {
   "display_name": "Python 3.8.10 ('venv': venv)",
   "language": "python",
   "name": "python3"
  },
  "language_info": {
   "codemirror_mode": {
    "name": "ipython",
    "version": 3
   },
   "file_extension": ".py",
   "mimetype": "text/x-python",
   "name": "python",
   "nbconvert_exporter": "python",
   "pygments_lexer": "ipython3",
   "version": "3.8.10"
  },
  "orig_nbformat": 4
 },
 "nbformat": 4,
 "nbformat_minor": 2
}
