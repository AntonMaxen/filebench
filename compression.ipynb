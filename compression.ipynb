{
 "cells": [
  {
   "cell_type": "code",
   "execution_count": 15,
   "metadata": {},
   "outputs": [],
   "source": [
    "import pandas as pd\n",
    "from timeit import default_timer as timer\n",
    "from datetime import timedelta\n",
    "\n",
    "feather_compressions = ['lz4', 'zstd', 'uncompressed']\n",
    "orc_compressions = ['zlib', 'snappy', 'lz4', 'zstd', 'uncompressed']\n",
    "parquet_compressions = ['zstd', 'lz4', 'brotli', 'gzip', 'snappy', 'none']\n",
    "not_supported_parquet = ['lzo']\n",
    "csv_compressions = [\"infer\", \"gzip\", \"bz2\", \"zip\", \"xz\", \"zstd\"]\n",
    "\n",
    "reddit_place = '2022_place_canvas_history'\n",
    "\n",
    "def time_func(func, *args, **kwargs):\n",
    "    start = timer()\n",
    "    print(f'Starting {func.__name__}: [{start}]')\n",
    "    result = func(*args, **kwargs)\n",
    "    end = timer()\n",
    "    print(f'Done {func.__name__}: [{end}]')\n",
    "    total_in_seconds = end - start\n",
    "    print(f'Total time: {timedelta(seconds=total_in_seconds)}')\n",
    "\n",
    "    return result, total_in_seconds"
   ]
  },
  {
   "cell_type": "code",
   "execution_count": null,
   "metadata": {},
   "outputs": [
    {
     "name": "stdout",
     "output_type": "stream",
     "text": [
      "infer: is running\n",
      "Starting to_csv: [178240.203605503]\n",
      "Done to_csv: [178276.681595687]\n",
      "Total time: 0:00:36.477990\n",
      "==========\n",
      "gzip: is running\n",
      "Starting to_csv: [178276.681685619]\n",
      "Done to_csv: [178398.638667101]\n",
      "Total time: 0:02:01.956981\n",
      "==========\n",
      "bz2: is running\n",
      "Starting to_csv: [178398.63887105]\n",
      "Done to_csv: [178551.237841496]\n",
      "Total time: 0:02:32.598970\n",
      "==========\n",
      "zip: is running\n",
      "Starting to_csv: [178551.237934163]\n",
      "Done to_csv: [178645.17216472]\n",
      "Total time: 0:01:33.934231\n",
      "==========\n",
      "xz: is running\n",
      "Starting to_csv: [178645.172416969]\n",
      "Done to_csv: [179435.09174904]\n",
      "Total time: 0:13:09.919332\n",
      "==========\n",
      "zstd: is running\n",
      "Starting to_csv: [179435.09182658]\n"
     ]
    },
    {
     "ename": "ImportError",
     "evalue": "Missing optional dependency 'zstandard'.  Use pip or conda to install zstandard.",
     "output_type": "error",
     "traceback": [
      "\u001b[0;31m---------------------------------------------------------------------------\u001b[0m",
      "\u001b[0;31mModuleNotFoundError\u001b[0m                       Traceback (most recent call last)",
      "File \u001b[0;32m~/dev/projects/file-bench/venv/lib/python3.8/site-packages/pandas/compat/_optional.py:138\u001b[0m, in \u001b[0;36mimport_optional_dependency\u001b[0;34m(name, extra, errors, min_version)\u001b[0m\n\u001b[1;32m    <a href='file:///home/mimslade/dev/projects/file-bench/venv/lib/python3.8/site-packages/pandas/compat/_optional.py?line=136'>137</a>\u001b[0m \u001b[39mtry\u001b[39;00m:\n\u001b[0;32m--> <a href='file:///home/mimslade/dev/projects/file-bench/venv/lib/python3.8/site-packages/pandas/compat/_optional.py?line=137'>138</a>\u001b[0m     module \u001b[39m=\u001b[39m importlib\u001b[39m.\u001b[39;49mimport_module(name)\n\u001b[1;32m    <a href='file:///home/mimslade/dev/projects/file-bench/venv/lib/python3.8/site-packages/pandas/compat/_optional.py?line=138'>139</a>\u001b[0m \u001b[39mexcept\u001b[39;00m \u001b[39mImportError\u001b[39;00m:\n",
      "File \u001b[0;32m/usr/lib/python3.8/importlib/__init__.py:127\u001b[0m, in \u001b[0;36mimport_module\u001b[0;34m(name, package)\u001b[0m\n\u001b[1;32m    <a href='file:///usr/lib/python3.8/importlib/__init__.py?line=125'>126</a>\u001b[0m         level \u001b[39m+\u001b[39m\u001b[39m=\u001b[39m \u001b[39m1\u001b[39m\n\u001b[0;32m--> <a href='file:///usr/lib/python3.8/importlib/__init__.py?line=126'>127</a>\u001b[0m \u001b[39mreturn\u001b[39;00m _bootstrap\u001b[39m.\u001b[39;49m_gcd_import(name[level:], package, level)\n",
      "File \u001b[0;32m<frozen importlib._bootstrap>:1014\u001b[0m, in \u001b[0;36m_gcd_import\u001b[0;34m(name, package, level)\u001b[0m\n",
      "File \u001b[0;32m<frozen importlib._bootstrap>:991\u001b[0m, in \u001b[0;36m_find_and_load\u001b[0;34m(name, import_)\u001b[0m\n",
      "File \u001b[0;32m<frozen importlib._bootstrap>:973\u001b[0m, in \u001b[0;36m_find_and_load_unlocked\u001b[0;34m(name, import_)\u001b[0m\n",
      "\u001b[0;31mModuleNotFoundError\u001b[0m: No module named 'zstandard'",
      "\nDuring handling of the above exception, another exception occurred:\n",
      "\u001b[0;31mImportError\u001b[0m                               Traceback (most recent call last)",
      "\u001b[1;32m/home/mimslade/dev/projects/file-bench/compression.ipynb Cell 3'\u001b[0m in \u001b[0;36m<cell line: 3>\u001b[0;34m()\u001b[0m\n\u001b[1;32m      <a href='vscode-notebook-cell:/home/mimslade/dev/projects/file-bench/compression.ipynb#ch0000002?line=2'>3</a>\u001b[0m \u001b[39mfor\u001b[39;00m compression \u001b[39min\u001b[39;00m csv_compressions:\n\u001b[1;32m      <a href='vscode-notebook-cell:/home/mimslade/dev/projects/file-bench/compression.ipynb#ch0000002?line=3'>4</a>\u001b[0m     \u001b[39mprint\u001b[39m(\u001b[39mf\u001b[39m\u001b[39m'\u001b[39m\u001b[39m{\u001b[39;00mcompression\u001b[39m}\u001b[39;00m\u001b[39m: is running\u001b[39m\u001b[39m'\u001b[39m)\n\u001b[0;32m----> <a href='vscode-notebook-cell:/home/mimslade/dev/projects/file-bench/compression.ipynb#ch0000002?line=4'>5</a>\u001b[0m     time_func(\n\u001b[1;32m      <a href='vscode-notebook-cell:/home/mimslade/dev/projects/file-bench/compression.ipynb#ch0000002?line=5'>6</a>\u001b[0m         df\u001b[39m.\u001b[39;49mto_csv,\n\u001b[1;32m      <a href='vscode-notebook-cell:/home/mimslade/dev/projects/file-bench/compression.ipynb#ch0000002?line=6'>7</a>\u001b[0m         \u001b[39mf\u001b[39;49m\u001b[39m'\u001b[39;49m\u001b[39mdata/compressed/csv/\u001b[39;49m\u001b[39m{\u001b[39;49;00mreddit_place\u001b[39m}\u001b[39;49;00m\u001b[39m.csv.\u001b[39;49m\u001b[39m{\u001b[39;49;00mcompression\u001b[39m}\u001b[39;49;00m\u001b[39m'\u001b[39;49m,\n\u001b[1;32m      <a href='vscode-notebook-cell:/home/mimslade/dev/projects/file-bench/compression.ipynb#ch0000002?line=7'>8</a>\u001b[0m         compression\u001b[39m=\u001b[39;49mcompression\n\u001b[1;32m      <a href='vscode-notebook-cell:/home/mimslade/dev/projects/file-bench/compression.ipynb#ch0000002?line=8'>9</a>\u001b[0m     )\n\u001b[1;32m     <a href='vscode-notebook-cell:/home/mimslade/dev/projects/file-bench/compression.ipynb#ch0000002?line=9'>10</a>\u001b[0m     \u001b[39mprint\u001b[39m(\u001b[39m'\u001b[39m\u001b[39m=\u001b[39m\u001b[39m'\u001b[39m \u001b[39m*\u001b[39m \u001b[39m10\u001b[39m)\n",
      "\u001b[1;32m/home/mimslade/dev/projects/file-bench/compression.ipynb Cell 1'\u001b[0m in \u001b[0;36mtime_func\u001b[0;34m(func, *args, **kwargs)\u001b[0m\n\u001b[1;32m     <a href='vscode-notebook-cell:/home/mimslade/dev/projects/file-bench/compression.ipynb#ch0000000?line=12'>13</a>\u001b[0m start \u001b[39m=\u001b[39m timer()\n\u001b[1;32m     <a href='vscode-notebook-cell:/home/mimslade/dev/projects/file-bench/compression.ipynb#ch0000000?line=13'>14</a>\u001b[0m \u001b[39mprint\u001b[39m(\u001b[39mf\u001b[39m\u001b[39m'\u001b[39m\u001b[39mStarting \u001b[39m\u001b[39m{\u001b[39;00mfunc\u001b[39m.\u001b[39m\u001b[39m__name__\u001b[39m\u001b[39m}\u001b[39;00m\u001b[39m: [\u001b[39m\u001b[39m{\u001b[39;00mstart\u001b[39m}\u001b[39;00m\u001b[39m]\u001b[39m\u001b[39m'\u001b[39m)\n\u001b[0;32m---> <a href='vscode-notebook-cell:/home/mimslade/dev/projects/file-bench/compression.ipynb#ch0000000?line=14'>15</a>\u001b[0m result \u001b[39m=\u001b[39m func(\u001b[39m*\u001b[39;49margs, \u001b[39m*\u001b[39;49m\u001b[39m*\u001b[39;49mkwargs)\n\u001b[1;32m     <a href='vscode-notebook-cell:/home/mimslade/dev/projects/file-bench/compression.ipynb#ch0000000?line=15'>16</a>\u001b[0m end \u001b[39m=\u001b[39m timer()\n\u001b[1;32m     <a href='vscode-notebook-cell:/home/mimslade/dev/projects/file-bench/compression.ipynb#ch0000000?line=16'>17</a>\u001b[0m \u001b[39mprint\u001b[39m(\u001b[39mf\u001b[39m\u001b[39m'\u001b[39m\u001b[39mDone \u001b[39m\u001b[39m{\u001b[39;00mfunc\u001b[39m.\u001b[39m\u001b[39m__name__\u001b[39m\u001b[39m}\u001b[39;00m\u001b[39m: [\u001b[39m\u001b[39m{\u001b[39;00mend\u001b[39m}\u001b[39;00m\u001b[39m]\u001b[39m\u001b[39m'\u001b[39m)\n",
      "File \u001b[0;32m~/dev/projects/file-bench/venv/lib/python3.8/site-packages/pandas/core/generic.py:3551\u001b[0m, in \u001b[0;36mNDFrame.to_csv\u001b[0;34m(self, path_or_buf, sep, na_rep, float_format, columns, header, index, index_label, mode, encoding, compression, quoting, quotechar, line_terminator, chunksize, date_format, doublequote, escapechar, decimal, errors, storage_options)\u001b[0m\n\u001b[1;32m   <a href='file:///home/mimslade/dev/projects/file-bench/venv/lib/python3.8/site-packages/pandas/core/generic.py?line=3539'>3540</a>\u001b[0m df \u001b[39m=\u001b[39m \u001b[39mself\u001b[39m \u001b[39mif\u001b[39;00m \u001b[39misinstance\u001b[39m(\u001b[39mself\u001b[39m, ABCDataFrame) \u001b[39melse\u001b[39;00m \u001b[39mself\u001b[39m\u001b[39m.\u001b[39mto_frame()\n\u001b[1;32m   <a href='file:///home/mimslade/dev/projects/file-bench/venv/lib/python3.8/site-packages/pandas/core/generic.py?line=3541'>3542</a>\u001b[0m formatter \u001b[39m=\u001b[39m DataFrameFormatter(\n\u001b[1;32m   <a href='file:///home/mimslade/dev/projects/file-bench/venv/lib/python3.8/site-packages/pandas/core/generic.py?line=3542'>3543</a>\u001b[0m     frame\u001b[39m=\u001b[39mdf,\n\u001b[1;32m   <a href='file:///home/mimslade/dev/projects/file-bench/venv/lib/python3.8/site-packages/pandas/core/generic.py?line=3543'>3544</a>\u001b[0m     header\u001b[39m=\u001b[39mheader,\n\u001b[0;32m   (...)\u001b[0m\n\u001b[1;32m   <a href='file:///home/mimslade/dev/projects/file-bench/venv/lib/python3.8/site-packages/pandas/core/generic.py?line=3547'>3548</a>\u001b[0m     decimal\u001b[39m=\u001b[39mdecimal,\n\u001b[1;32m   <a href='file:///home/mimslade/dev/projects/file-bench/venv/lib/python3.8/site-packages/pandas/core/generic.py?line=3548'>3549</a>\u001b[0m )\n\u001b[0;32m-> <a href='file:///home/mimslade/dev/projects/file-bench/venv/lib/python3.8/site-packages/pandas/core/generic.py?line=3550'>3551</a>\u001b[0m \u001b[39mreturn\u001b[39;00m DataFrameRenderer(formatter)\u001b[39m.\u001b[39;49mto_csv(\n\u001b[1;32m   <a href='file:///home/mimslade/dev/projects/file-bench/venv/lib/python3.8/site-packages/pandas/core/generic.py?line=3551'>3552</a>\u001b[0m     path_or_buf,\n\u001b[1;32m   <a href='file:///home/mimslade/dev/projects/file-bench/venv/lib/python3.8/site-packages/pandas/core/generic.py?line=3552'>3553</a>\u001b[0m     line_terminator\u001b[39m=\u001b[39;49mline_terminator,\n\u001b[1;32m   <a href='file:///home/mimslade/dev/projects/file-bench/venv/lib/python3.8/site-packages/pandas/core/generic.py?line=3553'>3554</a>\u001b[0m     sep\u001b[39m=\u001b[39;49msep,\n\u001b[1;32m   <a href='file:///home/mimslade/dev/projects/file-bench/venv/lib/python3.8/site-packages/pandas/core/generic.py?line=3554'>3555</a>\u001b[0m     encoding\u001b[39m=\u001b[39;49mencoding,\n\u001b[1;32m   <a href='file:///home/mimslade/dev/projects/file-bench/venv/lib/python3.8/site-packages/pandas/core/generic.py?line=3555'>3556</a>\u001b[0m     errors\u001b[39m=\u001b[39;49merrors,\n\u001b[1;32m   <a href='file:///home/mimslade/dev/projects/file-bench/venv/lib/python3.8/site-packages/pandas/core/generic.py?line=3556'>3557</a>\u001b[0m     compression\u001b[39m=\u001b[39;49mcompression,\n\u001b[1;32m   <a href='file:///home/mimslade/dev/projects/file-bench/venv/lib/python3.8/site-packages/pandas/core/generic.py?line=3557'>3558</a>\u001b[0m     quoting\u001b[39m=\u001b[39;49mquoting,\n\u001b[1;32m   <a href='file:///home/mimslade/dev/projects/file-bench/venv/lib/python3.8/site-packages/pandas/core/generic.py?line=3558'>3559</a>\u001b[0m     columns\u001b[39m=\u001b[39;49mcolumns,\n\u001b[1;32m   <a href='file:///home/mimslade/dev/projects/file-bench/venv/lib/python3.8/site-packages/pandas/core/generic.py?line=3559'>3560</a>\u001b[0m     index_label\u001b[39m=\u001b[39;49mindex_label,\n\u001b[1;32m   <a href='file:///home/mimslade/dev/projects/file-bench/venv/lib/python3.8/site-packages/pandas/core/generic.py?line=3560'>3561</a>\u001b[0m     mode\u001b[39m=\u001b[39;49mmode,\n\u001b[1;32m   <a href='file:///home/mimslade/dev/projects/file-bench/venv/lib/python3.8/site-packages/pandas/core/generic.py?line=3561'>3562</a>\u001b[0m     chunksize\u001b[39m=\u001b[39;49mchunksize,\n\u001b[1;32m   <a href='file:///home/mimslade/dev/projects/file-bench/venv/lib/python3.8/site-packages/pandas/core/generic.py?line=3562'>3563</a>\u001b[0m     quotechar\u001b[39m=\u001b[39;49mquotechar,\n\u001b[1;32m   <a href='file:///home/mimslade/dev/projects/file-bench/venv/lib/python3.8/site-packages/pandas/core/generic.py?line=3563'>3564</a>\u001b[0m     date_format\u001b[39m=\u001b[39;49mdate_format,\n\u001b[1;32m   <a href='file:///home/mimslade/dev/projects/file-bench/venv/lib/python3.8/site-packages/pandas/core/generic.py?line=3564'>3565</a>\u001b[0m     doublequote\u001b[39m=\u001b[39;49mdoublequote,\n\u001b[1;32m   <a href='file:///home/mimslade/dev/projects/file-bench/venv/lib/python3.8/site-packages/pandas/core/generic.py?line=3565'>3566</a>\u001b[0m     escapechar\u001b[39m=\u001b[39;49mescapechar,\n\u001b[1;32m   <a href='file:///home/mimslade/dev/projects/file-bench/venv/lib/python3.8/site-packages/pandas/core/generic.py?line=3566'>3567</a>\u001b[0m     storage_options\u001b[39m=\u001b[39;49mstorage_options,\n\u001b[1;32m   <a href='file:///home/mimslade/dev/projects/file-bench/venv/lib/python3.8/site-packages/pandas/core/generic.py?line=3567'>3568</a>\u001b[0m )\n",
      "File \u001b[0;32m~/dev/projects/file-bench/venv/lib/python3.8/site-packages/pandas/io/formats/format.py:1180\u001b[0m, in \u001b[0;36mDataFrameRenderer.to_csv\u001b[0;34m(self, path_or_buf, encoding, sep, columns, index_label, mode, compression, quoting, quotechar, line_terminator, chunksize, date_format, doublequote, escapechar, errors, storage_options)\u001b[0m\n\u001b[1;32m   <a href='file:///home/mimslade/dev/projects/file-bench/venv/lib/python3.8/site-packages/pandas/io/formats/format.py?line=1158'>1159</a>\u001b[0m     created_buffer \u001b[39m=\u001b[39m \u001b[39mFalse\u001b[39;00m\n\u001b[1;32m   <a href='file:///home/mimslade/dev/projects/file-bench/venv/lib/python3.8/site-packages/pandas/io/formats/format.py?line=1160'>1161</a>\u001b[0m csv_formatter \u001b[39m=\u001b[39m CSVFormatter(\n\u001b[1;32m   <a href='file:///home/mimslade/dev/projects/file-bench/venv/lib/python3.8/site-packages/pandas/io/formats/format.py?line=1161'>1162</a>\u001b[0m     path_or_buf\u001b[39m=\u001b[39mpath_or_buf,\n\u001b[1;32m   <a href='file:///home/mimslade/dev/projects/file-bench/venv/lib/python3.8/site-packages/pandas/io/formats/format.py?line=1162'>1163</a>\u001b[0m     line_terminator\u001b[39m=\u001b[39mline_terminator,\n\u001b[0;32m   (...)\u001b[0m\n\u001b[1;32m   <a href='file:///home/mimslade/dev/projects/file-bench/venv/lib/python3.8/site-packages/pandas/io/formats/format.py?line=1177'>1178</a>\u001b[0m     formatter\u001b[39m=\u001b[39m\u001b[39mself\u001b[39m\u001b[39m.\u001b[39mfmt,\n\u001b[1;32m   <a href='file:///home/mimslade/dev/projects/file-bench/venv/lib/python3.8/site-packages/pandas/io/formats/format.py?line=1178'>1179</a>\u001b[0m )\n\u001b[0;32m-> <a href='file:///home/mimslade/dev/projects/file-bench/venv/lib/python3.8/site-packages/pandas/io/formats/format.py?line=1179'>1180</a>\u001b[0m csv_formatter\u001b[39m.\u001b[39;49msave()\n\u001b[1;32m   <a href='file:///home/mimslade/dev/projects/file-bench/venv/lib/python3.8/site-packages/pandas/io/formats/format.py?line=1181'>1182</a>\u001b[0m \u001b[39mif\u001b[39;00m created_buffer:\n\u001b[1;32m   <a href='file:///home/mimslade/dev/projects/file-bench/venv/lib/python3.8/site-packages/pandas/io/formats/format.py?line=1182'>1183</a>\u001b[0m     \u001b[39massert\u001b[39;00m \u001b[39misinstance\u001b[39m(path_or_buf, StringIO)\n",
      "File \u001b[0;32m~/dev/projects/file-bench/venv/lib/python3.8/site-packages/pandas/io/formats/csvs.py:241\u001b[0m, in \u001b[0;36mCSVFormatter.save\u001b[0;34m(self)\u001b[0m\n\u001b[1;32m    <a href='file:///home/mimslade/dev/projects/file-bench/venv/lib/python3.8/site-packages/pandas/io/formats/csvs.py?line=236'>237</a>\u001b[0m \u001b[39m\"\"\"\u001b[39;00m\n\u001b[1;32m    <a href='file:///home/mimslade/dev/projects/file-bench/venv/lib/python3.8/site-packages/pandas/io/formats/csvs.py?line=237'>238</a>\u001b[0m \u001b[39mCreate the writer & save.\u001b[39;00m\n\u001b[1;32m    <a href='file:///home/mimslade/dev/projects/file-bench/venv/lib/python3.8/site-packages/pandas/io/formats/csvs.py?line=238'>239</a>\u001b[0m \u001b[39m\"\"\"\u001b[39;00m\n\u001b[1;32m    <a href='file:///home/mimslade/dev/projects/file-bench/venv/lib/python3.8/site-packages/pandas/io/formats/csvs.py?line=239'>240</a>\u001b[0m \u001b[39m# apply compression and byte/text conversion\u001b[39;00m\n\u001b[0;32m--> <a href='file:///home/mimslade/dev/projects/file-bench/venv/lib/python3.8/site-packages/pandas/io/formats/csvs.py?line=240'>241</a>\u001b[0m \u001b[39mwith\u001b[39;00m get_handle(\n\u001b[1;32m    <a href='file:///home/mimslade/dev/projects/file-bench/venv/lib/python3.8/site-packages/pandas/io/formats/csvs.py?line=241'>242</a>\u001b[0m     \u001b[39mself\u001b[39;49m\u001b[39m.\u001b[39;49mfilepath_or_buffer,\n\u001b[1;32m    <a href='file:///home/mimslade/dev/projects/file-bench/venv/lib/python3.8/site-packages/pandas/io/formats/csvs.py?line=242'>243</a>\u001b[0m     \u001b[39mself\u001b[39;49m\u001b[39m.\u001b[39;49mmode,\n\u001b[1;32m    <a href='file:///home/mimslade/dev/projects/file-bench/venv/lib/python3.8/site-packages/pandas/io/formats/csvs.py?line=243'>244</a>\u001b[0m     encoding\u001b[39m=\u001b[39;49m\u001b[39mself\u001b[39;49m\u001b[39m.\u001b[39;49mencoding,\n\u001b[1;32m    <a href='file:///home/mimslade/dev/projects/file-bench/venv/lib/python3.8/site-packages/pandas/io/formats/csvs.py?line=244'>245</a>\u001b[0m     errors\u001b[39m=\u001b[39;49m\u001b[39mself\u001b[39;49m\u001b[39m.\u001b[39;49merrors,\n\u001b[1;32m    <a href='file:///home/mimslade/dev/projects/file-bench/venv/lib/python3.8/site-packages/pandas/io/formats/csvs.py?line=245'>246</a>\u001b[0m     compression\u001b[39m=\u001b[39;49m\u001b[39mself\u001b[39;49m\u001b[39m.\u001b[39;49mcompression,\n\u001b[1;32m    <a href='file:///home/mimslade/dev/projects/file-bench/venv/lib/python3.8/site-packages/pandas/io/formats/csvs.py?line=246'>247</a>\u001b[0m     storage_options\u001b[39m=\u001b[39;49m\u001b[39mself\u001b[39;49m\u001b[39m.\u001b[39;49mstorage_options,\n\u001b[1;32m    <a href='file:///home/mimslade/dev/projects/file-bench/venv/lib/python3.8/site-packages/pandas/io/formats/csvs.py?line=247'>248</a>\u001b[0m ) \u001b[39mas\u001b[39;00m handles:\n\u001b[1;32m    <a href='file:///home/mimslade/dev/projects/file-bench/venv/lib/python3.8/site-packages/pandas/io/formats/csvs.py?line=248'>249</a>\u001b[0m \n\u001b[1;32m    <a href='file:///home/mimslade/dev/projects/file-bench/venv/lib/python3.8/site-packages/pandas/io/formats/csvs.py?line=249'>250</a>\u001b[0m     \u001b[39m# Note: self.encoding is irrelevant here\u001b[39;00m\n\u001b[1;32m    <a href='file:///home/mimslade/dev/projects/file-bench/venv/lib/python3.8/site-packages/pandas/io/formats/csvs.py?line=250'>251</a>\u001b[0m     \u001b[39mself\u001b[39m\u001b[39m.\u001b[39mwriter \u001b[39m=\u001b[39m csvlib\u001b[39m.\u001b[39mwriter(\n\u001b[1;32m    <a href='file:///home/mimslade/dev/projects/file-bench/venv/lib/python3.8/site-packages/pandas/io/formats/csvs.py?line=251'>252</a>\u001b[0m         handles\u001b[39m.\u001b[39mhandle,\n\u001b[1;32m    <a href='file:///home/mimslade/dev/projects/file-bench/venv/lib/python3.8/site-packages/pandas/io/formats/csvs.py?line=252'>253</a>\u001b[0m         lineterminator\u001b[39m=\u001b[39m\u001b[39mself\u001b[39m\u001b[39m.\u001b[39mline_terminator,\n\u001b[0;32m   (...)\u001b[0m\n\u001b[1;32m    <a href='file:///home/mimslade/dev/projects/file-bench/venv/lib/python3.8/site-packages/pandas/io/formats/csvs.py?line=257'>258</a>\u001b[0m         quotechar\u001b[39m=\u001b[39m\u001b[39mself\u001b[39m\u001b[39m.\u001b[39mquotechar,\n\u001b[1;32m    <a href='file:///home/mimslade/dev/projects/file-bench/venv/lib/python3.8/site-packages/pandas/io/formats/csvs.py?line=258'>259</a>\u001b[0m     )\n\u001b[1;32m    <a href='file:///home/mimslade/dev/projects/file-bench/venv/lib/python3.8/site-packages/pandas/io/formats/csvs.py?line=260'>261</a>\u001b[0m     \u001b[39mself\u001b[39m\u001b[39m.\u001b[39m_save()\n",
      "File \u001b[0;32m~/dev/projects/file-bench/venv/lib/python3.8/site-packages/pandas/io/common.py:765\u001b[0m, in \u001b[0;36mget_handle\u001b[0;34m(path_or_buf, mode, encoding, compression, memory_map, is_text, errors, storage_options)\u001b[0m\n\u001b[1;32m    <a href='file:///home/mimslade/dev/projects/file-bench/venv/lib/python3.8/site-packages/pandas/io/common.py?line=762'>763</a>\u001b[0m \u001b[39m# Zstd Compression\u001b[39;00m\n\u001b[1;32m    <a href='file:///home/mimslade/dev/projects/file-bench/venv/lib/python3.8/site-packages/pandas/io/common.py?line=763'>764</a>\u001b[0m \u001b[39melif\u001b[39;00m compression \u001b[39m==\u001b[39m \u001b[39m\"\u001b[39m\u001b[39mzstd\u001b[39m\u001b[39m\"\u001b[39m:\n\u001b[0;32m--> <a href='file:///home/mimslade/dev/projects/file-bench/venv/lib/python3.8/site-packages/pandas/io/common.py?line=764'>765</a>\u001b[0m     zstd \u001b[39m=\u001b[39m import_optional_dependency(\u001b[39m\"\u001b[39;49m\u001b[39mzstandard\u001b[39;49m\u001b[39m\"\u001b[39;49m)\n\u001b[1;32m    <a href='file:///home/mimslade/dev/projects/file-bench/venv/lib/python3.8/site-packages/pandas/io/common.py?line=765'>766</a>\u001b[0m     \u001b[39mif\u001b[39;00m \u001b[39m\"\u001b[39m\u001b[39mr\u001b[39m\u001b[39m\"\u001b[39m \u001b[39min\u001b[39;00m ioargs\u001b[39m.\u001b[39mmode:\n\u001b[1;32m    <a href='file:///home/mimslade/dev/projects/file-bench/venv/lib/python3.8/site-packages/pandas/io/common.py?line=766'>767</a>\u001b[0m         open_args \u001b[39m=\u001b[39m {\u001b[39m\"\u001b[39m\u001b[39mdctx\u001b[39m\u001b[39m\"\u001b[39m: zstd\u001b[39m.\u001b[39mZstdDecompressor(\u001b[39m*\u001b[39m\u001b[39m*\u001b[39mcompression_args)}\n",
      "File \u001b[0;32m~/dev/projects/file-bench/venv/lib/python3.8/site-packages/pandas/compat/_optional.py:141\u001b[0m, in \u001b[0;36mimport_optional_dependency\u001b[0;34m(name, extra, errors, min_version)\u001b[0m\n\u001b[1;32m    <a href='file:///home/mimslade/dev/projects/file-bench/venv/lib/python3.8/site-packages/pandas/compat/_optional.py?line=138'>139</a>\u001b[0m \u001b[39mexcept\u001b[39;00m \u001b[39mImportError\u001b[39;00m:\n\u001b[1;32m    <a href='file:///home/mimslade/dev/projects/file-bench/venv/lib/python3.8/site-packages/pandas/compat/_optional.py?line=139'>140</a>\u001b[0m     \u001b[39mif\u001b[39;00m errors \u001b[39m==\u001b[39m \u001b[39m\"\u001b[39m\u001b[39mraise\u001b[39m\u001b[39m\"\u001b[39m:\n\u001b[0;32m--> <a href='file:///home/mimslade/dev/projects/file-bench/venv/lib/python3.8/site-packages/pandas/compat/_optional.py?line=140'>141</a>\u001b[0m         \u001b[39mraise\u001b[39;00m \u001b[39mImportError\u001b[39;00m(msg)\n\u001b[1;32m    <a href='file:///home/mimslade/dev/projects/file-bench/venv/lib/python3.8/site-packages/pandas/compat/_optional.py?line=141'>142</a>\u001b[0m     \u001b[39melse\u001b[39;00m:\n\u001b[1;32m    <a href='file:///home/mimslade/dev/projects/file-bench/venv/lib/python3.8/site-packages/pandas/compat/_optional.py?line=142'>143</a>\u001b[0m         \u001b[39mreturn\u001b[39;00m \u001b[39mNone\u001b[39;00m\n",
      "\u001b[0;31mImportError\u001b[0m: Missing optional dependency 'zstandard'.  Use pip or conda to install zstandard."
     ]
    }
   ],
   "source": [
    "#csv compression\n",
    "df = pd.read_csv(f'data/small/day1/{reddit_place}.csv')\n",
    "for compression in csv_compressions:\n",
    "    print(f'{compression}: is running')\n",
    "    time_func(\n",
    "        df.to_csv,\n",
    "        f'data/compressed/csv/{reddit_place}.csv.{compression}',\n",
    "        compression=compression\n",
    "    )\n",
    "    print('=' * 10)"
   ]
  },
  {
   "cell_type": "code",
   "execution_count": null,
   "metadata": {},
   "outputs": [
    {
     "name": "stdout",
     "output_type": "stream",
     "text": [
      "Starting compress_csv_lz4: [177749.424577288]\n",
      "Done compress_csv_lz4: [177756.614378102]\n",
      "Total time: 0:00:07.189801\n"
     ]
    },
    {
     "data": {
      "text/plain": [
       "(None, 7.189800813997863)"
      ]
     },
     "execution_count": 5,
     "metadata": {},
     "output_type": "execute_result"
    }
   ],
   "source": [
    "import lz4.frame\n",
    "def compress_csv_lz4(i__file, o__file):\n",
    "    with open(i__file, 'rb') as infile:\n",
    "        with open(o__file, 'wb') as outfile:\n",
    "            outfile.write(lz4.frame.compress(infile.read()))\n",
    "\n",
    "infile = f'data/small/day1/{reddit_place}.csv'\n",
    "outfile = f'data/compressed/csv/{reddit_place}.csv.lz4'\n",
    "time_func(\n",
    "    compress_csv_lz4,\n",
    "    infile,\n",
    "    outfile\n",
    ")"
   ]
  },
  {
   "cell_type": "code",
   "execution_count": null,
   "metadata": {},
   "outputs": [
    {
     "name": "stdout",
     "output_type": "stream",
     "text": [
      "Starting to_csv: [185218.0175044]\n",
      "Done to_csv: [185269.613355241]\n",
      "Total time: 0:00:51.595851\n"
     ]
    },
    {
     "data": {
      "text/plain": [
       "(None, 51.59585084099672)"
      ]
     },
     "execution_count": 4,
     "metadata": {},
     "output_type": "execute_result"
    }
   ],
   "source": [
    "time_func(\n",
    "        df.to_csv,\n",
    "        f'data/compressed/csv/{reddit_place}.csv.zstd',\n",
    "        compression='zstd'\n",
    "    )"
   ]
  },
  {
   "cell_type": "code",
   "execution_count": 8,
   "metadata": {},
   "outputs": [
    {
     "name": "stdout",
     "output_type": "stream",
     "text": [
      "lz4: is running\n",
      "Starting write_feather: [186150.613422681]\n",
      "Done write_feather: [186151.594831775]\n",
      "Total time: 0:00:00.981409\n",
      "==========\n",
      "zstd: is running\n",
      "Starting write_feather: [186151.594929562]\n",
      "Done write_feather: [186153.285618917]\n",
      "Total time: 0:00:01.690689\n",
      "==========\n",
      "uncompressed: is running\n",
      "Starting write_feather: [186153.285709172]\n",
      "Done write_feather: [186154.59066106]\n",
      "Total time: 0:00:01.304952\n",
      "==========\n"
     ]
    }
   ],
   "source": [
    "# Compression testing with feather\n",
    "import pyarrow.feather as feather\n",
    "a_table = feather.read_table(f'data/small/day1/{reddit_place}.feather')\n",
    "for compression in feather_compressions:\n",
    "    print(f'{compression}: is running')\n",
    "    time_func(\n",
    "        feather.write_feather,\n",
    "        df=a_table,\n",
    "        dest=f'data/compressed/feather/{reddit_place}.feather.{compression}',\n",
    "        compression=compression\n",
    "    )\n",
    "    print('=' * 10)"
   ]
  },
  {
   "cell_type": "code",
   "execution_count": 14,
   "metadata": {},
   "outputs": [
    {
     "name": "stdout",
     "output_type": "stream",
     "text": [
      "Starting write_table: [187721.465816396]\n",
      "Done write_table: [187726.729342636]\n",
      "Total time: 0:00:05.263526\n"
     ]
    },
    {
     "data": {
      "text/plain": [
       "(None, 5.263526240014471)"
      ]
     },
     "execution_count": 14,
     "metadata": {},
     "output_type": "execute_result"
    }
   ],
   "source": [
    "time_func(\n",
    "    func=parquet.write_table,\n",
    "    table=a_table,\n",
    "    where=f'data/compressed/parquet/{reddit_place}.parquet.none',\n",
    "    compression='none'\n",
    ")"
   ]
  },
  {
   "cell_type": "code",
   "execution_count": 16,
   "metadata": {},
   "outputs": [
    {
     "name": "stdout",
     "output_type": "stream",
     "text": [
      "zstd: is running\n",
      "Starting write_table: [187824.634069246]\n",
      "Done write_table: [187831.74502341]\n",
      "Total time: 0:00:07.110954\n",
      "==========\n",
      "lz4: is running\n",
      "Starting write_table: [187831.745113997]\n",
      "Done write_table: [187837.883311435]\n",
      "Total time: 0:00:06.138197\n",
      "==========\n",
      "brotli: is running\n",
      "Starting write_table: [187837.883515929]\n",
      "Done write_table: [187959.555333221]\n",
      "Total time: 0:02:01.671817\n",
      "==========\n",
      "gzip: is running\n",
      "Starting write_table: [187959.555432089]\n",
      "Done write_table: [188014.497124237]\n",
      "Total time: 0:00:54.941692\n",
      "==========\n",
      "snappy: is running\n",
      "Starting write_table: [188014.497222626]\n",
      "Done write_table: [188020.138380986]\n",
      "Total time: 0:00:05.641158\n",
      "==========\n",
      "none: is running\n",
      "Starting write_table: [188020.138639426]\n",
      "Done write_table: [188025.436030188]\n",
      "Total time: 0:00:05.297391\n",
      "==========\n"
     ]
    }
   ],
   "source": [
    "import pyarrow.parquet as parquet\n",
    "a_table = parquet.read_table(f'data/small/day1/{reddit_place}.parquet')\n",
    "for compression in parquet_compressions:\n",
    "    print(f'{compression}: is running')\n",
    "    time_func(\n",
    "        func=parquet.write_table,\n",
    "        table=a_table,\n",
    "        where=f'data/compressed/parquet/{reddit_place}.parquet.{compression}',\n",
    "        compression=compression\n",
    "    )\n",
    "    print('=' * 10)"
   ]
  },
  {
   "cell_type": "code",
   "execution_count": 17,
   "metadata": {},
   "outputs": [
    {
     "name": "stdout",
     "output_type": "stream",
     "text": [
      "zlib: is running\n",
      "Starting write_table: [188079.066585959]\n",
      "Done write_table: [188109.002437225]\n",
      "Total time: 0:00:29.935851\n",
      "==========\n",
      "snappy: is running\n",
      "Starting write_table: [188109.002525224]\n",
      "Done write_table: [188112.797070755]\n",
      "Total time: 0:00:03.794546\n",
      "==========\n",
      "lz4: is running\n",
      "Starting write_table: [188112.79717046]\n",
      "Done write_table: [188116.239223794]\n",
      "Total time: 0:00:03.442053\n",
      "==========\n",
      "zstd: is running\n",
      "Starting write_table: [188116.23931164]\n",
      "Done write_table: [188121.235151992]\n",
      "Total time: 0:00:04.995840\n",
      "==========\n",
      "uncompressed: is running\n",
      "Starting write_table: [188121.235246894]\n",
      "Done write_table: [188124.640642752]\n",
      "Total time: 0:00:03.405396\n",
      "==========\n"
     ]
    }
   ],
   "source": [
    "import pyarrow.orc as orc\n",
    "a_table = orc.read_table(f'data/small/day1/{reddit_place}.orc')\n",
    "for compression in orc_compressions:\n",
    "    print(f'{compression}: is running')\n",
    "    time_func(\n",
    "        orc.write_table,\n",
    "        table=a_table,\n",
    "        where=f'data/compressed/orc/{reddit_place}.orc.{compression}',\n",
    "        compression=compression\n",
    "    )\n",
    "    print('=' * 10)\n"
   ]
  }
 ],
 "metadata": {
  "interpreter": {
   "hash": "1014a147ebe84edf89cc949d1474b378add343e44159593a1f5b609a8f202a90"
  },
  "kernelspec": {
   "display_name": "Python 3.8.10 ('venv': venv)",
   "language": "python",
   "name": "python3"
  },
  "language_info": {
   "codemirror_mode": {
    "name": "ipython",
    "version": 3
   },
   "file_extension": ".py",
   "mimetype": "text/x-python",
   "name": "python",
   "nbconvert_exporter": "python",
   "pygments_lexer": "ipython3",
   "version": "3.8.10"
  },
  "orig_nbformat": 4
 },
 "nbformat": 4,
 "nbformat_minor": 2
}
